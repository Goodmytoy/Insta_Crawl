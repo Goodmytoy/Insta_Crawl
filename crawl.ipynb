{
 "cells": [
  {
   "cell_type": "code",
   "execution_count": 212,
   "metadata": {},
   "outputs": [],
   "source": [
    "from selenium import webdriver\n",
    "from selenium.webdriver import FirefoxOptions\n",
    "from selenium.webdriver.common.keys import Keys\n",
    "from selenium.webdriver.common.by import By\n",
    "from selenium.webdriver.support import expected_conditions as EC\n",
    "from selenium.webdriver.support.ui import WebDriverWait\n",
    "from selenium.common.exceptions import NoSuchElementException"
   ]
  },
  {
   "cell_type": "code",
   "execution_count": 3,
   "metadata": {},
   "outputs": [
    {
     "name": "stdout",
     "output_type": "stream",
     "text": [
      "Requirement already satisfied: selenium in c:\\users\\seho park\\appdata\\local\\programs\\python\\python312\\lib\\site-packages (4.25.0)\n",
      "Requirement already satisfied: urllib3[socks]<3,>=1.26 in c:\\users\\seho park\\appdata\\local\\programs\\python\\python312\\lib\\site-packages (from selenium) (2.1.0)\n",
      "Requirement already satisfied: trio~=0.17 in c:\\users\\seho park\\appdata\\local\\programs\\python\\python312\\lib\\site-packages (from selenium) (0.23.1)\n",
      "Requirement already satisfied: trio-websocket~=0.9 in c:\\users\\seho park\\appdata\\local\\programs\\python\\python312\\lib\\site-packages (from selenium) (0.11.1)\n",
      "Requirement already satisfied: certifi>=2021.10.8 in c:\\users\\seho park\\appdata\\local\\programs\\python\\python312\\lib\\site-packages (from selenium) (2023.11.17)\n",
      "Requirement already satisfied: typing_extensions~=4.9 in c:\\users\\seho park\\appdata\\local\\programs\\python\\python312\\lib\\site-packages (from selenium) (4.12.2)\n",
      "Requirement already satisfied: websocket-client~=1.8 in c:\\users\\seho park\\appdata\\local\\programs\\python\\python312\\lib\\site-packages (from selenium) (1.8.0)\n",
      "Requirement already satisfied: attrs>=20.1.0 in c:\\users\\seho park\\appdata\\local\\programs\\python\\python312\\lib\\site-packages (from trio~=0.17->selenium) (23.1.0)\n",
      "Requirement already satisfied: sortedcontainers in c:\\users\\seho park\\appdata\\local\\programs\\python\\python312\\lib\\site-packages (from trio~=0.17->selenium) (2.4.0)\n",
      "Requirement already satisfied: idna in c:\\users\\seho park\\appdata\\local\\programs\\python\\python312\\lib\\site-packages (from trio~=0.17->selenium) (3.4)\n",
      "Requirement already satisfied: outcome in c:\\users\\seho park\\appdata\\local\\programs\\python\\python312\\lib\\site-packages (from trio~=0.17->selenium) (1.3.0.post0)\n",
      "Requirement already satisfied: sniffio>=1.3.0 in c:\\users\\seho park\\appdata\\local\\programs\\python\\python312\\lib\\site-packages (from trio~=0.17->selenium) (1.3.0)\n",
      "Requirement already satisfied: cffi>=1.14 in c:\\users\\seho park\\appdata\\local\\programs\\python\\python312\\lib\\site-packages (from trio~=0.17->selenium) (1.16.0)\n",
      "Requirement already satisfied: wsproto>=0.14 in c:\\users\\seho park\\appdata\\local\\programs\\python\\python312\\lib\\site-packages (from trio-websocket~=0.9->selenium) (1.2.0)\n",
      "Requirement already satisfied: pysocks!=1.5.7,<2.0,>=1.5.6 in c:\\users\\seho park\\appdata\\local\\programs\\python\\python312\\lib\\site-packages (from urllib3[socks]<3,>=1.26->selenium) (1.7.1)\n",
      "Requirement already satisfied: pycparser in c:\\users\\seho park\\appdata\\local\\programs\\python\\python312\\lib\\site-packages (from cffi>=1.14->trio~=0.17->selenium) (2.21)\n",
      "Requirement already satisfied: h11<1,>=0.9.0 in c:\\users\\seho park\\appdata\\local\\programs\\python\\python312\\lib\\site-packages (from wsproto>=0.14->trio-websocket~=0.9->selenium) (0.14.0)\n"
     ]
    },
    {
     "name": "stderr",
     "output_type": "stream",
     "text": [
      "\n",
      "[notice] A new release of pip is available: 23.2.1 -> 24.2\n",
      "[notice] To update, run: python.exe -m pip install --upgrade pip\n"
     ]
    }
   ],
   "source": [
    "!pip install --upgrade selenium --trusted-host pypi.org --trusted-host pypi.python.org --trusted-host files.pythonhosted.org"
   ]
  },
  {
   "cell_type": "code",
   "execution_count": 197,
   "metadata": {},
   "outputs": [],
   "source": [
    "from selenium import webdriver\n",
    "from selenium.webdriver.chrome.service import Service\n",
    "from selenium.webdriver.chrome.options import Options\n",
    "\n",
    "# Chrome 옵션 설정\n",
    "chrome_options = Options()\n",
    "# chrome_options.add_argument(\"--headless\")  # GUI 없이 실행하려면 이 옵션을 추가\n",
    "chrome_options.add_argument(\"--no-sandbox\")\n",
    "chrome_options.add_argument(\"--disable-dev-shm-usage\")\n",
    "\n",
    "# Selenium Manager가 ChromeDriver를 자동으로 다운로드하고 관리\n",
    "driver = webdriver.Chrome(options=chrome_options)\n",
    "\n",
    "# 원하는 페이지 열기\n",
    "driver.get(\"https://www.google.com\")"
   ]
  },
  {
   "cell_type": "code",
   "execution_count": 198,
   "metadata": {},
   "outputs": [],
   "source": [
    "driver.get(\"https://www.instagram.com/accounts/login/\")"
   ]
  },
  {
   "cell_type": "code",
   "execution_count": 199,
   "metadata": {},
   "outputs": [],
   "source": [
    "username_form = WebDriverWait(driver, 5).until(EC.presence_of_element_located((By.XPATH, \"//input[@name='username']\")))\n",
    "username_form.send_keys(\"goodmytoy\")\n",
    "\n",
    "password_form = WebDriverWait(driver, 5).until(EC.presence_of_element_located((By.XPATH, \"//input[@name='password']\")))\n",
    "password_form.send_keys(\"kero9092@\")"
   ]
  },
  {
   "cell_type": "code",
   "execution_count": 200,
   "metadata": {},
   "outputs": [],
   "source": [
    "driver.find_elements(By.XPATH, \"//div[contains(text(), '로그인')]\")[0].click()"
   ]
  },
  {
   "cell_type": "code",
   "execution_count": 9,
   "metadata": {},
   "outputs": [],
   "source": [
    "tag = \"UP가전\"\n",
    "driver.get(f\"https://www.instagram.com/tags/{tag}/\")\n",
    "# driver.get(f\"https://www.instagram.com/explore/search/keyword/?q={tag.lower()}\")"
   ]
  },
  {
   "cell_type": "code",
   "execution_count": 6,
   "metadata": {},
   "outputs": [
    {
     "data": {
      "text/plain": [
       "<selenium.webdriver.remote.webelement.WebElement (session=\"aa732f468758930ba616d7db1e0abf4c\", element=\"f.003080432A22817F612B443864DCDA91.d.F2E7F84921628E2E143ADC43522F4356.e.5979\")>"
      ]
     },
     "execution_count": 6,
     "metadata": {},
     "output_type": "execute_result"
    }
   ],
   "source": [
    "WebDriverWait(driver, 10).until(EC.presence_of_element_located((By.XPATH, \"//div/span[@class='x1lliihq x1plvlek xryxfnj x1n2onr6 x1ji0vk5 x18bv5gf x193iq5w xeuugli x1fj9vlw x13faqbe x1vvkbs x1s928wv xhkezso x1gmr53x x1cpjm7i x1fgarty x1943h6x x1i0vuye x1ms8i2q x1s688f x5n08af x4zkp8e xw06pyt x10wh9bi x1wdrske x8viiok x18hxmgj']\")))"
   ]
  },
  {
   "cell_type": "code",
   "execution_count": 23,
   "metadata": {},
   "outputs": [],
   "source": [
    "elems_text = [elem.text for elem in span_elems]\n",
    "search_result_span_elem = span_elems[elems_text.index(\"#up가전\")]\n",
    "search_result_span_elem_class = search_result_span_elem.get_attribute(\"class\")"
   ]
  },
  {
   "cell_type": "code",
   "execution_count": 25,
   "metadata": {},
   "outputs": [
    {
     "data": {
      "text/plain": [
       "'x1lliihq x1plvlek xryxfnj x1n2onr6 x1ji0vk5 x18bv5gf x193iq5w xeuugli x1fj9vlw x13faqbe x1vvkbs x1s928wv xhkezso x1gmr53x x1cpjm7i x1fgarty x1943h6x x1i0vuye x1ms8i2q x1s688f x5n08af x4zkp8e xw06pyt x10wh9bi x1wdrske x8viiok x18hxmgj'"
      ]
     },
     "execution_count": 25,
     "metadata": {},
     "output_type": "execute_result"
    }
   ],
   "source": [
    "search_result_span_elem_class"
   ]
  },
  {
   "cell_type": "code",
   "execution_count": 45,
   "metadata": {},
   "outputs": [],
   "source": [
    "driver.execute_script(\"window.scrollTo(0, document.body.scrollHeight)\")"
   ]
  },
  {
   "cell_type": "code",
   "execution_count": 38,
   "metadata": {},
   "outputs": [],
   "source": [
    "import time"
   ]
  },
  {
   "cell_type": "code",
   "execution_count": null,
   "metadata": {},
   "outputs": [],
   "source": [
    "feed_urls = []\n",
    "last_height = driver.execute_script(\"return document.body.scrollHeight\")\n",
    "retry_count = 0  # 로딩이 되지 않을 때 사용할 카운트\n",
    "MAX_RETRIES = 3  # 새로고침 전 시도 횟수\n",
    "\n",
    "while True:\n",
    "    # 스크롤을 맨 아래로 내림\n",
    "    driver.execute_script(\"window.scrollTo(0, document.body.scrollHeight);\")\n",
    "    \n",
    "    # 10초 대기, 페이지 로딩 대기\n",
    "    time.sleep(10)\n",
    "    \n",
    "    # 새로운 페이지 높이를 확인하여 스크롤이 끝났는지 체크\n",
    "    new_height = driver.execute_script(\"return document.body.scrollHeight\")\n",
    "    \n",
    "    # 새로운 콘텐츠가 로드되지 않았을 때\n",
    "    if new_height == last_height:\n",
    "        retry_count += 1\n",
    "        \n",
    "        if retry_count >= MAX_RETRIES:\n",
    "            # 최대 시도 횟수를 넘었으면 페이지 새로고침\n",
    "            print(\"최대 시도 횟수 도달, 페이지를 새로고침합니다.\")\n",
    "            driver.refresh()\n",
    "            time.sleep(1)  # 새로고침 후 페이지 로드 대기\n",
    "            # feed_urls = []  # URL 리스트 초기화\n",
    "            last_height = driver.execute_script(\"return document.body.scrollHeight\")\n",
    "            retry_count = 0  # 시도 카운트 초기화\n",
    "            continue\n",
    "        else:\n",
    "            # 잠깐 위로 스크롤했다가 다시 아래로 스크롤\n",
    "            print(\"로딩되지 않음, 살짝 위로 스크롤 후 다시 아래로.\")\n",
    "            driver.execute_script(\"window.scrollTo(0, document.body.scrollHeight - 1000);\")\n",
    "            time.sleep(1)  # 잠시 대기\n",
    "            driver.execute_script(\"window.scrollTo(0, document.body.scrollHeight);\")\n",
    "            time.sleep(2)  # 다시 로딩 대기\n",
    "    else:\n",
    "        retry_count = 0  # 로딩이 성공적으로 되었으므로 시도 카운트 초기화\n",
    "\n",
    "    last_height = new_height\n",
    "    \n",
    "    # 새로운 피드 요소 찾기\n",
    "    feed_elems = driver.find_elements(By.XPATH, \"//*[contains(@href, '/p/')]\")\n",
    "    \n",
    "    # 중복된 URL이 있을 수 있으므로 리스트에 추가하기 전에 필터링\n",
    "    for elem in feed_elems:\n",
    "        url = elem.get_attribute(\"href\")\n",
    "        if url not in feed_urls:\n",
    "            feed_urls.append(url)\n",
    "\n",
    "    # 피드 URL 출력 (필요에 따라)\n",
    "    print(feed_urls)"
   ]
  },
  {
   "cell_type": "code",
   "execution_count": 53,
   "metadata": {},
   "outputs": [
    {
     "data": {
      "text/plain": [
       "[]"
      ]
     },
     "execution_count": 53,
     "metadata": {},
     "output_type": "execute_result"
    }
   ],
   "source": [
    "driver.find_elements(By.XPATH, \"//svg[@aria-label='읽어들이는 중...']\")"
   ]
  },
  {
   "cell_type": "code",
   "execution_count": 195,
   "metadata": {},
   "outputs": [],
   "source": [
    "driver.get(\"https://www.instagram.com/p/DBaGhj_zFHyIK6HrI8opezoT7b5Y5sWqN06qNI0/\")"
   ]
  },
  {
   "cell_type": "code",
   "execution_count": 54,
   "metadata": {},
   "outputs": [],
   "source": [
    "nickname_elems = driver.find_elements(By.XPATH, \"//span[contains(text(), 'goodmytoy')]\")\n",
    "nickname_class_names = [elem.get_attribute(\"class\") for elem in nickname_elems if elem.text == \"goodmytoy\"]\n",
    "if len(set(nickname_class_names)) == 1:\n",
    "    nickname_class_name = nickname_class_names[0]"
   ]
  },
  {
   "cell_type": "code",
   "execution_count": null,
   "metadata": {},
   "outputs": [],
   "source": [
    "driver.find_elements(By.XPATH, \"//span[contains(text(), 'goodmytoy')]\")"
   ]
  },
  {
   "cell_type": "code",
   "execution_count": null,
   "metadata": {},
   "outputs": [],
   "source": []
  },
  {
   "cell_type": "code",
   "execution_count": 56,
   "metadata": {},
   "outputs": [],
   "source": [
    "contents_elems = driver.find_elements(By.XPATH, \"//span[contains(text(), '사슴이')]\")\n",
    "contents_class_names = [elem.get_attribute(\"class\") for elem in contents_elems if elem.text == \"사슴이\"]\n",
    "if len(set(contents_class_names)) == 1:\n",
    "    contents_class_name = contents_class_names[0]"
   ]
  },
  {
   "cell_type": "code",
   "execution_count": 108,
   "metadata": {},
   "outputs": [
    {
     "data": {
      "text/plain": [
       "[]"
      ]
     },
     "execution_count": 108,
     "metadata": {},
     "output_type": "execute_result"
    }
   ],
   "source": [
    "driver.find_elements(By.XPATH, \"//span[@class='{contents_class_name}']\")"
   ]
  },
  {
   "cell_type": "code",
   "execution_count": 66,
   "metadata": {},
   "outputs": [],
   "source": [
    "like_count_elems = driver.find_elements(By.XPATH, \"//span[contains(text(), '좋아요')]\")\n",
    "if len(like_count_elems) > 0:\n",
    "    like_count_class_name = [elem.get_attribute(\"class\") for elem in like_count_elems]\n",
    "# contents_class_names = [elem.get_attribute(\"class\") for elem in contents_elems if elem.text == \"사슴이\"]\n",
    "# if len(set(contents_class_names)) == 1:\n",
    "#     contents_class_name = contents_class_names[0]"
   ]
  },
  {
   "cell_type": "code",
   "execution_count": 72,
   "metadata": {},
   "outputs": [],
   "source": [
    "datetime_elems = driver.find_elements(By.XPATH, \"//time[contains(@title, '2024년 10월 22일')]\")\n",
    "if len(datetime_elems) > 0:\n",
    "    datetime_class_name = [elem.get_attribute(\"class\") for elem in datetime_elems]\n",
    "# contents_class_names = [elem.get_attribute(\"class\") for elem in contents_elems if elem.text == \"사슴이\"]\n",
    "# if len(set(contents_class_names)) == 1:\n",
    "#     contents_class_name = contents_class_names[0]"
   ]
  },
  {
   "cell_type": "code",
   "execution_count": 162,
   "metadata": {},
   "outputs": [],
   "source": [
    "contents_class = driver.find_elements(By.XPATH, f\"//span[@class='{contents_class_name}']\")[0]\n",
    "contents_parent_elem = contents_class.find_elements(By.XPATH, \"..\")[0]\n",
    "\n",
    "parent_class_name = contents_parent_elem.get_attribute(\"class\")\n",
    "parent_tag_name = contents_parent_elem.tag_name\n",
    "\n",
    "time_elems = driver.find_elements(By.XPATH, f\"//{parent_tag_name}[@class='{parent_class_name}']//time\")[0]\n",
    "time_class_name = time_elems.get_attribute(\"class\")"
   ]
  },
  {
   "cell_type": "code",
   "execution_count": 167,
   "metadata": {},
   "outputs": [
    {
     "data": {
      "text/plain": [
       "'2024-10-22T01:23:22.000Z'"
      ]
     },
     "execution_count": 167,
     "metadata": {},
     "output_type": "execute_result"
    }
   ],
   "source": [
    "driver.find_elements(By.XPATH, f\"//time[@class='xsgj6o6']\")[0].get_attribute(\"datetime\")"
   ]
  },
  {
   "cell_type": "code",
   "execution_count": 163,
   "metadata": {},
   "outputs": [
    {
     "data": {
      "text/plain": [
       "'xsgj6o6'"
      ]
     },
     "execution_count": 163,
     "metadata": {},
     "output_type": "execute_result"
    }
   ],
   "source": [
    "time_class_name"
   ]
  },
  {
   "cell_type": "code",
   "execution_count": 201,
   "metadata": {},
   "outputs": [],
   "source": [
    "driver.get(\"https://www.instagram.com/p/DBaNfq0zVFNYtwOlTz6yeZ09AqL-fNPhEO1qgM0\")"
   ]
  },
  {
   "cell_type": "code",
   "execution_count": 116,
   "metadata": {},
   "outputs": [
    {
     "ename": "IndexError",
     "evalue": "list index out of range",
     "output_type": "error",
     "traceback": [
      "\u001b[1;31m---------------------------------------------------------------------------\u001b[0m",
      "\u001b[1;31mIndexError\u001b[0m                                Traceback (most recent call last)",
      "Cell \u001b[1;32mIn[116], line 1\u001b[0m\n\u001b[1;32m----> 1\u001b[0m image_next_button \u001b[38;5;241m=\u001b[39m \u001b[43mdriver\u001b[49m\u001b[38;5;241;43m.\u001b[39;49m\u001b[43mfind_elements\u001b[49m\u001b[43m(\u001b[49m\u001b[43mBy\u001b[49m\u001b[38;5;241;43m.\u001b[39;49m\u001b[43mXPATH\u001b[49m\u001b[43m,\u001b[49m\u001b[43m \u001b[49m\u001b[38;5;124;43mf\u001b[39;49m\u001b[38;5;124;43m\"\u001b[39;49m\u001b[38;5;124;43m//button[@aria-label=\u001b[39;49m\u001b[38;5;124;43m'\u001b[39;49m\u001b[38;5;124;43m다음\u001b[39;49m\u001b[38;5;124;43m'\u001b[39;49m\u001b[38;5;124;43m]\u001b[39;49m\u001b[38;5;124;43m\"\u001b[39;49m\u001b[43m)\u001b[49m\u001b[43m[\u001b[49m\u001b[38;5;241;43m0\u001b[39;49m\u001b[43m]\u001b[49m\n",
      "\u001b[1;31mIndexError\u001b[0m: list index out of range"
     ]
    }
   ],
   "source": [
    "image_next_button = driver.find_elements(By.XPATH, f\"//button[@aria-label='다음']\")[0]"
   ]
  },
  {
   "cell_type": "code",
   "execution_count": 202,
   "metadata": {},
   "outputs": [],
   "source": [
    "# driver.get(\"https://www.instagram.com/p/DBaNfq0zVFNYtwOlTz6yeZ09AqL-fNPhEO1qgM0\")\n",
    "image_elems = driver.find_elements(By.XPATH, f\"//img[@alt='Photo by Goodmytoy on October 21, 2024. 사진 설명이 없습니다..']\")[0]\n",
    "image_classname = image_elems.get_attribute(\"class\")\n",
    "\n",
    "image_parent_classname = image_elems.find_elements(By.XPATH, \"../../../..\")[0].get_attribute(\"class\")"
   ]
  },
  {
   "cell_type": "code",
   "execution_count": 203,
   "metadata": {},
   "outputs": [],
   "source": [
    "image_urls = []\n",
    "image_elems = driver.find_elements(By.XPATH, f\"//div[@class='{image_parent_classname}']//img[@class='{image_classname}']\")\n",
    "temp_image_urls = [elem.get_attribute(\"src\") for elem in image_elems]\n",
    "\n",
    "for x in  temp_image_urls:\n",
    "    if x in image_urls:\n",
    "        continue\n",
    "    else:\n",
    "        image_urls.append(x)\n"
   ]
  },
  {
   "cell_type": "code",
   "execution_count": 204,
   "metadata": {},
   "outputs": [
    {
     "data": {
      "text/plain": [
       "['https://scontent.cdninstagram.com/v/t51.29350-15/464204973_1077786673726583_4402373545012458358_n.heic?stp=dst-jpg_e35&efg=eyJ2ZW5jb2RlX3RhZyI6ImltYWdlX3VybGdlbi4xNDQweDE0NDAuc2RyLmYyOTM1MC5kZWZhdWx0X2ltYWdlIn0&_nc_ht=scontent.cdninstagram.com&_nc_cat=111&_nc_ohc=NU2aL-2YeIcQ7kNvgHsxwCr&_nc_gid=d86c82bb2e214a7ea6abe82da8fe79cc&edm=APs17CUBAAAA&ccb=7-5&ig_cache_key=MzQ4NDE1NjYwNTc2MjM5MjIwMg%3D%3D.3-ccb7-5&oh=00_AYBuLnku6e-UoRPGt42K_s89us5vJxFZ6kfKROS-AVgMhQ&oe=671E28D4&_nc_sid=10d13b',\n",
       " 'https://scontent.cdninstagram.com/v/t51.29350-15/464380732_1359389834863928_6351217160729204055_n.heic?stp=dst-jpg_e35&efg=eyJ2ZW5jb2RlX3RhZyI6ImltYWdlX3VybGdlbi4xNDQweDE0NDAuc2RyLmYyOTM1MC5kZWZhdWx0X2ltYWdlIn0&_nc_ht=scontent.cdninstagram.com&_nc_cat=108&_nc_ohc=ejZfqPVpE8EQ7kNvgEWonuj&_nc_gid=d86c82bb2e214a7ea6abe82da8fe79cc&edm=APs17CUBAAAA&ccb=7-5&ig_cache_key=MzQ4NDE1NjYwNTc2MjUyMDY3NQ%3D%3D.3-ccb7-5&oh=00_AYBpmTrSLacI_xc1ASC8EGoj5mLK8X1rbfBDGVXlhBxbwA&oe=671E2BE4&_nc_sid=10d13b']"
      ]
     },
     "execution_count": 204,
     "metadata": {},
     "output_type": "execute_result"
    }
   ],
   "source": [
    "image_urls"
   ]
  },
  {
   "cell_type": "code",
   "execution_count": 140,
   "metadata": {},
   "outputs": [
    {
     "data": {
      "text/plain": [
       "'https://scontent.cdninstagram.com/v/t51.29350-15/464380732_1359389834863928_6351217160729204055_n.heic?stp=dst-jpg_e35&efg=eyJ2ZW5jb2RlX3RhZyI6ImltYWdlX3VybGdlbi4xNDQweDE0NDAuc2RyLmYyOTM1MC5kZWZhdWx0X2ltYWdlIn0&_nc_ht=scontent.cdninstagram.com&_nc_cat=108&_nc_ohc=ejZfqPVpE8EQ7kNvgGei7bv&_nc_gid=b63e0662ce944c319371a5bf1a1b4d87&edm=APs17CUBAAAA&ccb=7-5&ig_cache_key=MzQ4NDE1NjYwNTc2MjUyMDY3NQ%3D%3D.3-ccb7-5&oh=00_AYCQ9-Dv_5NZEaZQU2C7w2MRD5qTVC8GrSX7IDs3tx-WkQ&oe=671CDA64&_nc_sid=10d13b'"
      ]
     },
     "execution_count": 140,
     "metadata": {},
     "output_type": "execute_result"
    }
   ],
   "source": [
    "driver.find_elements(By.XPATH, f\"//div[@class='{image_parent_classname}']//img[@class='{image_classname}']\")[1].get_attribute(\"src\")"
   ]
  },
  {
   "cell_type": "code",
   "execution_count": 130,
   "metadata": {},
   "outputs": [
    {
     "data": {
      "text/plain": [
       "'x5yr21d xu96u03 x10l6tqk x13vifvy x87ps6o xh8yej3'"
      ]
     },
     "execution_count": 130,
     "metadata": {},
     "output_type": "execute_result"
    }
   ],
   "source": [
    "image_classname"
   ]
  },
  {
   "cell_type": "code",
   "execution_count": 115,
   "metadata": {},
   "outputs": [],
   "source": [
    "image_next_button.click()"
   ]
  },
  {
   "cell_type": "code",
   "execution_count": 86,
   "metadata": {},
   "outputs": [],
   "source": [
    "temp = contents_class.find_elements(By.XPATH, \"..\")[0]"
   ]
  },
  {
   "cell_type": "code",
   "execution_count": 93,
   "metadata": {},
   "outputs": [
    {
     "data": {
      "text/plain": [
       "'div'"
      ]
     },
     "execution_count": 93,
     "metadata": {},
     "output_type": "execute_result"
    }
   ],
   "source": [
    "temp.tag_name"
   ]
  },
  {
   "cell_type": "code",
   "execution_count": null,
   "metadata": {},
   "outputs": [],
   "source": [
    "x9f619 xjbqb8w x78zum5 x168nmei x13lgxp2 x5pf9jr xo71vjh x1uhb9sk x1plvlek xryxfnj x1c4vz4f x2lah0s xdt5ytf xqjyukv x1qjc9v5 x1oa3qoh x1nhvcw1\n",
    "x9f619 xjbqb8w x78zum5 x168nmei x13lgxp2 x5pf9jr xo71vjh x1uhb9sk x1plvlek xryxfnj x1c4vz4f x2lah0s xdt5ytf xqjyukv x1qjc9v5 x1oa3qoh x1nhvcw1\n",
    "\n",
    "x9f619 xjbqb8w x78zum5 x168nmei x13lgxp2 x5pf9jr xo71vjh x1uhb9sk x1plvlek xryxfnj x1c4vz4f x2lah0s xdt5ytf xqjyukv x1qjc9v5 x1oa3qoh x1nhvcw1\n",
    "x9f619 xjbqb8w x78zum5 x168nmei x13lgxp2 x5pf9jr xo71vjh x1uhb9sk x1plvlek xryxfnj x1iyjqo2 x2lwn1j xeuugli xdt5ytf xqjyukv x1qjc9v5 x1oa3qoh x1nhvcw1"
   ]
  },
  {
   "cell_type": "code",
   "execution_count": 105,
   "metadata": {},
   "outputs": [
    {
     "data": {
      "text/plain": [
       "\"//div[@class='x9f619 xjbqb8w x78zum5 x168nmei x13lgxp2 x5pf9jr xo71vjh x1uhb9sk x1plvlek xryxfnj x1c4vz4f x2lah0s xdt5ytf xqjyukv x1qjc9v5 x1oa3qoh x1nhvcw1']/span/time\""
      ]
     },
     "execution_count": 105,
     "metadata": {},
     "output_type": "execute_result"
    }
   ],
   "source": [
    "f\"//{parent_tag_name}[@class='{parent_class_name}']/span/time\""
   ]
  },
  {
   "cell_type": "code",
   "execution_count": 107,
   "metadata": {},
   "outputs": [
    {
     "data": {
      "text/plain": [
       "'xsgj6o6'"
      ]
     },
     "execution_count": 107,
     "metadata": {},
     "output_type": "execute_result"
    }
   ],
   "source": [
    "contents_class = driver.find_elements(By.XPATH, f\"//span[@class='{contents_class_name}']\")[0]\n",
    "contents_parent_elem = contents_class.find_elements(By.XPATH, \"..\")[0]\n",
    "\n",
    "parent_class_name = contents_parent_elem.get_attribute(\"class\")\n",
    "parent_tag_name = contents_parent_elem.tag_name\n",
    "\n",
    "time_elems = driver.find_elements(By.XPATH, f\"//{parent_tag_name}[@class='{parent_class_name}']//time\")[0]\n",
    "time_class_name = time_elems.get_attribute(\"class\")"
   ]
  },
  {
   "cell_type": "code",
   "execution_count": 74,
   "metadata": {},
   "outputs": [
    {
     "data": {
      "text/plain": [
       "['xsgj6o6',\n",
       " 'x1ejq31n xd10rxx x1sy0etr x17r0tee x1roi4f4 xexx8yu x4uap5 x18d9i69 xkhd6sd x1n2onr6',\n",
       " 'x1p4m5qa']"
      ]
     },
     "execution_count": 74,
     "metadata": {},
     "output_type": "execute_result"
    }
   ],
   "source": [
    "x193iq5w xeuugli x1fj9vlw x13faqbe x1vvkbs xt0psk2 x1i0vuye xvs91rp xo1l8bm x1roi4f4 x10wh9bi x1wdrske x8viiok x18hxmgj\n",
    "x193iq5w xeuugli x1fj9vlw x13faqbe x1vvkbs xt0psk2 x1i0vuye xvs91rp xo1l8bm x5n08af x10wh9bi x1wdrske x8viiok x18hxmgj"
   ]
  },
  {
   "cell_type": "code",
   "execution_count": 67,
   "metadata": {},
   "outputs": [
    {
     "data": {
      "text/plain": [
       "['x193iq5w xeuugli x1fj9vlw x13faqbe x1vvkbs xt0psk2 x1i0vuye xvs91rp x1s688f x5n08af x10wh9bi x1wdrske x8viiok x18hxmgj']"
      ]
     },
     "execution_count": 67,
     "metadata": {},
     "output_type": "execute_result"
    }
   ],
   "source": [
    "like_count_class_name"
   ]
  },
  {
   "cell_type": "code",
   "execution_count": 38,
   "metadata": {},
   "outputs": [],
   "source": [
    "from collections import Counter"
   ]
  },
  {
   "cell_type": "code",
   "execution_count": 44,
   "metadata": {},
   "outputs": [],
   "source": [
    "cntr = Counter(nickname_elems)"
   ]
  },
  {
   "cell_type": "code",
   "execution_count": 48,
   "metadata": {},
   "outputs": [
    {
     "data": {
      "text/plain": [
       "[('xt0psk2', 2),\n",
       " ('_ap3a _aaco _aacw _aacx _aad7 _aade', 2),\n",
       " ('x1lliihq x1plvlek xryxfnj x1n2onr6 x1ji0vk5 x18bv5gf x193iq5w xeuugli x1fj9vlw x13faqbe x1vvkbs x1s928wv xhkezso x1gmr53x x1cpjm7i x1fgarty x1943h6x x1i0vuye xvs91rp x1s688f x5n08af x10wh9bi x1wdrske x8viiok x18hxmgj',\n",
       "  1)]"
      ]
     },
     "execution_count": 48,
     "metadata": {},
     "output_type": "execute_result"
    }
   ],
   "source": [
    "cntr.most_common()"
   ]
  },
  {
   "cell_type": "code",
   "execution_count": 29,
   "metadata": {},
   "outputs": [
    {
     "data": {
      "text/plain": [
       "'xt0psk2'"
      ]
     },
     "execution_count": 29,
     "metadata": {},
     "output_type": "execute_result"
    }
   ],
   "source": [
    "nickname_elems[1].get_attribute(\"class\")"
   ]
  },
  {
   "cell_type": "code",
   "execution_count": 10,
   "metadata": {},
   "outputs": [],
   "source": [
    "driver.get(\"https://www.instagram.com/p/CZLWfYGghrz/\")"
   ]
  },
  {
   "cell_type": "code",
   "execution_count": 63,
   "metadata": {},
   "outputs": [
    {
     "data": {
      "text/plain": [
       "['https://www.instagram.com/p/CZLWfYGghrz/',\n",
       " 'https://www.instagram.com/p/CeNbW-HJ3Tv/',\n",
       " 'https://www.instagram.com/p/DAkrkKLPwfw/',\n",
       " 'https://www.instagram.com/p/C_O-T-3S7QZ/',\n",
       " 'https://www.instagram.com/p/C_7scnjpoYV/',\n",
       " 'https://www.instagram.com/p/C_NF0iDye2Y/',\n",
       " 'https://www.instagram.com/p/C_NJWqmJWcK/',\n",
       " 'https://www.instagram.com/p/C_484LgJ_22/',\n",
       " 'https://www.instagram.com/p/DAkrh25S5K5/',\n",
       " 'https://www.instagram.com/p/C_7DuUYB5LN/',\n",
       " 'https://www.instagram.com/p/C_yE7SPSVn1/',\n",
       " 'https://www.instagram.com/p/C_665Yahp34/',\n",
       " 'https://www.instagram.com/p/Co7JziVr_qV/',\n",
       " 'https://www.instagram.com/p/C7ny8aEyvBF/',\n",
       " 'https://www.instagram.com/p/Ch6ssU1pP0b/',\n",
       " 'https://www.instagram.com/p/C-raAZATe3r/',\n",
       " 'https://www.instagram.com/p/CkP2-MYB0z6/',\n",
       " 'https://www.instagram.com/p/CihLasDPDtI/',\n",
       " 'https://www.instagram.com/p/C_pIii6JIsh/',\n",
       " 'https://www.instagram.com/p/C5ZvmBqyWLD/',\n",
       " 'https://www.instagram.com/p/DAmy1qmSvIx/',\n",
       " 'https://www.instagram.com/p/ChpGujePg9G/',\n",
       " 'https://www.instagram.com/p/C4ZO1EwPiHp/',\n",
       " 'https://www.instagram.com/p/C4vJUjWhXUL/',\n",
       " 'https://www.instagram.com/p/Ch1hB2zvfB8/',\n",
       " 'https://www.instagram.com/p/CkVfmlZJVjF/',\n",
       " 'https://www.instagram.com/p/Ch_mZpup86n/',\n",
       " 'https://www.instagram.com/p/Cln-pyTJf-X/',\n",
       " 'https://www.instagram.com/p/C_NGqyfTgu7/',\n",
       " 'https://www.instagram.com/p/Cl0ArEsy1DH/',\n",
       " 'https://www.instagram.com/p/C6Us8GEyhGx/',\n",
       " 'https://www.instagram.com/p/C4Zky1IJ2Q5/',\n",
       " 'https://www.instagram.com/p/Co7Ofenv4_h/',\n",
       " 'https://www.instagram.com/p/CeUylVPhPJI/',\n",
       " 'https://www.instagram.com/p/C5oJByNPce0/',\n",
       " 'https://www.instagram.com/p/CZRGCiFPhEj/',\n",
       " 'https://www.instagram.com/p/Cl5BYQqJsRt/',\n",
       " 'https://www.instagram.com/p/Cl-cPEtr7Ro/',\n",
       " 'https://www.instagram.com/p/CmCHS7RPNUq/',\n",
       " 'https://www.instagram.com/p/CmOw46DLpXK/',\n",
       " 'https://www.instagram.com/p/DAiOxpWJUQP/',\n",
       " 'https://www.instagram.com/p/ClS-Sd2P-nm/',\n",
       " 'https://www.instagram.com/p/Ch9GGKCv7sV/',\n",
       " 'https://www.instagram.com/p/Ch982t9JA8v/',\n",
       " 'https://www.instagram.com/p/Ch9xKjtJVTu/',\n",
       " 'https://www.instagram.com/p/CtaDr-lyIGS/',\n",
       " 'https://www.instagram.com/p/C_7rxv6JhAB/',\n",
       " 'https://www.instagram.com/p/C5m_f9vyvxl/',\n",
       " 'https://www.instagram.com/p/Cie7omUBhmo/',\n",
       " 'https://www.instagram.com/p/C5p9PyPueG0/',\n",
       " 'https://www.instagram.com/p/CorpHWYr1i-/',\n",
       " 'https://www.instagram.com/p/CkNhGH3P3Lm/',\n",
       " 'https://www.instagram.com/p/C5ZpBOdPCtc/',\n",
       " 'https://www.instagram.com/p/C5m4c1_pzJc/',\n",
       " 'https://www.instagram.com/p/Cl0su4zBOrS/',\n",
       " 'https://www.instagram.com/p/C_7rf00P300/',\n",
       " 'https://www.instagram.com/p/C_PT4w9Jxij/',\n",
       " 'https://www.instagram.com/p/C4uWC1BL1_6/',\n",
       " 'https://www.instagram.com/p/CZ8fqwDPle6/',\n",
       " 'https://www.instagram.com/p/Cl5EPC0vU11/',\n",
       " 'https://www.instagram.com/p/CmF1YnDpoC6/',\n",
       " 'https://www.instagram.com/p/Cl8e4lvJCRz/',\n",
       " 'https://www.instagram.com/p/DAiOqR3JFN1/',\n",
       " 'https://www.instagram.com/p/ClleZ1XPQsU/',\n",
       " 'https://www.instagram.com/p/CiO1TzxL9hH/',\n",
       " 'https://www.instagram.com/p/ClyHRSXJs05/',\n",
       " 'https://www.instagram.com/p/Chw8fMwPhdU/',\n",
       " 'https://www.instagram.com/p/C_po0n6JD1N/',\n",
       " 'https://www.instagram.com/p/CiPXbJapoku/',\n",
       " 'https://www.instagram.com/p/CiPXLuxhshL/',\n",
       " 'https://www.instagram.com/p/CiMu-FSuxYo/',\n",
       " 'https://www.instagram.com/p/C_TCTz6q1q6/',\n",
       " 'https://www.instagram.com/p/C4ucrWgST16/',\n",
       " 'https://www.instagram.com/p/DAkG-71yFDS/',\n",
       " 'https://www.instagram.com/p/CfU2gx2PNL-/',\n",
       " 'https://www.instagram.com/p/Ch9sA8APXlR/',\n",
       " 'https://www.instagram.com/p/C_enTeKyAIg/',\n",
       " 'https://www.instagram.com/p/C7odsuyBzXG/',\n",
       " 'https://www.instagram.com/p/C5nBbIsvite/',\n",
       " 'https://www.instagram.com/p/CeKnZgBpuev/',\n",
       " 'https://www.instagram.com/p/C6Ob5ZZJNVO/',\n",
       " 'https://www.instagram.com/p/C-o3jmjPXnA/',\n",
       " 'https://www.instagram.com/p/C5bFwMArI2p/',\n",
       " 'https://www.instagram.com/p/CifRSDEviCA/',\n",
       " 'https://www.instagram.com/p/ClyLZLqpHoC/',\n",
       " 'https://www.instagram.com/p/ClfWPLOP3SR/',\n",
       " 'https://www.instagram.com/p/ClppQfsJcD2/',\n",
       " 'https://www.instagram.com/p/Ch3wRO5L7QZ/',\n",
       " 'https://www.instagram.com/p/CZpNafcBwy7/',\n",
       " 'https://www.instagram.com/p/ClgBkJUJ5h3/',\n",
       " 'https://www.instagram.com/p/CZeFV5VJ-Hy/',\n",
       " 'https://www.instagram.com/p/CZaYWMdBv0I/',\n",
       " 'https://www.instagram.com/p/ChXGW0ApQv2/',\n",
       " 'https://www.instagram.com/p/ChrMOaLuNge/',\n",
       " 'https://www.instagram.com/p/ChrMZ4ouNX3/',\n",
       " 'https://www.instagram.com/p/C_NYJmiyVYy/',\n",
       " 'https://www.instagram.com/p/C_5ZiGohcQX/',\n",
       " 'https://www.instagram.com/p/CcNNCP-P2PN/',\n",
       " 'https://www.instagram.com/p/C6Pu3rUyTZa/',\n",
       " 'https://www.instagram.com/p/C_3XyU9zuz6/',\n",
       " 'https://www.instagram.com/p/ChWVtqbJ6aZ/',\n",
       " 'https://www.instagram.com/p/Ch9z726h7yY/',\n",
       " 'https://www.instagram.com/p/Ch9y89EP0oA/',\n",
       " 'https://www.instagram.com/p/DAZq5B2TQ16/',\n",
       " 'https://www.instagram.com/p/Cl-sM8WSJm7/',\n",
       " 'https://www.instagram.com/p/C4YHn7Zv4Iv/',\n",
       " 'https://www.instagram.com/p/C5XstkyJ8Lk/',\n",
       " 'https://www.instagram.com/p/CliaTUKp6QG/',\n",
       " 'https://www.instagram.com/p/C7twfMePhqP/',\n",
       " 'https://www.instagram.com/p/ClEJdYSpCjL/',\n",
       " 'https://www.instagram.com/p/Cl-RIYOp8oh/',\n",
       " 'https://www.instagram.com/p/ClyZ5tYPZRC/',\n",
       " 'https://www.instagram.com/p/CmOF_auJQar/',\n",
       " 'https://www.instagram.com/p/CHwW9k5BXgg/',\n",
       " 'https://www.instagram.com/p/DAxZsMDTfJy/',\n",
       " 'https://www.instagram.com/p/C_SO4CaJ2ic/',\n",
       " 'https://www.instagram.com/p/CifUL99J8Tf/',\n",
       " 'https://www.instagram.com/p/ChGyGQ_pVfk/',\n",
       " 'https://www.instagram.com/p/CiPEGOTpMPx/',\n",
       " 'https://www.instagram.com/p/C_eK44JhN5W/',\n",
       " 'https://www.instagram.com/p/CiMu_1OuncP/',\n",
       " 'https://www.instagram.com/p/CieniMQpQiw/',\n",
       " 'https://www.instagram.com/p/Ch9zyEtPp_O/',\n",
       " 'https://www.instagram.com/p/CegxP61PaSq/',\n",
       " 'https://www.instagram.com/p/Ch9zUJrL27m/',\n",
       " 'https://www.instagram.com/p/C_NvSOvvNl-/',\n",
       " 'https://www.instagram.com/p/C6WCHaNSGqL/',\n",
       " 'https://www.instagram.com/p/CeJXoRsJUkg/',\n",
       " 'https://www.instagram.com/p/C_PSRGkyHt4/',\n",
       " 'https://www.instagram.com/p/C7seQvRP-Yp/',\n",
       " 'https://www.instagram.com/p/C_g4ZfeTnak/',\n",
       " 'https://www.instagram.com/p/ClXBwxxBBWn/',\n",
       " 'https://www.instagram.com/p/CmJdOusJqO-/',\n",
       " 'https://www.instagram.com/p/ClSRQ8oPp0m/',\n",
       " 'https://www.instagram.com/p/CZ8fjW_shYV/',\n",
       " 'https://www.instagram.com/p/DAmj_Z_hSxJ/',\n",
       " 'https://www.instagram.com/p/ClqIwO6SUXf/',\n",
       " 'https://www.instagram.com/p/CieY2cPJPK_/',\n",
       " 'https://www.instagram.com/p/CZktWgshbhk/',\n",
       " 'https://www.instagram.com/p/ChXJrjvpyPP/',\n",
       " 'https://www.instagram.com/p/ChXJydyp1uq/',\n",
       " 'https://www.instagram.com/p/ChXJlI9JLth/',\n",
       " 'https://www.instagram.com/p/C_UN2W8TS1D/',\n",
       " 'https://www.instagram.com/p/ChXVmlnpGek/',\n",
       " 'https://www.instagram.com/p/CiSDDXxh6GV/',\n",
       " 'https://www.instagram.com/p/C_eldAUSpeM/',\n",
       " 'https://www.instagram.com/p/ChXJwTUpM-p/',\n",
       " 'https://www.instagram.com/p/C_Mm_DYhDi8/',\n",
       " 'https://www.instagram.com/p/C_SVyGLREjf/',\n",
       " 'https://www.instagram.com/p/ChXJ21hJUTJ/',\n",
       " 'https://www.instagram.com/p/ChEfHf0vXos/',\n",
       " 'https://www.instagram.com/p/CZeo9eXpFEm/',\n",
       " 'https://www.instagram.com/p/ChTIFPMhFbx/',\n",
       " 'https://www.instagram.com/p/DBBoeV_ydlR/',\n",
       " 'https://www.instagram.com/p/CfjIDvKplJ2/',\n",
       " 'https://www.instagram.com/p/C_675aSTzeu/',\n",
       " 'https://www.instagram.com/p/Ch90ZvHvkfl/',\n",
       " 'https://www.instagram.com/p/CeiHsDEr3Ga/',\n",
       " 'https://www.instagram.com/p/ChGYgOHha8X/',\n",
       " 'https://www.instagram.com/p/CmI_xM9LOPH/',\n",
       " 'https://www.instagram.com/p/CmBTyBfpiIS/',\n",
       " 'https://www.instagram.com/p/CZRGIikL4pt/',\n",
       " 'https://www.instagram.com/p/C_T5-sfzfJ5/',\n",
       " 'https://www.instagram.com/p/ChLzNxuByc_/',\n",
       " 'https://www.instagram.com/p/Chry-VKJjPe/',\n",
       " 'https://www.instagram.com/p/CiRJgl0pf0a/',\n",
       " 'https://www.instagram.com/p/C_VidjQS_L3/',\n",
       " 'https://www.instagram.com/p/C_SelofJX9f/',\n",
       " 'https://www.instagram.com/p/C_ppotSJgwG/',\n",
       " 'https://www.instagram.com/p/CZL4Tf3Pqmm/',\n",
       " 'https://www.instagram.com/p/Cl0Kgajvs16/',\n",
       " 'https://www.instagram.com/p/ChW7B1_LGqL/',\n",
       " 'https://www.instagram.com/p/C5fX86kyZ3Z/',\n",
       " 'https://www.instagram.com/p/CeOemEVJgYA/',\n",
       " 'https://www.instagram.com/p/Cex2WCxpbiZ/',\n",
       " 'https://www.instagram.com/p/ClUs_E7vY3w/',\n",
       " 'https://www.instagram.com/p/CevSnqGpo-M/',\n",
       " 'https://www.instagram.com/p/ClDTYINPxLv/',\n",
       " 'https://www.instagram.com/p/ClVUm1KJ3AO/',\n",
       " 'https://www.instagram.com/p/ClYGcidSCKu/',\n",
       " 'https://www.instagram.com/p/CeWDZl-po1Y/',\n",
       " 'https://www.instagram.com/p/C_McLTEB2Ui/',\n",
       " 'https://www.instagram.com/p/C_7YS24PCy8/',\n",
       " 'https://www.instagram.com/p/CmF7dVNP4pO/',\n",
       " 'https://www.instagram.com/p/ChXM9mXvg_P/',\n",
       " 'https://www.instagram.com/p/CeONGEzpEOC/',\n",
       " 'https://www.instagram.com/p/C_pBloehVEd/',\n",
       " 'https://www.instagram.com/p/CiPTON1JOK6/',\n",
       " 'https://www.instagram.com/p/CfLBWgmvIhN/',\n",
       " 'https://www.instagram.com/p/Ch9nnonJRH5/',\n",
       " 'https://www.instagram.com/p/C_pRrAYS8tr/',\n",
       " 'https://www.instagram.com/p/CZOc24MhXtT/',\n",
       " 'https://www.instagram.com/p/C_8MIARBRvk/',\n",
       " 'https://www.instagram.com/p/Ch95cRwhsRj/',\n",
       " 'https://www.instagram.com/p/ChHa3I3pun0/',\n",
       " 'https://www.instagram.com/p/CZWpcHkJIoc/',\n",
       " 'https://www.instagram.com/p/DAsiVuzpc_3/',\n",
       " 'https://www.instagram.com/p/ChkCtJZpA2O/',\n",
       " 'https://www.instagram.com/p/DAkqJY3y2Kj/',\n",
       " 'https://www.instagram.com/p/C-1RkF5N9Rb/',\n",
       " 'https://www.instagram.com/p/Cl54FIbvHjs/',\n",
       " 'https://www.instagram.com/p/Cu_tjGfONcJ/',\n",
       " 'https://www.instagram.com/p/CorTnJ-PHs2/',\n",
       " 'https://www.instagram.com/p/CmAopdkvzoB/',\n",
       " 'https://www.instagram.com/p/CbJxHiPL6iW/',\n",
       " 'https://www.instagram.com/p/Cl07EMbJAA7/',\n",
       " 'https://www.instagram.com/p/CvOTbsQPpOP/',\n",
       " 'https://www.instagram.com/p/Cor3kBKh4Iz/',\n",
       " 'https://www.instagram.com/p/ClTG_nJvxjc/',\n",
       " 'https://www.instagram.com/p/Cgdaa22hfZF/',\n",
       " 'https://www.instagram.com/p/DAlVabEhReK/',\n",
       " 'https://www.instagram.com/p/C_7pYt0JXrR/',\n",
       " 'https://www.instagram.com/p/C_Pq0Hsp3B1/',\n",
       " 'https://www.instagram.com/p/C_7qu3OpxWj/',\n",
       " 'https://www.instagram.com/p/C_MsV40y2hH/',\n",
       " 'https://www.instagram.com/p/Ch9784bp_2i/',\n",
       " 'https://www.instagram.com/p/CjpnRYSJ6kc/',\n",
       " 'https://www.instagram.com/p/CieKL8FpzqO/',\n",
       " 'https://www.instagram.com/p/C_M1k8YpHLU/',\n",
       " 'https://www.instagram.com/p/C_X9OLfh-Bn/',\n",
       " 'https://www.instagram.com/p/C_MpWONvXuJ/',\n",
       " 'https://www.instagram.com/p/C_r-vZcJkHz/',\n",
       " 'https://www.instagram.com/p/C_k34_rP-vv/',\n",
       " 'https://www.instagram.com/p/C_X89syB3or/',\n",
       " 'https://www.instagram.com/p/Ch9zk5fvd-B/',\n",
       " 'https://www.instagram.com/p/C4X8-1uys1i/',\n",
       " 'https://www.instagram.com/p/DAtXmxvzSp3/',\n",
       " 'https://www.instagram.com/p/C_W2yloBUZW/',\n",
       " 'https://www.instagram.com/p/CignY1MvXRw/',\n",
       " 'https://www.instagram.com/p/C7n2CGspCSD/',\n",
       " 'https://www.instagram.com/p/ChbcbwqPEco/',\n",
       " 'https://www.instagram.com/p/ChWoNxrJMmB/',\n",
       " 'https://www.instagram.com/p/C-XJBELhi3o/',\n",
       " 'https://www.instagram.com/p/ChVzSOlPJsa/',\n",
       " 'https://www.instagram.com/p/C1_top2vYcp/',\n",
       " 'https://www.instagram.com/p/ChXXcsnBQIe/',\n",
       " 'https://www.instagram.com/p/C_X9OF4BWG1/',\n",
       " 'https://www.instagram.com/p/C_X9ONxhp7D/',\n",
       " 'https://www.instagram.com/p/ChH_Y6CJGZq/',\n",
       " 'https://www.instagram.com/p/C_NVkgOyb4-/',\n",
       " 'https://www.instagram.com/p/C_SP7DUJxBa/',\n",
       " 'https://www.instagram.com/p/C_SkSJhSdVV/',\n",
       " 'https://www.instagram.com/p/DAmlIauyfVj/',\n",
       " 'https://www.instagram.com/p/ChXD0qpvGCs/',\n",
       " 'https://www.instagram.com/p/C_uEst-zJmy/',\n",
       " 'https://www.instagram.com/p/C_SPDcrJbRd/',\n",
       " 'https://www.instagram.com/p/CZYlTuiAhsZ/',\n",
       " 'https://www.instagram.com/p/DAtKM3lh9nA/',\n",
       " 'https://www.instagram.com/p/C5lObsTyXON/',\n",
       " 'https://www.instagram.com/p/ChR1YRmveAu/',\n",
       " 'https://www.instagram.com/p/CfAjkRlpmg3/',\n",
       " 'https://www.instagram.com/p/DBB0liZTd3e/',\n",
       " 'https://www.instagram.com/p/C_Uws1tS773/',\n",
       " 'https://www.instagram.com/p/Ch6qiDMPe_j/',\n",
       " 'https://www.instagram.com/p/CifhStCB1cp/',\n",
       " 'https://www.instagram.com/p/C_8NQMoynlG/',\n",
       " 'https://www.instagram.com/p/ChXJ0a_pDHq/',\n",
       " 'https://www.instagram.com/p/CmF0La4SV36/',\n",
       " 'https://www.instagram.com/p/CZcK4y_pJPj/',\n",
       " 'https://www.instagram.com/p/C_TgaWDhuBN/',\n",
       " 'https://www.instagram.com/p/ChU8Edjpcn2/',\n",
       " 'https://www.instagram.com/p/C_YEay4SaFJ/',\n",
       " 'https://www.instagram.com/p/C_SZiAvpvoE/',\n",
       " 'https://www.instagram.com/p/ChGmyusr0vl/',\n",
       " 'https://www.instagram.com/p/C_U6wHepRwo/',\n",
       " 'https://www.instagram.com/p/CZnxJhbFYdD/',\n",
       " 'https://www.instagram.com/p/C_S1575v3-o/',\n",
       " 'https://www.instagram.com/p/CZUR_lWBTZk/',\n",
       " 'https://www.instagram.com/p/C_S1V5IBvIb/',\n",
       " 'https://www.instagram.com/p/CZL_SMXh4Vw/',\n",
       " 'https://www.instagram.com/p/ChHF6ZzJmkV/',\n",
       " 'https://www.instagram.com/p/ClCxxHZP3N7/',\n",
       " 'https://www.instagram.com/p/C-PxANrSsSX/',\n",
       " 'https://www.instagram.com/p/C_MpA9Syjl4/',\n",
       " 'https://www.instagram.com/p/Cl_WgtDyVcT/',\n",
       " 'https://www.instagram.com/p/ChdmIRRPWky/',\n",
       " 'https://www.instagram.com/p/DAiOupIpwql/',\n",
       " 'https://www.instagram.com/p/ChJWNrEJFMM/',\n",
       " 'https://www.instagram.com/p/C_t-cE9yhjo/',\n",
       " 'https://www.instagram.com/p/ChXLPZAJlJX/',\n",
       " 'https://www.instagram.com/p/Cao629BPiro/',\n",
       " 'https://www.instagram.com/p/Cb4JGmnrr5S/',\n",
       " 'https://www.instagram.com/p/DAmR0DOTiPm/',\n",
       " 'https://www.instagram.com/p/C_Xne9_puOA/',\n",
       " 'https://www.instagram.com/p/C_SXkUXSxYL/',\n",
       " 'https://www.instagram.com/p/C_1oUObTgwc/',\n",
       " 'https://www.instagram.com/p/C_Nvu0jSqzo/',\n",
       " 'https://www.instagram.com/p/C_VocD5BUqf/',\n",
       " 'https://www.instagram.com/p/C_XnPYiJv39/',\n",
       " 'https://www.instagram.com/p/C_UBmB4B2hk/',\n",
       " 'https://www.instagram.com/p/C_4Tz9iSbmF/',\n",
       " 'https://www.instagram.com/p/C_NH7NdyNiH/',\n",
       " 'https://www.instagram.com/p/CfMpyULPq0X/',\n",
       " 'https://www.instagram.com/p/C_ZEVAoBlxF/',\n",
       " 'https://www.instagram.com/p/C_Y2Srahwzz/',\n",
       " 'https://www.instagram.com/p/CZZbi8mJ5tx/',\n",
       " 'https://www.instagram.com/p/C_O31SWSnYe/',\n",
       " 'https://www.instagram.com/p/Cg1TswOJoI0/',\n",
       " 'https://www.instagram.com/p/C_Sqhj4h5Hk/',\n",
       " 'https://www.instagram.com/p/Clz3L6wPkCn/',\n",
       " 'https://www.instagram.com/p/ClAWdOBJyFU/',\n",
       " 'https://www.instagram.com/p/CZLkh0olZkR/',\n",
       " 'https://www.instagram.com/p/CZRGBgvB7Hl/',\n",
       " 'https://www.instagram.com/p/C_NFscozhZ-/',\n",
       " 'https://www.instagram.com/p/C_7dm4rJZTd/',\n",
       " 'https://www.instagram.com/p/C_NKmSIxfh1/',\n",
       " 'https://www.instagram.com/p/ChwEuKKhOAd/',\n",
       " 'https://www.instagram.com/p/CednFlyppsk/',\n",
       " 'https://www.instagram.com/p/Chv6QtypXmk/',\n",
       " 'https://www.instagram.com/p/Ch-AFU0J8dG/',\n",
       " 'https://www.instagram.com/p/CfdZ-GPJ4Y5/',\n",
       " 'https://www.instagram.com/p/C_7uejOpX-P/',\n",
       " 'https://www.instagram.com/p/Cigr_tyJuNU/',\n",
       " 'https://www.instagram.com/p/Cij67OPphwD/',\n",
       " 'https://www.instagram.com/p/ChOptA6pupk/',\n",
       " 'https://www.instagram.com/p/C_SbgZ1pB0J/',\n",
       " 'https://www.instagram.com/p/C_ezxMiPchF/',\n",
       " 'https://www.instagram.com/p/C_7bqQgJnop/',\n",
       " 'https://www.instagram.com/p/CfjQMMcvIgX/',\n",
       " 'https://www.instagram.com/p/Cl3IRaYvt70/',\n",
       " 'https://www.instagram.com/p/CZ8fkBjpQmk/',\n",
       " 'https://www.instagram.com/p/CaEdMGNBg9S/',\n",
       " 'https://www.instagram.com/p/CcPQ0yNrbdJ/',\n",
       " 'https://www.instagram.com/p/CbrG2U_PEjw/',\n",
       " 'https://www.instagram.com/p/CZORXQ6hSqF/',\n",
       " 'https://www.instagram.com/p/ChT9jCEhHHa/',\n",
       " 'https://www.instagram.com/p/CfI1iqUvLsN/',\n",
       " 'https://www.instagram.com/p/Ch8RnBzhhqV/',\n",
       " 'https://www.instagram.com/p/ChWPtwUple2/',\n",
       " 'https://www.instagram.com/p/CiRlnr1pukB/',\n",
       " 'https://www.instagram.com/p/ChXVkKoJI0K/',\n",
       " 'https://www.instagram.com/p/CiMu76ThQ-P/',\n",
       " 'https://www.instagram.com/p/C_O0TfOB0Xp/',\n",
       " 'https://www.instagram.com/p/ChG-GILPG4L/',\n",
       " 'https://www.instagram.com/p/C_kIlkAJA7E/',\n",
       " 'https://www.instagram.com/p/CfKLJfwhwR1/',\n",
       " 'https://www.instagram.com/p/C_SkjSOBRFI/',\n",
       " 'https://www.instagram.com/p/C7p3K9PSEfC/',\n",
       " 'https://www.instagram.com/p/CkUidq-P52m/',\n",
       " 'https://www.instagram.com/p/C_8SOtUBf7p/',\n",
       " 'https://www.instagram.com/p/CeTbHHwJMpH/',\n",
       " 'https://www.instagram.com/p/C_2O7pUp6FX/',\n",
       " 'https://www.instagram.com/p/C_MeEoHB_Or/',\n",
       " 'https://www.instagram.com/p/C_7ugnbpa2v/',\n",
       " 'https://www.instagram.com/p/DAlMYWWSMCO/',\n",
       " 'https://www.instagram.com/p/ChWPqx_psBV/',\n",
       " 'https://www.instagram.com/p/ChEe6wpvLwu/',\n",
       " 'https://www.instagram.com/p/CjpHm64LtfZ/',\n",
       " 'https://www.instagram.com/p/ChFRenKplrE/',\n",
       " 'https://www.instagram.com/p/ClDZDarNr4E/',\n",
       " 'https://www.instagram.com/p/ChXJ4ohpVC1/',\n",
       " 'https://www.instagram.com/p/C_MeEkEh2Bf/',\n",
       " 'https://www.instagram.com/p/C_25uylhMGh/',\n",
       " 'https://www.instagram.com/p/CZoo3ngBzzO/',\n",
       " 'https://www.instagram.com/p/ChHPbxhvXYG/',\n",
       " 'https://www.instagram.com/p/C_SHI5OTk8s/',\n",
       " 'https://www.instagram.com/p/Ch984XthvYA/',\n",
       " 'https://www.instagram.com/p/C_Md6hjhLdK/',\n",
       " 'https://www.instagram.com/p/ChVNRIFhetr/',\n",
       " 'https://www.instagram.com/p/C_SQUI8p0vf/',\n",
       " 'https://www.instagram.com/p/C_66zTFhJE9/',\n",
       " 'https://www.instagram.com/p/Chvr-0RpiI7/',\n",
       " 'https://www.instagram.com/p/Ch9ysFCJDMx/',\n",
       " 'https://www.instagram.com/p/Cbv41qEJnqO/',\n",
       " 'https://www.instagram.com/p/DAlktJ-hCSU/',\n",
       " 'https://www.instagram.com/p/Cg2xCJFvrU1/',\n",
       " 'https://www.instagram.com/p/C_4SWUiy2_j/',\n",
       " 'https://www.instagram.com/p/ChEeviXBHOP/',\n",
       " 'https://www.instagram.com/p/Cepm5TqpDZa/',\n",
       " 'https://www.instagram.com/p/CZMMcxzP0Uf/',\n",
       " 'https://www.instagram.com/p/CZLuviUsXKl/',\n",
       " 'https://www.instagram.com/p/CePgVB_vvNm/',\n",
       " 'https://www.instagram.com/p/ChWpHj0vfLJ/',\n",
       " 'https://www.instagram.com/p/Cxo496vAd7q/',\n",
       " 'https://www.instagram.com/p/CbwO97MhC4h/',\n",
       " 'https://www.instagram.com/p/CZMjEMqJ5aY/',\n",
       " 'https://www.instagram.com/p/CfRatIjJZZ-/',\n",
       " 'https://www.instagram.com/p/CZUFVkGB_qY/',\n",
       " 'https://www.instagram.com/p/C_SzqH7hw5J/',\n",
       " 'https://www.instagram.com/p/ChSKJN-PvC7/',\n",
       " 'https://www.instagram.com/p/CZWJlpeh8dF/',\n",
       " 'https://www.instagram.com/p/C_MmsEJyCfJ/',\n",
       " 'https://www.instagram.com/p/CfI1nDjvPGA/',\n",
       " 'https://www.instagram.com/p/Chss3Xwhv_c/',\n",
       " 'https://www.instagram.com/p/CZc9ZWcBpZh/',\n",
       " 'https://www.instagram.com/p/CZQfe7tpt2J/',\n",
       " 'https://www.instagram.com/p/CiRSvfWrYFe/',\n",
       " 'https://www.instagram.com/p/Cgt8DKVh5rA/',\n",
       " 'https://www.instagram.com/p/ChUCtz0LVAU/',\n",
       " 'https://www.instagram.com/p/ChISyUMhNyo/',\n",
       " 'https://www.instagram.com/p/Cgv0RwGv3Mx/',\n",
       " 'https://www.instagram.com/p/C5nu0UXPi9m/',\n",
       " 'https://www.instagram.com/p/C_S2wQaBuAn/',\n",
       " 'https://www.instagram.com/p/CeaKvvMLoel/',\n",
       " 'https://www.instagram.com/p/Cb4K8ewjEPE/',\n",
       " 'https://www.instagram.com/p/Cbyns8-si5-/',\n",
       " 'https://www.instagram.com/p/ChWBk1Mplq4/',\n",
       " 'https://www.instagram.com/p/ChWPjUFrWh-/',\n",
       " 'https://www.instagram.com/p/ChFcE_HPtkh/',\n",
       " 'https://www.instagram.com/p/DAkiZPLz0xX/',\n",
       " 'https://www.instagram.com/p/CeTVjdWv4ap/',\n",
       " 'https://www.instagram.com/p/CZsfeIjv9bM/',\n",
       " 'https://www.instagram.com/p/C_MnUsqBsv4/',\n",
       " 'https://www.instagram.com/p/C_5enAJBLFW/',\n",
       " 'https://www.instagram.com/p/ChGDjVlBUVl/',\n",
       " 'https://www.instagram.com/p/CZtliYxlUvI/',\n",
       " 'https://www.instagram.com/p/CZL35-3Fp3a/',\n",
       " 'https://www.instagram.com/p/C_8QNSsPkjO/',\n",
       " 'https://www.instagram.com/p/C_RZWbkTC8b/',\n",
       " 'https://www.instagram.com/p/CkXCNfxPGAQ/',\n",
       " 'https://www.instagram.com/p/CZT4bioPMLk/',\n",
       " 'https://www.instagram.com/p/CfPDXCHpOLW/',\n",
       " 'https://www.instagram.com/p/CZRmwugvGLH/',\n",
       " 'https://www.instagram.com/p/CfTruyKrXp3/',\n",
       " 'https://www.instagram.com/p/ChWpH6qPQn7/',\n",
       " 'https://www.instagram.com/p/Chri3aPJXr2/',\n",
       " 'https://www.instagram.com/p/CfJBTA0Pdfd/',\n",
       " 'https://www.instagram.com/p/CZSOcswhVX7/',\n",
       " 'https://www.instagram.com/p/ChHL563L1zD/',\n",
       " 'https://www.instagram.com/p/CiPXOVlJX40/',\n",
       " 'https://www.instagram.com/p/CZPMMlzvybf/',\n",
       " 'https://www.instagram.com/p/ChTvEpsPdsA/',\n",
       " 'https://www.instagram.com/p/ChWzc4XBtBK/',\n",
       " 'https://www.instagram.com/p/DAkuMjySypU/',\n",
       " 'https://www.instagram.com/p/C_elvchvtYE/',\n",
       " 'https://www.instagram.com/p/C_1vouchGEW/',\n",
       " 'https://www.instagram.com/p/CZmKLQKFH8S/',\n",
       " 'https://www.instagram.com/p/CZnyaW_lV15/',\n",
       " 'https://www.instagram.com/p/C_XhdIWJlak/',\n",
       " 'https://www.instagram.com/p/CtaD8NDy0S_/',\n",
       " 'https://www.instagram.com/p/C_MrZalhl-7/',\n",
       " 'https://www.instagram.com/p/C_Uywv4pPnA/',\n",
       " 'https://www.instagram.com/p/C_MvSwNy4S1/',\n",
       " 'https://www.instagram.com/p/C_MsN0QheRj/',\n",
       " 'https://www.instagram.com/p/C_SkbgwhH8P/',\n",
       " 'https://www.instagram.com/p/ChXAGvIvqLu/',\n",
       " 'https://www.instagram.com/p/CZMcU2kJLZF/',\n",
       " 'https://www.instagram.com/p/ChVM7t6BJmo/',\n",
       " 'https://www.instagram.com/p/C_7S0weJKE4/',\n",
       " 'https://www.instagram.com/p/C_vEHc5SNrg/',\n",
       " 'https://www.instagram.com/p/C_-6dU5vGAv/',\n",
       " 'https://www.instagram.com/p/Cl-Yckipv1C/',\n",
       " 'https://www.instagram.com/p/CgtM_xvP_OZ/',\n",
       " 'https://www.instagram.com/p/C_QrrYlSoIH/',\n",
       " 'https://www.instagram.com/p/ChEvklxPJh1/',\n",
       " 'https://www.instagram.com/p/ChIp3JAh3-G/',\n",
       " 'https://www.instagram.com/p/ChWdvZiJghT/',\n",
       " 'https://www.instagram.com/p/Ch4Fv7IJuo9/',\n",
       " 'https://www.instagram.com/p/Ch4GAdjh46m/',\n",
       " 'https://www.instagram.com/p/CZWM8xwvWtM/',\n",
       " 'https://www.instagram.com/p/C_S7WN1h1fN/',\n",
       " 'https://www.instagram.com/p/CZL8tinhZSS/',\n",
       " 'https://www.instagram.com/p/C_66Xv4ht0k/',\n",
       " 'https://www.instagram.com/p/C_SPXTAJ7zS/',\n",
       " 'https://www.instagram.com/p/CZZDf9rPVsf/',\n",
       " 'https://www.instagram.com/p/ChE-aXzv6mx/',\n",
       " 'https://www.instagram.com/p/ChIAAz2pquc/',\n",
       " 'https://www.instagram.com/p/C_2PoEvyEz4/',\n",
       " 'https://www.instagram.com/p/ChJ6CsCpzb2/',\n",
       " 'https://www.instagram.com/p/CiesSgTrvLq/',\n",
       " 'https://www.instagram.com/p/ChWPoq4B92T/',\n",
       " 'https://www.instagram.com/p/CfL7lu-FsBe/',\n",
       " 'https://www.instagram.com/p/C_esULcTtz8/',\n",
       " 'https://www.instagram.com/p/CmCCsNQJRC1/',\n",
       " 'https://www.instagram.com/p/Ch1EL6UBs30/',\n",
       " 'https://www.instagram.com/p/Cb66-Y0BEHu/',\n",
       " 'https://www.instagram.com/p/ChJotYSJbrQ/',\n",
       " 'https://www.instagram.com/p/CmNxEbhJWnK/',\n",
       " 'https://www.instagram.com/p/CfdnaDvBwq2/',\n",
       " 'https://www.instagram.com/p/ChVw8-2hZEb/',\n",
       " 'https://www.instagram.com/p/CbynwccMFKN/',\n",
       " 'https://www.instagram.com/p/CfdebTDJsOW/',\n",
       " 'https://www.instagram.com/p/C_0bjXIB72M/',\n",
       " 'https://www.instagram.com/p/CfbFXpOJ2Rc/',\n",
       " 'https://www.instagram.com/p/C_TBpObBRDg/',\n",
       " 'https://www.instagram.com/p/C_SOiWYJTiC/',\n",
       " 'https://www.instagram.com/p/C_8HFQOhxhb/',\n",
       " 'https://www.instagram.com/p/C_5-RsBS4hB/',\n",
       " 'https://www.instagram.com/p/C_NJKBezqfX/',\n",
       " 'https://www.instagram.com/p/ChVrzZvh49G/',\n",
       " 'https://www.instagram.com/p/C_ODiMEyU6u/',\n",
       " 'https://www.instagram.com/p/CZtzKzrphd5/',\n",
       " 'https://www.instagram.com/p/C_S6USUhbXN/',\n",
       " 'https://www.instagram.com/p/C_MwZPqpKcl/',\n",
       " 'https://www.instagram.com/p/ChGmFToJVGw/',\n",
       " 'https://www.instagram.com/p/C_6SLQpB_f4/',\n",
       " 'https://www.instagram.com/p/ChXPrHovcN5/',\n",
       " 'https://www.instagram.com/p/C_8PBqeBue4/',\n",
       " 'https://www.instagram.com/p/C_elzLrSDL8/',\n",
       " 'https://www.instagram.com/p/CfLPeNuFdju/',\n",
       " 'https://www.instagram.com/p/CfbdeMGL_36/',\n",
       " 'https://www.instagram.com/p/CfjXq9zBvhH/',\n",
       " 'https://www.instagram.com/p/C_6R3S3Bgc6/',\n",
       " 'https://www.instagram.com/p/ChI6dJvvGVX/',\n",
       " 'https://www.instagram.com/p/CwRl4MauyNC/',\n",
       " 'https://www.instagram.com/p/CifZ9LFp-hP/',\n",
       " 'https://www.instagram.com/p/DAxZ0b6x6ga/',\n",
       " 'https://www.instagram.com/p/CetSj5tPmoY/',\n",
       " 'https://www.instagram.com/p/CkLcVxmPxqH/',\n",
       " 'https://www.instagram.com/p/C_UGHCzSpli/',\n",
       " 'https://www.instagram.com/p/ChQ6a9GJJ2X/',\n",
       " 'https://www.instagram.com/p/CiM3akYvAtd/',\n",
       " 'https://www.instagram.com/p/CZeV7PJPFbL/',\n",
       " 'https://www.instagram.com/p/C_PIksKvXBw/',\n",
       " 'https://www.instagram.com/p/C_56BFyyDt0/',\n",
       " 'https://www.instagram.com/p/C_7sMcbJi_y/',\n",
       " 'https://www.instagram.com/p/CZM74htvJfd/',\n",
       " 'https://www.instagram.com/p/CieQ8QSLLue/',\n",
       " 'https://www.instagram.com/p/C_R6Wzpv_Zi/',\n",
       " 'https://www.instagram.com/p/CfiGVF-hvIa/',\n",
       " 'https://www.instagram.com/p/C6TentJyApZ/',\n",
       " 'https://www.instagram.com/p/CbrPQRhpGfi/',\n",
       " 'https://www.instagram.com/p/Chd6esFpZGl/',\n",
       " 'https://www.instagram.com/p/CfLtWTBJh2_/',\n",
       " 'https://www.instagram.com/p/CfI5hueJqnc/',\n",
       " 'https://www.instagram.com/p/CZ56H0ZFgcR/',\n",
       " 'https://www.instagram.com/p/Chq88WlJp_l/',\n",
       " 'https://www.instagram.com/p/ChFS4mivj5Y/',\n",
       " 'https://www.instagram.com/p/ChVj0tNB7Mk/',\n",
       " 'https://www.instagram.com/p/DAlVal2h-5G/',\n",
       " 'https://www.instagram.com/p/C_TBVnvhiao/',\n",
       " 'https://www.instagram.com/p/C_NFZfKpf-S/',\n",
       " 'https://www.instagram.com/p/CfYsjkpPnWm/',\n",
       " 'https://www.instagram.com/p/CZuDsqkpC36/',\n",
       " 'https://www.instagram.com/p/CZJ4rTaPeez/',\n",
       " 'https://www.instagram.com/p/CeJVOLwP0Jl/',\n",
       " 'https://www.instagram.com/p/C_SSgY0pkN4/',\n",
       " 'https://www.instagram.com/p/C_Nz757T2hy/',\n",
       " 'https://www.instagram.com/p/C_7wXhtBg6h/',\n",
       " 'https://www.instagram.com/p/Ceu47S6rl7n/',\n",
       " 'https://www.instagram.com/p/CZNcSUthu1q/',\n",
       " 'https://www.instagram.com/p/CfKX584PRZd/',\n",
       " 'https://www.instagram.com/p/C_Mmz0kvxO0/',\n",
       " 'https://www.instagram.com/p/CieXLlarMNz/',\n",
       " 'https://www.instagram.com/p/CfMjQW2p-zf/',\n",
       " 'https://www.instagram.com/p/Cfdlh0PLUwO/',\n",
       " 'https://www.instagram.com/p/ChJE0i-pEcJ/',\n",
       " 'https://www.instagram.com/p/C_SQaArpM-u/',\n",
       " 'https://www.instagram.com/p/ChUSiBbpas6/',\n",
       " 'https://www.instagram.com/p/C_NIxkcSwxa/',\n",
       " 'https://www.instagram.com/p/CZt3ppopuMj/',\n",
       " 'https://www.instagram.com/p/CfYQyLLp18E/',\n",
       " 'https://www.instagram.com/p/ChEu6ldvddP/',\n",
       " 'https://www.instagram.com/p/CZRTXcBpKqX/',\n",
       " 'https://www.instagram.com/p/DAlVadLhd4u/',\n",
       " 'https://www.instagram.com/p/C_QKcWqhcM4/',\n",
       " 'https://www.instagram.com/p/C_ZKku8hO72/',\n",
       " 'https://www.instagram.com/p/CfV7aeTLlbV/',\n",
       " 'https://www.instagram.com/p/CZPcbWuvIiR/',\n",
       " 'https://www.instagram.com/p/C_MnDT9ybQr/',\n",
       " 'https://www.instagram.com/p/C_2p0GEBS06/',\n",
       " 'https://www.instagram.com/p/Cl3HmcMPY0O/',\n",
       " 'https://www.instagram.com/p/CejHE9zJeaM/',\n",
       " 'https://www.instagram.com/p/CfRatPiJV29/',\n",
       " 'https://www.instagram.com/p/CfjPelJPRkK/',\n",
       " 'https://www.instagram.com/p/C_RcdKGSP0a/',\n",
       " 'https://www.instagram.com/p/CZTzn2pPfVN/',\n",
       " 'https://www.instagram.com/p/C7o9pJ7vjop/',\n",
       " 'https://www.instagram.com/p/CeXeZNLJ4J5/',\n",
       " 'https://www.instagram.com/p/CyDkJdHrB84/',\n",
       " 'https://www.instagram.com/p/Cl0lP4CP3Lw/',\n",
       " 'https://www.instagram.com/p/Ckp91cohfWl/',\n",
       " 'https://www.instagram.com/p/ChGLEYPPuid/',\n",
       " 'https://www.instagram.com/p/CZtTvkuFWAd/',\n",
       " 'https://www.instagram.com/p/CfSWODbB7KJ/',\n",
       " 'https://www.instagram.com/p/CfQssUwJ0ey/',\n",
       " 'https://www.instagram.com/p/CfPCXfaprXN/',\n",
       " 'https://www.instagram.com/p/CZuCDI9JZzW/',\n",
       " 'https://www.instagram.com/p/CfN8wgvrdI4/',\n",
       " 'https://www.instagram.com/p/CZhXyeqP2hz/',\n",
       " 'https://www.instagram.com/p/CZMTjEdBEB6/',\n",
       " 'https://www.instagram.com/p/CZmVfLaJK-k/',\n",
       " 'https://www.instagram.com/p/Cfh8oDmBUyn/',\n",
       " 'https://www.instagram.com/p/C_fJjqxhu0l/',\n",
       " 'https://www.instagram.com/p/CZPGdXYPy4T/',\n",
       " 'https://www.instagram.com/p/CexoCaOLCGd/',\n",
       " 'https://www.instagram.com/p/CeFh1V4JG5Y/',\n",
       " 'https://www.instagram.com/p/DAkSkQhh0MP/',\n",
       " 'https://www.instagram.com/p/CZVMZMqhmpW/',\n",
       " 'https://www.instagram.com/p/ClCllQ7Syot/',\n",
       " 'https://www.instagram.com/p/CZt2H8qJcKb/',\n",
       " 'https://www.instagram.com/p/CkJCb9CvbRn/',\n",
       " 'https://www.instagram.com/p/CZ8n_mKJuZn/',\n",
       " 'https://www.instagram.com/p/CZjmeRclBjA/',\n",
       " 'https://www.instagram.com/p/Cz28u7qS-do/',\n",
       " 'https://www.instagram.com/p/CajrhN-FXNE/',\n",
       " 'https://www.instagram.com/p/Clfa-hDJh4F/',\n",
       " 'https://www.instagram.com/p/ClSJyLhrKGH/',\n",
       " 'https://www.instagram.com/p/CgbWzdwLtK6/',\n",
       " 'https://www.instagram.com/p/Cg28H_dPKP9/',\n",
       " 'https://www.instagram.com/p/ChR4ytZpZz3/',\n",
       " 'https://www.instagram.com/p/CfQ7FPyPj-W/',\n",
       " 'https://www.instagram.com/p/CfQrMSzP8Jy/',\n",
       " 'https://www.instagram.com/p/C_M9TxHSCP2/',\n",
       " 'https://www.instagram.com/p/CZYXR6wP-CW/',\n",
       " 'https://www.instagram.com/p/CZL4y8PFqpu/',\n",
       " 'https://www.instagram.com/p/CfLiFs5PguD/',\n",
       " 'https://www.instagram.com/p/CfdzY_fBavG/',\n",
       " 'https://www.instagram.com/p/CZVCaDYBUvu/',\n",
       " 'https://www.instagram.com/p/DAnDFDrJ4Rg/',\n",
       " 'https://www.instagram.com/p/C_yLAawyBES/',\n",
       " 'https://www.instagram.com/p/CZL2MM7F2gI/',\n",
       " 'https://www.instagram.com/p/C_SWjYDveWZ/',\n",
       " 'https://www.instagram.com/p/CZs5Ad7FYz9/',\n",
       " 'https://www.instagram.com/p/CebXiFfp4Pg/',\n",
       " 'https://www.instagram.com/p/CZj3Et4hcxw/',\n",
       " 'https://www.instagram.com/p/C_NvSFlyIDO/',\n",
       " 'https://www.instagram.com/p/DBGnmRPBJVx/',\n",
       " 'https://www.instagram.com/p/Cg-0y2apEnk/',\n",
       " 'https://www.instagram.com/p/CffmFdPJ_im/',\n",
       " 'https://www.instagram.com/p/CeWExqKPO9e/',\n",
       " 'https://www.instagram.com/p/C6TKX7Prazb/',\n",
       " 'https://www.instagram.com/p/C_N9HyrB2vf/',\n",
       " 'https://www.instagram.com/p/ChTNnOLBsvK/',\n",
       " 'https://www.instagram.com/p/ChXNl1bJmDu/',\n",
       " 'https://www.instagram.com/p/C_QCLC9BU34/',\n",
       " 'https://www.instagram.com/p/CfRae-sJe15/',\n",
       " 'https://www.instagram.com/p/Cfg9iGmJwuT/',\n",
       " 'https://www.instagram.com/p/ChU8DL0BTNI/',\n",
       " 'https://www.instagram.com/p/C_ScQqZpFBK/',\n",
       " 'https://www.instagram.com/p/C_M4jdKJIlQ/',\n",
       " 'https://www.instagram.com/p/C_NkLwIhxi3/',\n",
       " 'https://www.instagram.com/p/CZL3YFTlgCO/',\n",
       " 'https://www.instagram.com/p/C_fYDLxT-rr/',\n",
       " 'https://www.instagram.com/p/C_SNt2fvbUD/',\n",
       " 'https://www.instagram.com/p/CqmnA-lB9vn/',\n",
       " 'https://www.instagram.com/p/CevXbbzlS0J/',\n",
       " 'https://www.instagram.com/p/C_70FFDhs2E/',\n",
       " 'https://www.instagram.com/p/CfMDXKvvRQc/',\n",
       " 'https://www.instagram.com/p/CfWLFmjJe2K/',\n",
       " 'https://www.instagram.com/p/DAktIy0yDkb/',\n",
       " 'https://www.instagram.com/p/C_MtojTy8hX/',\n",
       " 'https://www.instagram.com/p/CZLxYcQBVoJ/',\n",
       " 'https://www.instagram.com/p/ClDvyvBJhnS/',\n",
       " 'https://www.instagram.com/p/CZKQ7nBvXcJ/',\n",
       " 'https://www.instagram.com/p/CifWwm8Jbi8/',\n",
       " 'https://www.instagram.com/p/ClCoVUESKAV/',\n",
       " 'https://www.instagram.com/p/CfLh_pNJuyw/',\n",
       " 'https://www.instagram.com/p/ChrMJ1zva1z/',\n",
       " 'https://www.instagram.com/p/C_MzGtpJ9wu/',\n",
       " 'https://www.instagram.com/p/C_8Iw2VPW2x/',\n",
       " 'https://www.instagram.com/p/ChFNjznJzVj/',\n",
       " 'https://www.instagram.com/p/CfWohu8lr2E/',\n",
       " 'https://www.instagram.com/p/CfKgRgGh8eK/',\n",
       " 'https://www.instagram.com/p/Ch8UMDjhWh8/',\n",
       " 'https://www.instagram.com/p/CeOYgm5BdqX/',\n",
       " 'https://www.instagram.com/p/CfMHbBIvGfd/',\n",
       " 'https://www.instagram.com/p/CkPTrVEv1eh/',\n",
       " 'https://www.instagram.com/p/C_NqOS_PCZs/',\n",
       " 'https://www.instagram.com/p/DAiEMyGPwWe/',\n",
       " 'https://www.instagram.com/p/CZewaMJpEmn/',\n",
       " 'https://www.instagram.com/p/ChXGAhpJyX9/',\n",
       " 'https://www.instagram.com/p/CZLyzLylXvo/',\n",
       " 'https://www.instagram.com/p/C_ieYnkhl2Q/',\n",
       " 'https://www.instagram.com/p/C_enMFaTzDQ/',\n",
       " 'https://www.instagram.com/p/DAknKiTJpq-/',\n",
       " 'https://www.instagram.com/p/DAsYiZKpCKE/',\n",
       " 'https://www.instagram.com/p/CarVkdipQeZ/',\n",
       " 'https://www.instagram.com/p/CfdbqdPpJIj/',\n",
       " 'https://www.instagram.com/p/ChWvKPgJodU/',\n",
       " 'https://www.instagram.com/p/ChV9I3lP1_q/',\n",
       " 'https://www.instagram.com/p/ChXCmY8h25w/',\n",
       " 'https://www.instagram.com/p/ChGOZWZhU5h/',\n",
       " 'https://www.instagram.com/p/CZLwflSl26K/',\n",
       " 'https://www.instagram.com/p/ClBFyZHhySD/',\n",
       " 'https://www.instagram.com/p/CfZPJqXJsT-/',\n",
       " 'https://www.instagram.com/p/C_2NaWcyAMM/',\n",
       " 'https://www.instagram.com/p/C_ewLujpPnJ/',\n",
       " 'https://www.instagram.com/p/C_emvjpSZik/',\n",
       " 'https://www.instagram.com/p/CfYROHWpnJG/',\n",
       " 'https://www.instagram.com/p/CiMxFtuuUeT/',\n",
       " 'https://www.instagram.com/p/CiX6DyJvTG4/',\n",
       " 'https://www.instagram.com/p/CeKt7iYpd4t/',\n",
       " 'https://www.instagram.com/p/CeSttPELxDf/',\n",
       " 'https://www.instagram.com/p/CfLPqAPJCO6/',\n",
       " 'https://www.instagram.com/p/C_Uzv7dJMFa/',\n",
       " 'https://www.instagram.com/p/Ch1KpGuJCt_/',\n",
       " 'https://www.instagram.com/p/CoY6yFyhJb0/',\n",
       " 'https://www.instagram.com/p/C_Q58drz8n3/',\n",
       " 'https://www.instagram.com/p/CgXBU8-JitP/',\n",
       " 'https://www.instagram.com/p/C6P1KplpE64/',\n",
       " 'https://www.instagram.com/p/DBELnx_PNBB/',\n",
       " 'https://www.instagram.com/p/ClqR_S9Loq6/',\n",
       " 'https://www.instagram.com/p/CfKUUGKBzIQ/',\n",
       " 'https://www.instagram.com/p/CfeM2HJJaPi/',\n",
       " 'https://www.instagram.com/p/CfdiFybvYl_/',\n",
       " 'https://www.instagram.com/p/CfjOyxsvxlS/',\n",
       " 'https://www.instagram.com/p/CfRNouUp6dj/',\n",
       " 'https://www.instagram.com/p/C_PRizLPNaV/',\n",
       " 'https://www.instagram.com/p/CZorP5cpdX2/',\n",
       " 'https://www.instagram.com/p/CfiNRnXPdcm/',\n",
       " 'https://www.instagram.com/p/CZmC2FOpjPd/',\n",
       " 'https://www.instagram.com/p/C_hQdELvgjP/',\n",
       " 'https://www.instagram.com/p/CZL43PUqJ0_/',\n",
       " 'https://www.instagram.com/p/ChFOWIVvqa6/',\n",
       " 'https://www.instagram.com/p/CZuFX1cFq4_/',\n",
       " 'https://www.instagram.com/p/CexWzccPxXf/',\n",
       " 'https://www.instagram.com/p/CfKlbvdBb6p/',\n",
       " 'https://www.instagram.com/p/CZtvCPUlSDY/',\n",
       " 'https://www.instagram.com/p/CZLr_dqPgSA/',\n",
       " 'https://www.instagram.com/p/C_NGBJHSEUs/',\n",
       " 'https://www.instagram.com/p/ChLZ-t3Bpg9/',\n",
       " 'https://www.instagram.com/p/C_7WQaDzRZ5/',\n",
       " 'https://www.instagram.com/p/C_zx3eCJIi_/',\n",
       " 'https://www.instagram.com/p/CZWShKcFocb/',\n",
       " 'https://www.instagram.com/p/C_Nz4daS0sx/',\n",
       " 'https://www.instagram.com/p/Ch8ZI5Fv0pM/',\n",
       " 'https://www.instagram.com/p/C_el_uth5kZ/',\n",
       " 'https://www.instagram.com/p/C_Q6EmFT7rp/',\n",
       " 'https://www.instagram.com/p/CfOx7T6JKzF/',\n",
       " 'https://www.instagram.com/p/Ch_he4vBDaP/',\n",
       " 'https://www.instagram.com/p/DAsbQefpTi9/',\n",
       " 'https://www.instagram.com/p/C5nkWDeP1ry/',\n",
       " 'https://www.instagram.com/p/CZL5LIeB6MD/',\n",
       " 'https://www.instagram.com/p/Ch98f6JJYLK/',\n",
       " 'https://www.instagram.com/p/DAkmsgTJRgO/',\n",
       " 'https://www.instagram.com/p/C_PVTeZzskA/',\n",
       " 'https://www.instagram.com/p/CeOQ418pn4U/',\n",
       " 'https://www.instagram.com/p/CieQkaFrkDG/',\n",
       " 'https://www.instagram.com/p/CZWnS2tPcyw/',\n",
       " 'https://www.instagram.com/p/DAlVazjB3rK/',\n",
       " 'https://www.instagram.com/p/C_7L37mS2Bn/',\n",
       " 'https://www.instagram.com/p/CfYk5U1JW1B/',\n",
       " 'https://www.instagram.com/p/ClAS_G_p4OO/',\n",
       " 'https://www.instagram.com/p/CZM6XKrh2yh/',\n",
       " 'https://www.instagram.com/p/CfhtmVdh0Rp/',\n",
       " 'https://www.instagram.com/p/CfjDop3JOLy/',\n",
       " 'https://www.instagram.com/p/C_2VrR0JJiR/',\n",
       " 'https://www.instagram.com/p/CsBB5H6JUri/',\n",
       " 'https://www.instagram.com/p/ChUUcWlvuKX/',\n",
       " 'https://www.instagram.com/p/CfI1cz5hpQ2/',\n",
       " 'https://www.instagram.com/p/CfLT3cApyX4/',\n",
       " 'https://www.instagram.com/p/C5XMiqchZiN/',\n",
       " 'https://www.instagram.com/p/CfghFs0pShd/',\n",
       " 'https://www.instagram.com/p/CfKsAjYh-nP/',\n",
       " 'https://www.instagram.com/p/CZe4ZQbBX1v/',\n",
       " 'https://www.instagram.com/p/CfNzBOvJGL-/',\n",
       " 'https://www.instagram.com/p/C_pq_-_JSjn/',\n",
       " 'https://www.instagram.com/p/CZtom18l8LM/',\n",
       " 'https://www.instagram.com/p/Celf_cEhNLR/',\n",
       " 'https://www.instagram.com/p/C_kKZVWSq5f/',\n",
       " 'https://www.instagram.com/p/C_Q6PqOTkyv/',\n",
       " 'https://www.instagram.com/p/CZNlg9fPXIA/',\n",
       " 'https://www.instagram.com/p/C_O26leSNQH/',\n",
       " 'https://www.instagram.com/p/CZjLyuOvpVl/',\n",
       " 'https://www.instagram.com/p/CZL06K1FbZ7/',\n",
       " 'https://www.instagram.com/p/CeV6v8Upyrh/',\n",
       " 'https://www.instagram.com/p/CetXu0EpuWk/',\n",
       " 'https://www.instagram.com/p/CZUirBpvcVi/',\n",
       " 'https://www.instagram.com/p/CZ8UMKuBxWn/',\n",
       " 'https://www.instagram.com/p/CfK9-M4JHWK/',\n",
       " 'https://www.instagram.com/p/CeizdJTpzvL/',\n",
       " 'https://www.instagram.com/p/CfY7xnSJXHn/',\n",
       " 'https://www.instagram.com/p/CZtCB-Zl-PR/',\n",
       " 'https://www.instagram.com/p/C_ODfyCSedc/',\n",
       " 'https://www.instagram.com/p/CgmREdvrXb0/',\n",
       " 'https://www.instagram.com/p/DAhXPQizlfs/',\n",
       " 'https://www.instagram.com/p/Cg-xo2ihN-0/',\n",
       " 'https://www.instagram.com/p/ChGv1xOhvDb/',\n",
       " 'https://www.instagram.com/p/C_ezMrHyjHK/',\n",
       " 'https://www.instagram.com/p/CfRN215pCHT/',\n",
       " 'https://www.instagram.com/p/CZtUU7wllad/',\n",
       " 'https://www.instagram.com/p/ChKbIu4rNYE/',\n",
       " 'https://www.instagram.com/p/ChZTMY9O0E_/',\n",
       " 'https://www.instagram.com/p/CeMBUltJSyg/',\n",
       " 'https://www.instagram.com/p/C_NkMgpzFPH/',\n",
       " 'https://www.instagram.com/p/CfRNr0TvPfP/',\n",
       " 'https://www.instagram.com/p/CZMvygNvIyQ/',\n",
       " 'https://www.instagram.com/p/C_NXRjyy4ox/',\n",
       " 'https://www.instagram.com/p/CewZZS7Bsni/',\n",
       " 'https://www.instagram.com/p/CZizm4tlb2H/',\n",
       " 'https://www.instagram.com/p/CfjcQDOJ_Zw/',\n",
       " 'https://www.instagram.com/p/CfS3MCVrG9h/',\n",
       " 'https://www.instagram.com/p/ChEyJY6pa2u/',\n",
       " 'https://www.instagram.com/p/CeTtKyOp8Iw/',\n",
       " 'https://www.instagram.com/p/CZMLpmHPCmv/',\n",
       " 'https://www.instagram.com/p/CieLTxPP_W7/',\n",
       " 'https://www.instagram.com/p/CfYPVWNpdfi/',\n",
       " 'https://www.instagram.com/p/CfI32DjpXFg/',\n",
       " 'https://www.instagram.com/p/ChEq-XbpinL/',\n",
       " 'https://www.instagram.com/p/Cfd385DvIme/',\n",
       " 'https://www.instagram.com/p/ChHNwmYBeo7/',\n",
       " 'https://www.instagram.com/p/ChE3PJ_vyZB/',\n",
       " 'https://www.instagram.com/p/CtvgyONvEv2/',\n",
       " 'https://www.instagram.com/p/DAvS7TOvbeM/',\n",
       " 'https://www.instagram.com/p/DAseJorSS0a/',\n",
       " 'https://www.instagram.com/p/C_PU2EGpm42/',\n",
       " 'https://www.instagram.com/p/ChGYROKvkSv/',\n",
       " 'https://www.instagram.com/p/C_5_I09zxVc/',\n",
       " 'https://www.instagram.com/p/CZoLdKphfXv/',\n",
       " 'https://www.instagram.com/p/C_Nk2gtSRk4/',\n",
       " 'https://www.instagram.com/p/ChJOZBEpX7_/',\n",
       " 'https://www.instagram.com/p/CmVqQ6VP5Ub/',\n",
       " 'https://www.instagram.com/p/Cegc_sYp3ej/',\n",
       " 'https://www.instagram.com/p/CZ3Qid-vtDk/',\n",
       " 'https://www.instagram.com/p/CZLmLPghLtG/',\n",
       " 'https://www.instagram.com/p/CehecQ6vBvD/',\n",
       " 'https://www.instagram.com/p/C_VbNUKP7SN/',\n",
       " 'https://www.instagram.com/p/CeyZBBXpoy_/',\n",
       " 'https://www.instagram.com/p/Ch9P0uJLAE-/',\n",
       " 'https://www.instagram.com/p/CfTsL-LPwHl/',\n",
       " 'https://www.instagram.com/p/CZLw7k-JvhZ/',\n",
       " 'https://www.instagram.com/p/CaviNrRPdOA/',\n",
       " 'https://www.instagram.com/p/ChKUv72P5iZ/',\n",
       " 'https://www.instagram.com/p/CfTt13DPHp1/',\n",
       " 'https://www.instagram.com/p/CfQSC-wLPCD/',\n",
       " 'https://www.instagram.com/p/ChEtzk8JCDI/',\n",
       " 'https://www.instagram.com/p/Ch9U1qUp_VJ/',\n",
       " 'https://www.instagram.com/p/C_PbsuXyuZ5/',\n",
       " 'https://www.instagram.com/p/CZLk2gzFAb_/',\n",
       " 'https://www.instagram.com/p/CZtvoVGlm4i/',\n",
       " 'https://www.instagram.com/p/CZNtdMWgxLx/',\n",
       " 'https://www.instagram.com/p/CZjfWVMJNr5/',\n",
       " 'https://www.instagram.com/p/Ch8cJi8BaDU/',\n",
       " 'https://www.instagram.com/p/CfeM3rAJrMY/',\n",
       " 'https://www.instagram.com/p/C_6CoYxhlFw/',\n",
       " 'https://www.instagram.com/p/CiPCUjavLSQ/',\n",
       " 'https://www.instagram.com/p/ChXEsMFJMDT/',\n",
       " 'https://www.instagram.com/p/CexL0XYhcUC/',\n",
       " 'https://www.instagram.com/p/CZLzJHWr6UB/',\n",
       " 'https://www.instagram.com/p/C_70WByBeFW/',\n",
       " 'https://www.instagram.com/p/CaeU9QjFZFp/',\n",
       " 'https://www.instagram.com/p/ChEtwZ1pFxb/',\n",
       " 'https://www.instagram.com/p/C_zxqrxy-GE/',\n",
       " 'https://www.instagram.com/p/CeydjITJ0_0/',\n",
       " 'https://www.instagram.com/p/DAEEesCvFLh/',\n",
       " 'https://www.instagram.com/p/CigjGv6B7ZH/',\n",
       " 'https://www.instagram.com/p/CeYEPXMPSsZ/',\n",
       " 'https://www.instagram.com/p/Cieuo4BvdPV/',\n",
       " 'https://www.instagram.com/p/CfeTJAihzcb/',\n",
       " 'https://www.instagram.com/p/ChWwkvphjjm/',\n",
       " 'https://www.instagram.com/p/CZMv1LsIWJF/',\n",
       " 'https://www.instagram.com/p/C_fBmIAJF5j/',\n",
       " 'https://www.instagram.com/p/C_rbiERB1ML/',\n",
       " 'https://www.instagram.com/p/CZsxwfGJLD7/',\n",
       " 'https://www.instagram.com/p/C_4yZlQpYZk/',\n",
       " 'https://www.instagram.com/p/CZpJ0AoBkBH/',\n",
       " 'https://www.instagram.com/p/CZVvxwAr40e/',\n",
       " 'https://www.instagram.com/p/C_5bVjihC2Z/',\n",
       " 'https://www.instagram.com/p/Cfl4TsPPQYj/',\n",
       " 'https://www.instagram.com/p/CfMjP5MJmWu/',\n",
       " 'https://www.instagram.com/p/Cb0Eoh7p66o/',\n",
       " 'https://www.instagram.com/p/CfUOxktJxA2/',\n",
       " 'https://www.instagram.com/p/CZepFZ2vXc2/',\n",
       " 'https://www.instagram.com/p/CfhatCnhFxJ/',\n",
       " 'https://www.instagram.com/p/CfOdbSGPjns/',\n",
       " 'https://www.instagram.com/p/C_ODdylBRqz/',\n",
       " 'https://www.instagram.com/p/C_7zozFhH-h/',\n",
       " 'https://www.instagram.com/p/CeRND5Zpqe7/',\n",
       " 'https://www.instagram.com/p/CePJcoshM7V/',\n",
       " 'https://www.instagram.com/p/CfS_ioFPgAl/',\n",
       " 'https://www.instagram.com/p/CfeMsxJpd-o/',\n",
       " 'https://www.instagram.com/p/ChFCAyAPuPw/',\n",
       " 'https://www.instagram.com/p/ClkRB8CPE_f/',\n",
       " 'https://www.instagram.com/p/CfQsr_jhqd8/',\n",
       " 'https://www.instagram.com/p/CZpF5ADBjlC/',\n",
       " 'https://www.instagram.com/p/CZpIAuxBDjv/',\n",
       " 'https://www.instagram.com/p/CZpEUPJpfgT/',\n",
       " 'https://www.instagram.com/p/CZpG2aNhRoI/',\n",
       " 'https://www.instagram.com/p/CZi7L8fPO6D/',\n",
       " 'https://www.instagram.com/p/C_SXNY2S-5c/',\n",
       " 'https://www.instagram.com/p/CkVEgKALW5V/',\n",
       " 'https://www.instagram.com/p/CedcMEtvWNv/',\n",
       " 'https://www.instagram.com/p/CZtleCOvxMp/',\n",
       " 'https://www.instagram.com/p/CkKmU7xBErX/',\n",
       " 'https://www.instagram.com/p/CiaQVPoh40n/',\n",
       " 'https://www.instagram.com/p/CfdcTj9pFTR/',\n",
       " 'https://www.instagram.com/p/CeyeGqmJClJ/',\n",
       " 'https://www.instagram.com/p/CeJHUYNJaEf/',\n",
       " 'https://www.instagram.com/p/CfK3L5Dpc1f/',\n",
       " 'https://www.instagram.com/p/C_PSuBMxO7e/',\n",
       " 'https://www.instagram.com/p/CeGYRdYJJjA/',\n",
       " 'https://www.instagram.com/p/CekSJ1YBvH7/',\n",
       " 'https://www.instagram.com/p/CZWHIpZJnlI/',\n",
       " 'https://www.instagram.com/p/CbtroR9JbiV/',\n",
       " 'https://www.instagram.com/p/CkHb2Y0vPbM/',\n",
       " 'https://www.instagram.com/p/ChXCil1LgJa/',\n",
       " 'https://www.instagram.com/p/CfQBk9lp4H_/',\n",
       " 'https://www.instagram.com/p/ChVNoC4BrfX/',\n",
       " 'https://www.instagram.com/p/C_elK9YPGl8/',\n",
       " 'https://www.instagram.com/p/C_No0JIStHs/',\n",
       " 'https://www.instagram.com/p/C_U_EaupWAw/',\n",
       " 'https://www.instagram.com/p/CZVL9tyh-bk/',\n",
       " 'https://www.instagram.com/p/C_MoLdkzCUU/',\n",
       " 'https://www.instagram.com/p/CeyYZH9B2JV/',\n",
       " 'https://www.instagram.com/p/C_MsVJFPE1H/',\n",
       " 'https://www.instagram.com/p/C_UhN95JqYG/',\n",
       " 'https://www.instagram.com/p/CZLzjc3vFZk/',\n",
       " 'https://www.instagram.com/p/CeL45JHpJT8/',\n",
       " 'https://www.instagram.com/p/CeyBbJTryjs/',\n",
       " 'https://www.instagram.com/p/C_7SlmmpJlm/',\n",
       " 'https://www.instagram.com/p/Cd9ukxRFC2Y/',\n",
       " 'https://www.instagram.com/p/DAnTY8uvEnO/',\n",
       " 'https://www.instagram.com/p/C5ZoXw2vfYe/',\n",
       " 'https://www.instagram.com/p/CeKnSQ9pZyB/',\n",
       " 'https://www.instagram.com/p/CZOwvUIpFjo/',\n",
       " 'https://www.instagram.com/p/Cevoq0Jp3nq/',\n",
       " 'https://www.instagram.com/p/C_fV7vsJ-lj/',\n",
       " 'https://www.instagram.com/p/DAilE_BP-mT/',\n",
       " 'https://www.instagram.com/p/ClQg8v9h_Dg/',\n",
       " 'https://www.instagram.com/p/CkKgzAbp_7c/',\n",
       " 'https://www.instagram.com/p/ChU8EDQpv9g/',\n",
       " 'https://www.instagram.com/p/CfbaI6_vz7K/',\n",
       " 'https://www.instagram.com/p/C_eo524hAIS/',\n",
       " 'https://www.instagram.com/p/C_NAKgVpHjX/',\n",
       " 'https://www.instagram.com/p/DAnTxlwy7z_/',\n",
       " 'https://www.instagram.com/p/CgvEzAjBJwJ/',\n",
       " 'https://www.instagram.com/p/CZOPGq0FUNC/',\n",
       " 'https://www.instagram.com/p/CfDl26EP4OM/',\n",
       " 'https://www.instagram.com/p/CaFCLWMvlHH/',\n",
       " 'https://www.instagram.com/p/CeTif81lazq/',\n",
       " 'https://www.instagram.com/p/CZOe886Fmua/',\n",
       " 'https://www.instagram.com/p/CZUOBU-vnFE/',\n",
       " 'https://www.instagram.com/p/C4xJdd4PLGC/',\n",
       " 'https://www.instagram.com/p/C_Mm5VQSH70/',\n",
       " 'https://www.instagram.com/p/Cew0kOzvOzK/',\n",
       " 'https://www.instagram.com/p/CeWPKVuBoCy/',\n",
       " 'https://www.instagram.com/p/C5YTrPWvJBt/',\n",
       " 'https://www.instagram.com/p/ChrjNSOPTGS/',\n",
       " 'https://www.instagram.com/p/CZLroRLFWmb/',\n",
       " 'https://www.instagram.com/p/CewKKs0pQF9/',\n",
       " 'https://www.instagram.com/p/C_N1P30yvIN/',\n",
       " 'https://www.instagram.com/p/CmlZarcBGjM/',\n",
       " 'https://www.instagram.com/p/CfRbhsBP6N3/',\n",
       " 'https://www.instagram.com/p/CkIRuFDvW3A/',\n",
       " 'https://www.instagram.com/p/CkMotnwBnXB/',\n",
       " 'https://www.instagram.com/p/ChV8VU8praO/',\n",
       " 'https://www.instagram.com/p/CZL2JLRFuv0/',\n",
       " 'https://www.instagram.com/p/CiPDv3TJ4IT/',\n",
       " 'https://www.instagram.com/p/CZO6tHZpzam/',\n",
       " 'https://www.instagram.com/p/CaRI8PMvlgK/',\n",
       " 'https://www.instagram.com/p/CZoGAAzLLF-/',\n",
       " 'https://www.instagram.com/p/CZRNA7-v5q3/',\n",
       " 'https://www.instagram.com/p/C_Nu_3Cvf0m/',\n",
       " 'https://www.instagram.com/p/CeKdqlPpV7Y/',\n",
       " 'https://www.instagram.com/p/CfoadYFJzeP/',\n",
       " 'https://www.instagram.com/p/Cen9x06p6rY/',\n",
       " 'https://www.instagram.com/p/CeSzLERroJs/',\n",
       " 'https://www.instagram.com/p/CiebxYzpymw/',\n",
       " 'https://www.instagram.com/p/CexKICPJWl7/',\n",
       " 'https://www.instagram.com/p/ChKGY-Uv8BR/',\n",
       " 'https://www.instagram.com/p/CfjaHiqJJeB/',\n",
       " 'https://www.instagram.com/p/Chi31MShger/',\n",
       " 'https://www.instagram.com/p/CeyM0BVJsgm/',\n",
       " 'https://www.instagram.com/p/Cef06xvLiQC/',\n",
       " 'https://www.instagram.com/p/ChGKUHhBjyY/',\n",
       " 'https://www.instagram.com/p/CZR976kP9Xr/',\n",
       " 'https://www.instagram.com/p/ChQ99I4hYcw/',\n",
       " 'https://www.instagram.com/p/ChLlBh_J5v0/',\n",
       " 'https://www.instagram.com/p/CfYXp82p_-h/',\n",
       " 'https://www.instagram.com/p/CfL-SfzBJiF/',\n",
       " 'https://www.instagram.com/p/C_0Eb0kzBVv/',\n",
       " 'https://www.instagram.com/p/ChUYXrMvCJt/',\n",
       " 'https://www.instagram.com/p/CZObXfcFwIq/',\n",
       " 'https://www.instagram.com/p/C_kKRBESYxB/',\n",
       " 'https://www.instagram.com/p/CZpItLeB8fN/',\n",
       " 'https://www.instagram.com/p/CaUdLmCvrii/',\n",
       " 'https://www.instagram.com/p/C_Uh6JQJmM2/',\n",
       " 'https://www.instagram.com/p/Ch5ejmkBYOQ/',\n",
       " 'https://www.instagram.com/p/CZLm2HUN96H/',\n",
       " 'https://www.instagram.com/p/C_UglOEp9UB/',\n",
       " 'https://www.instagram.com/p/Ced8wR-JCdC/',\n",
       " 'https://www.instagram.com/p/CZexY-UhHeb/',\n",
       " 'https://www.instagram.com/p/C6P1bdKPeGY/',\n",
       " 'https://www.instagram.com/p/CbMa2FxlCaL/',\n",
       " 'https://www.instagram.com/p/CeF3AFtLihi/',\n",
       " 'https://www.instagram.com/p/CeZ6PV9pmo5/',\n",
       " 'https://www.instagram.com/p/C7ol4ttpF2x/',\n",
       " 'https://www.instagram.com/p/C_ODhxnyw6k/',\n",
       " 'https://www.instagram.com/p/CeoGrdfvhdV/',\n",
       " 'https://www.instagram.com/p/CiOYhywvKtc/',\n",
       " 'https://www.instagram.com/p/ChWwtevpaoZ/',\n",
       " 'https://www.instagram.com/p/CfK_lz1v8aA/',\n",
       " 'https://www.instagram.com/p/CfMjPiNpysb/',\n",
       " 'https://www.instagram.com/p/ChV8MbiphSu/']"
      ]
     },
     "execution_count": 63,
     "metadata": {},
     "output_type": "execute_result"
    }
   ],
   "source": [
    "import pickle\n",
    "with open(\"feed_urls.pkl\", \"wb\") as f:\n",
    "    pickle.dump(feed_urls, f)\n",
    "feed_urls"
   ]
  },
  {
   "cell_type": "code",
   "execution_count": 64,
   "metadata": {},
   "outputs": [],
   "source": [
    "driver.get('https://www.instagram.com/p/CZLWfYGghrz/')"
   ]
  },
  {
   "cell_type": "code",
   "execution_count": null,
   "metadata": {},
   "outputs": [],
   "source": []
  },
  {
   "cell_type": "code",
   "execution_count": null,
   "metadata": {},
   "outputs": [],
   "source": []
  },
  {
   "cell_type": "code",
   "execution_count": null,
   "metadata": {},
   "outputs": [],
   "source": []
  },
  {
   "cell_type": "code",
   "execution_count": null,
   "metadata": {},
   "outputs": [],
   "source": []
  },
  {
   "cell_type": "code",
   "execution_count": 205,
   "metadata": {},
   "outputs": [
    {
     "name": "stdout",
     "output_type": "stream",
     "text": [
      "The autoreload extension is already loaded. To reload it, use:\n",
      "  %reload_ext autoreload\n"
     ]
    }
   ],
   "source": [
    "%load_ext autoreload\n",
    "%autoreload 2\n",
    "from insta_crawl import *"
   ]
  },
  {
   "cell_type": "code",
   "execution_count": 316,
   "metadata": {},
   "outputs": [
    {
     "name": "stdout",
     "output_type": "stream",
     "text": [
      "로그인 완료\n"
     ]
    }
   ],
   "source": [
    "insta_elem_extractor = Insta_Element_Extractor()"
   ]
  },
  {
   "cell_type": "code",
   "execution_count": 317,
   "metadata": {},
   "outputs": [],
   "source": [
    "insta_elems = insta_elem_extractor.extract()\n",
    "insta_elem_extractor.close()"
   ]
  },
  {
   "cell_type": "code",
   "execution_count": 318,
   "metadata": {},
   "outputs": [
    {
     "name": "stdout",
     "output_type": "stream",
     "text": [
      "로그인 완료\n"
     ]
    }
   ],
   "source": [
    "itfc = Insta_Tag_Feed_Crawler(insta_elements = insta_elems)"
   ]
  },
  {
   "cell_type": "code",
   "execution_count": 290,
   "metadata": {},
   "outputs": [],
   "source": [
    "tag_name = itfc.insta_elements.get(\"datetime\").get(\"tag_name\")\n",
    "classname = itfc.insta_elements.get(\"datetime\").get(\"classname\")"
   ]
  },
  {
   "cell_type": "code",
   "execution_count": 304,
   "metadata": {},
   "outputs": [],
   "source": [
    "view_count_tag_name"
   ]
  },
  {
   "cell_type": "code",
   "execution_count": 305,
   "metadata": {},
   "outputs": [
    {
     "data": {
      "text/plain": [
       "{'nickname': {'tag_name': 'span',\n",
       "  'classname': '_ap3a _aaco _aacw _aacx _aad7 _aade'},\n",
       " 'contents': {'tag_name': 'span',\n",
       "  'classname': 'x193iq5w xeuugli x1fj9vlw x13faqbe x1vvkbs xt0psk2 x1i0vuye xvs91rp xo1l8bm x5n08af x10wh9bi x1wdrske x8viiok x18hxmgj'},\n",
       " 'like_count': {'tag_name': 'span',\n",
       "  'classname': 'x193iq5w xeuugli x1fj9vlw x13faqbe x1vvkbs xt0psk2 x1i0vuye xvs91rp x1s688f x5n08af x10wh9bi x1wdrske x8viiok x18hxmgj'},\n",
       " 'view_count': {'view_tag_name': 'span',\n",
       "  'view_classname': 'x1lliihq x1plvlek xryxfnj x1n2onr6 x1ji0vk5 x18bv5gf x193iq5w xeuugli x1fj9vlw x13faqbe x1vvkbs x1s928wv xhkezso x1gmr53x x1cpjm7i x1fgarty x1943h6x x1i0vuye xvs91rp x1s688f x5n08af x10wh9bi x1wdrske x8viiok x18hxmgj',\n",
       "  'like_tag_name': 'div',\n",
       "  'like_classname': '_aauu'},\n",
       " 'datetime': {'tag_name': 'time', 'classname': 'x1p4m5qa'},\n",
       " 'image': {'parent_tag_name': 'div',\n",
       "  'parent_classname': 'x1i10hfl',\n",
       "  'tag_name': 'img',\n",
       "  'classname': 'x5yr21d xu96u03 x10l6tqk x13vifvy x87ps6o xh8yej3'}}"
      ]
     },
     "execution_count": 305,
     "metadata": {},
     "output_type": "execute_result"
    }
   ],
   "source": [
    "itfc.insta_elements"
   ]
  },
  {
   "cell_type": "code",
   "execution_count": 308,
   "metadata": {},
   "outputs": [],
   "source": [
    "itfc.driver.get(\"https://www.instagram.com/p/CZLWfYGghrz/\")"
   ]
  },
  {
   "cell_type": "code",
   "execution_count": 315,
   "metadata": {},
   "outputs": [
    {
     "data": {
      "text/plain": [
       "\"//span[@class='x1lliihq x1plvlek xryxfnj x1n2onr6 x1ji0vk5 x18bv5gf x193iq5w xeuugli x1fj9vlw x13faqbe x1vvkbs x1s928wv xhkezso x1gmr53x x1cpjm7i x1fgarty x1943h6x x1i0vuye xvs91rp x1s688f x5n08af x10wh9bi x1wdrske x8viiok x18hxmgj']\""
      ]
     },
     "execution_count": 315,
     "metadata": {},
     "output_type": "execute_result"
    }
   ],
   "source": [
    "f\"//{view_count_tag_name}[@class='{view_count_classname}']\""
   ]
  },
  {
   "cell_type": "code",
   "execution_count": 321,
   "metadata": {},
   "outputs": [],
   "source": [
    "itfc.driver.find_elements(By.XPATH, \"//span[contains(text(), '조회')]\")[0].click()"
   ]
  },
  {
   "cell_type": "code",
   "execution_count": 314,
   "metadata": {},
   "outputs": [],
   "source": [
    "itfc.driver.find_elements(By.XPATH, f\"//{view_count_tag_name}[@class='{view_count_classname}']\")[0].click()"
   ]
  },
  {
   "cell_type": "code",
   "execution_count": 310,
   "metadata": {},
   "outputs": [],
   "source": [
    "like_count_tag_name = itfc.insta_elements.get(\"view_count\").get(\"like_tag_name\")\n",
    "like_count_classname = itfc.insta_elements.get(\"view_count\").get(\"like_classname\")\n",
    "view_count_tag_name = itfc.insta_elements.get(\"view_count\").get(\"view_tag_name\")\n",
    "view_count_classname = itfc.insta_elements.get(\"view_count\").get(\"view_classname\")\n",
    "\n",
    "view_elems = itfc.driver.find_elements(By.XPATH, f\"//{view_count_tag_name}[@class='{view_count_classname}']\")\n",
    "if len(view_elems) > 0:\n",
    "    view_elems[0].click()"
   ]
  },
  {
   "cell_type": "code",
   "execution_count": 301,
   "metadata": {},
   "outputs": [
    {
     "name": "stdout",
     "output_type": "stream",
     "text": [
      "123123\n"
     ]
    }
   ],
   "source": [
    "slide_right_button = itfc.driver.find_elements(By.XPATH, f\"//button[@aria-label='다음']\")\n",
    "if len(slide_right_button) != 0:\n",
    "    slide_right_button[0].click()\n",
    "else:\n",
    "    print(\"123123\")"
   ]
  },
  {
   "cell_type": "code",
   "execution_count": 294,
   "metadata": {},
   "outputs": [],
   "source": [
    "itfc.insta_elements = insta_elems"
   ]
  },
  {
   "cell_type": "code",
   "execution_count": 322,
   "metadata": {},
   "outputs": [
    {
     "data": {
      "text/plain": [
       "defaultdict(list,\n",
       "            {'feed_url': 'https://www.instagram.com/p/CZLWfYGghrz/',\n",
       "             'nickname': 'cplusagency_official',\n",
       "             'pocontentsst_body': '[LG UP 가전]\\n\\n쓰면 쓸수록 계~속 업그레이드되는 이걸,\\n그냥 가전이라고 부를 수 있을까요?\\n\\n당신에게 맞춰 계속 더 좋아지는\\nLG UP가전으로 변화된 일상을 누려보세요!\\n\\n#LGup\\n#LG #LG전자 #엘지 #엘지전자#씨플러스 #광고모델 #광고모델에이전시 #광고 #ONAIR #TVCF #씨플러스에이전시 #일반인모델 #모델에이전시 #모델구함 #캐스팅디렉터 #모델지원',\n",
       "             'like_count': '54',\n",
       "             'view_count': '153',\n",
       "             'datetime': '2022-01-26T02:59:32.000Z',\n",
       "             'image_urls': []})"
      ]
     },
     "execution_count": 322,
     "metadata": {},
     "output_type": "execute_result"
    }
   ],
   "source": [
    "itfc.get_feed_info(\"https://www.instagram.com/p/CZLWfYGghrz/\")"
   ]
  },
  {
   "cell_type": "code",
   "execution_count": 271,
   "metadata": {},
   "outputs": [
    {
     "name": "stdout",
     "output_type": "stream",
     "text": [
      "로그인 완료\n"
     ]
    }
   ],
   "source": [
    "itfc = Insta_Tag_Feed_Crawler(insta_elements = insta_elems)"
   ]
  },
  {
   "cell_type": "code",
   "execution_count": 222,
   "metadata": {},
   "outputs": [
    {
     "data": {
      "text/plain": [
       "1601"
      ]
     },
     "execution_count": 222,
     "metadata": {},
     "output_type": "execute_result"
    }
   ],
   "source": [
    "len(itfc.feed_urls)"
   ]
  },
  {
   "cell_type": "code",
   "execution_count": 223,
   "metadata": {},
   "outputs": [],
   "source": [
    "itfc.driver.refresh()\n",
    "time.sleep(1)  # 새로고침 후 페이지 로드 대기\n",
    "# feed_urls = []  # URL 리스트 초기화\n",
    "last_height = itfc.driver.execute_script(\"return document.body.scrollHeight\")\n",
    "retry_count = 0  # 시도 카운트 초기화"
   ]
  },
  {
   "cell_type": "code",
   "execution_count": 240,
   "metadata": {},
   "outputs": [
    {
     "name": "stdout",
     "output_type": "stream",
     "text": [
      "로그인 완료\n"
     ]
    }
   ],
   "source": [
    "insta = Insta_Selenium()"
   ]
  },
  {
   "cell_type": "code",
   "execution_count": null,
   "metadata": {},
   "outputs": [],
   "source": [
    "insta.sha"
   ]
  },
  {
   "cell_type": "code",
   "execution_count": 265,
   "metadata": {},
   "outputs": [
    {
     "data": {
      "text/plain": [
       "'54'"
      ]
     },
     "execution_count": 265,
     "metadata": {},
     "output_type": "execute_result"
    }
   ],
   "source": [
    "insta.driver.find_elements(By.XPATH, \"//div[contains(text(), '좋아요')]\")[0].find_elements(By.XPATH, \"span\")[0].text"
   ]
  },
  {
   "cell_type": "code",
   "execution_count": 266,
   "metadata": {},
   "outputs": [
    {
     "data": {
      "text/plain": [
       "'153'"
      ]
     },
     "execution_count": 266,
     "metadata": {},
     "output_type": "execute_result"
    }
   ],
   "source": [
    "insta.driver.find_elements(By.XPATH, \"//span[contains(text(), '조회')]\")[0].find_elements(By.XPATH, \"span\")[0].text"
   ]
  },
  {
   "cell_type": "code",
   "execution_count": 244,
   "metadata": {},
   "outputs": [
    {
     "data": {
      "text/plain": [
       "'x1lliihq x1plvlek xryxfnj x1n2onr6 x1ji0vk5 x18bv5gf x193iq5w xeuugli x1fj9vlw x13faqbe x1vvkbs x1s928wv xhkezso x1gmr53x x1cpjm7i x1fgarty x1943h6x x1i0vuye xvs91rp x1s688f x5n08af x10wh9bi x1wdrske x8viiok x18hxmgj'"
      ]
     },
     "execution_count": 244,
     "metadata": {},
     "output_type": "execute_result"
    }
   ],
   "source": [
    "insta.driver.find_elements(By.XPATH, \"//span[contains(text(), '조회')]\")[0].get_attribute(\"class\")"
   ]
  },
  {
   "cell_type": "code",
   "execution_count": 324,
   "metadata": {},
   "outputs": [],
   "source": [
    "urls = ['https://www.instagram.com/p/CZLWfYGghrz/',\n",
    " 'https://www.instagram.com/p/CeNbW-HJ3Tv/',\n",
    " 'https://www.instagram.com/p/DAkrkKLPwfw/',\n",
    " 'https://www.instagram.com/p/C_O-T-3S7QZ/']"
   ]
  },
  {
   "cell_type": "code",
   "execution_count": 339,
   "metadata": {},
   "outputs": [],
   "source": [
    "buttons = itfc.driver.find_elements(By.XPATH, \"//button\")"
   ]
  },
  {
   "cell_type": "code",
   "execution_count": 390,
   "metadata": {},
   "outputs": [
    {
     "data": {
      "text/plain": [
       "[]"
      ]
     },
     "execution_count": 390,
     "metadata": {},
     "output_type": "execute_result"
    }
   ],
   "source": [
    "itfc.driver.find_elements(By.XPATH, f\"//*[contains(@aria-label, '다음')]\")"
   ]
  },
  {
   "cell_type": "code",
   "execution_count": 362,
   "metadata": {},
   "outputs": [],
   "source": [
    "from selenium.webdriver.support.ui import WebDriverWait\n",
    "from selenium.webdriver.support import expected_conditions as EC"
   ]
  },
  {
   "cell_type": "code",
   "execution_count": 375,
   "metadata": {},
   "outputs": [
    {
     "data": {
      "text/plain": [
       "<function selenium.webdriver.support.expected_conditions.presence_of_element_located.<locals>._predicate(driver: Union[selenium.webdriver.remote.webdriver.WebDriver, selenium.webdriver.remote.webelement.WebElement])>"
      ]
     },
     "execution_count": 375,
     "metadata": {},
     "output_type": "execute_result"
    }
   ],
   "source": [
    "temp"
   ]
  },
  {
   "cell_type": "code",
   "execution_count": 371,
   "metadata": {},
   "outputs": [],
   "source": [
    "temp = EC.presence_of_element_located((By.XPATH, \"//button[@aria-label='다음']\"))"
   ]
  },
  {
   "cell_type": "code",
   "execution_count": 389,
   "metadata": {},
   "outputs": [],
   "source": [
    "itfc.driver.implicitly_wait(1)"
   ]
  },
  {
   "cell_type": "code",
   "execution_count": 380,
   "metadata": {},
   "outputs": [
    {
     "name": "stdout",
     "output_type": "stream",
     "text": [
      "다음 버튼이 없습니다.\n"
     ]
    }
   ],
   "source": [
    "try:\n",
    "    # 최대 2초 동안 버튼이 나타나는지 기다림\n",
    "    next_button = WebDriverWait(itfc.driver, 2).until(\n",
    "        EC.presence_of_element_located((By.XPATH, \"//button[@aria-label='다음']\"))\n",
    "    )\n",
    "    print(\"다음 버튼이 있습니다.\")\n",
    "except:\n",
    "    print(\"다음 버튼이 없습니다.\")"
   ]
  },
  {
   "cell_type": "code",
   "execution_count": 402,
   "metadata": {},
   "outputs": [],
   "source": [
    "itfc.driver.implicitly_wait(1)"
   ]
  },
  {
   "cell_type": "code",
   "execution_count": 382,
   "metadata": {},
   "outputs": [],
   "source": [
    "temp = itfc.driver.find_elements(By.XPATH, \"//div[@class='x1qjc9v5 x9f619 x78zum5 xdt5ytf xln7xf2 xk390pu x5yr21d x1n2onr6 x11njtxf xh8yej3']\")"
   ]
  },
  {
   "cell_type": "code",
   "execution_count": 383,
   "metadata": {},
   "outputs": [
    {
     "ename": "IndexError",
     "evalue": "list index out of range",
     "output_type": "error",
     "traceback": [
      "\u001b[1;31m---------------------------------------------------------------------------\u001b[0m",
      "\u001b[1;31mIndexError\u001b[0m                                Traceback (most recent call last)",
      "Cell \u001b[1;32mIn[383], line 1\u001b[0m\n\u001b[1;32m----> 1\u001b[0m \u001b[43mtemp\u001b[49m\u001b[43m[\u001b[49m\u001b[38;5;241;43m0\u001b[39;49m\u001b[43m]\u001b[49m\u001b[38;5;241m.\u001b[39mfind_elements(By\u001b[38;5;241m.\u001b[39mXPATH, \u001b[38;5;124m\"\u001b[39m\u001b[38;5;124mbutton[@class=\u001b[39m\u001b[38;5;124m'\u001b[39m\u001b[38;5;124mxx\u001b[39m\u001b[38;5;124m'\u001b[39m\u001b[38;5;124m]\u001b[39m\u001b[38;5;124m\"\u001b[39m)\n",
      "\u001b[1;31mIndexError\u001b[0m: list index out of range"
     ]
    }
   ],
   "source": [
    "temp.find_elements(By.XPATH, \"button[@class='xx']\")"
   ]
  },
  {
   "cell_type": "code",
   "execution_count": 342,
   "metadata": {},
   "outputs": [
    {
     "data": {
      "text/plain": [
       "<selenium.webdriver.remote.webelement.WebElement (session=\"811a6bdc52aec80f7feee5adfa52b247\", element=\"f.A244AB15A588D1B7296C704F74BEBADC.d.50FD5DD34812968E6C4C7CBD81EB6265.e.13197\")>"
      ]
     },
     "execution_count": 342,
     "metadata": {},
     "output_type": "execute_result"
    }
   ],
   "source": [
    "[ btn for btn in buttons if btn.get_attribute(\"aria-label\") == \"다음\"][0]"
   ]
  },
  {
   "cell_type": "code",
   "execution_count": 336,
   "metadata": {},
   "outputs": [
    {
     "data": {
      "text/plain": [
       "[<selenium.webdriver.remote.webelement.WebElement (session=\"811a6bdc52aec80f7feee5adfa52b247\", element=\"f.A244AB15A588D1B7296C704F74BEBADC.d.2592F615ACF6C660556FDC68E941A8D2.e.11217\")>]"
      ]
     },
     "execution_count": 336,
     "metadata": {},
     "output_type": "execute_result"
    }
   ],
   "source": [
    "[dv for dv in divs if dv.get_attribute(\"class\") == \"x1i10hfl\"]"
   ]
  },
  {
   "cell_type": "code",
   "execution_count": 330,
   "metadata": {},
   "outputs": [
    {
     "name": "stdout",
     "output_type": "stream",
     "text": [
      "['https://scontent.cdninstagram.com/v/t51.29350-15/457275632_1845542055972761_3326804479487784808_n.heic?stp=dst-jpg_e35&efg=eyJ2ZW5jb2RlX3RhZyI6ImltYWdlX3VybGdlbi4xNDQweDE0NDAuc2RyLmYyOTM1MC5kZWZhdWx0X2ltYWdlIn0&_nc_ht=scontent.cdninstagram.com&_nc_cat=105&_nc_ohc=jowRFjoYoeIQ7kNvgGFxj_F&_nc_gid=3bd7e3cc442d4039939ba6daf4e6c23c&edm=APs17CUBAAAA&ccb=7-5&ig_cache_key=MzQ0NDk2NDgxNzAzODQ1NTgzMw%3D%3D.3-ccb7-5&oh=00_AYCNL4YZGnLJcr3eUFxgeUUztGUptY12SWVZJJkH2yitPA&oe=671FABBC&_nc_sid=10d13b']\n"
     ]
    },
    {
     "data": {
      "text/plain": [
       "['https://scontent.cdninstagram.com/v/t51.29350-15/457275632_1845542055972761_3326804479487784808_n.heic?stp=dst-jpg_e35&efg=eyJ2ZW5jb2RlX3RhZyI6ImltYWdlX3VybGdlbi4xNDQweDE0NDAuc2RyLmYyOTM1MC5kZWZhdWx0X2ltYWdlIn0&_nc_ht=scontent.cdninstagram.com&_nc_cat=105&_nc_ohc=jowRFjoYoeIQ7kNvgGFxj_F&_nc_gid=3bd7e3cc442d4039939ba6daf4e6c23c&edm=APs17CUBAAAA&ccb=7-5&ig_cache_key=MzQ0NDk2NDgxNzAzODQ1NTgzMw%3D%3D.3-ccb7-5&oh=00_AYCNL4YZGnLJcr3eUFxgeUUztGUptY12SWVZJJkH2yitPA&oe=671FABBC&_nc_sid=10d13b']"
      ]
     },
     "execution_count": 330,
     "metadata": {},
     "output_type": "execute_result"
    }
   ],
   "source": [
    "itfc._get_image_urls()"
   ]
  },
  {
   "cell_type": "code",
   "execution_count": 397,
   "metadata": {},
   "outputs": [],
   "source": [
    "feed_urls = ['https://www.instagram.com/p/CZLWfYGghrz/',\n",
    " 'https://www.instagram.com/p/CeNbW-HJ3Tv/',\n",
    " 'https://www.instagram.com/p/DAkrkKLPwfw/',\n",
    " 'https://www.instagram.com/p/C_O-T-3S7QZ/',\n",
    " 'https://www.instagram.com/p/C_NJWqmJWcK/',\n",
    " 'https://www.instagram.com/p/C_NF0iDye2Y/',\n",
    " 'https://www.instagram.com/p/C_7DuUYB5LN/',\n",
    " 'https://www.instagram.com/p/C_7scnjpoYV/',\n",
    " 'https://www.instagram.com/p/C_484LgJ_22/',\n",
    " 'https://www.instagram.com/p/C_665Yahp34/',\n",
    " 'https://www.instagram.com/p/C_yE7SPSVn1/',\n",
    " 'https://www.instagram.com/p/C-raAZATe3r/',\n",
    " 'https://www.instagram.com/p/C6Pu3rUyTZa/',\n",
    " 'https://www.instagram.com/p/Co7JziVr_qV/',\n",
    " 'https://www.instagram.com/p/DBctrMZT7JR/',\n",
    " 'https://www.instagram.com/p/Ch6ssU1pP0b/',\n",
    " 'https://www.instagram.com/p/C_NGqyfTgu7/',\n",
    " 'https://www.instagram.com/p/CihLasDPDtI/',\n",
    " 'https://www.instagram.com/p/C_NvSOvvNl-/',\n",
    " 'https://www.instagram.com/p/C_pIii6JIsh/',\n",
    " 'https://www.instagram.com/p/C5ZvmBqyWLD/',\n",
    " 'https://www.instagram.com/p/ChpGujePg9G/',\n",
    " 'https://www.instagram.com/p/CkP2-MYB0z6/',\n",
    " 'https://www.instagram.com/p/CkNhGH3P3Lm/',\n",
    " 'https://www.instagram.com/p/Ch_mZpup86n/',\n",
    " 'https://www.instagram.com/p/C7odsuyBzXG/',\n",
    " 'https://www.instagram.com/p/C4ZO1EwPiHp/',\n",
    " 'https://www.instagram.com/p/Ch1hB2zvfB8/',\n",
    " 'https://www.instagram.com/p/C6Ob5ZZJNVO/',\n",
    " 'https://www.instagram.com/p/Co7Ofenv4_h/',\n",
    " 'https://www.instagram.com/p/CeUylVPhPJI/',\n",
    " 'https://www.instagram.com/p/CkVfmlZJVjF/',\n",
    " 'https://www.instagram.com/p/C5nBbIsvite/',\n",
    " 'https://www.instagram.com/p/CcUvM3xr2J4/',\n",
    " 'https://www.instagram.com/p/Cl5BYQqJsRt/',\n",
    " 'https://www.instagram.com/p/CZ8fqwDPle6/',\n",
    " 'https://www.instagram.com/p/C4uWC1BL1_6/',\n",
    " 'https://www.instagram.com/p/CmCHS7RPNUq/',\n",
    " 'https://www.instagram.com/p/Cl-cPEtr7Ro/']"
   ]
  },
  {
   "cell_type": "code",
   "execution_count": 231,
   "metadata": {},
   "outputs": [
    {
     "name": "stdout",
     "output_type": "stream",
     "text": [
      "0\n",
      "1\n",
      "2\n"
     ]
    },
    {
     "data": {
      "text/plain": [
       "['https://www.instagram.com/p/CZLWfYGghrz/',\n",
       " 'https://www.instagram.com/p/CeNbW-HJ3Tv/',\n",
       " 'https://www.instagram.com/p/DAkrkKLPwfw/',\n",
       " 'https://www.instagram.com/p/C_O-T-3S7QZ/',\n",
       " 'https://www.instagram.com/p/C_NJWqmJWcK/',\n",
       " 'https://www.instagram.com/p/C_NF0iDye2Y/',\n",
       " 'https://www.instagram.com/p/C_7DuUYB5LN/',\n",
       " 'https://www.instagram.com/p/C_7scnjpoYV/',\n",
       " 'https://www.instagram.com/p/C_484LgJ_22/',\n",
       " 'https://www.instagram.com/p/C_665Yahp34/',\n",
       " 'https://www.instagram.com/p/C_yE7SPSVn1/',\n",
       " 'https://www.instagram.com/p/C-raAZATe3r/',\n",
       " 'https://www.instagram.com/p/C6Pu3rUyTZa/',\n",
       " 'https://www.instagram.com/p/Co7JziVr_qV/',\n",
       " 'https://www.instagram.com/p/DBctrMZT7JR/',\n",
       " 'https://www.instagram.com/p/Ch6ssU1pP0b/',\n",
       " 'https://www.instagram.com/p/C_NGqyfTgu7/',\n",
       " 'https://www.instagram.com/p/CihLasDPDtI/',\n",
       " 'https://www.instagram.com/p/C_NvSOvvNl-/',\n",
       " 'https://www.instagram.com/p/C_pIii6JIsh/',\n",
       " 'https://www.instagram.com/p/C5ZvmBqyWLD/',\n",
       " 'https://www.instagram.com/p/ChpGujePg9G/',\n",
       " 'https://www.instagram.com/p/CkP2-MYB0z6/',\n",
       " 'https://www.instagram.com/p/CkNhGH3P3Lm/',\n",
       " 'https://www.instagram.com/p/Ch_mZpup86n/',\n",
       " 'https://www.instagram.com/p/C7odsuyBzXG/',\n",
       " 'https://www.instagram.com/p/C4ZO1EwPiHp/',\n",
       " 'https://www.instagram.com/p/Ch1hB2zvfB8/',\n",
       " 'https://www.instagram.com/p/C6Ob5ZZJNVO/',\n",
       " 'https://www.instagram.com/p/Co7Ofenv4_h/',\n",
       " 'https://www.instagram.com/p/CeUylVPhPJI/',\n",
       " 'https://www.instagram.com/p/CkVfmlZJVjF/',\n",
       " 'https://www.instagram.com/p/C5nBbIsvite/',\n",
       " 'https://www.instagram.com/p/CcUvM3xr2J4/',\n",
       " 'https://www.instagram.com/p/Cl5BYQqJsRt/',\n",
       " 'https://www.instagram.com/p/CZ8fqwDPle6/',\n",
       " 'https://www.instagram.com/p/C4uWC1BL1_6/',\n",
       " 'https://www.instagram.com/p/CmCHS7RPNUq/',\n",
       " 'https://www.instagram.com/p/Cl-cPEtr7Ro/']"
      ]
     },
     "execution_count": 231,
     "metadata": {},
     "output_type": "execute_result"
    }
   ],
   "source": [
    "itfc.get_feed_urls_from_search_result(tag = \"up가전\")"
   ]
  },
  {
   "cell_type": "code",
   "execution_count": 272,
   "metadata": {},
   "outputs": [],
   "source": [
    "itfc.feed_urls = ['https://www.instagram.com/p/CZLWfYGghrz/',\n",
    " 'https://www.instagram.com/p/CeNbW-HJ3Tv/',\n",
    " 'https://www.instagram.com/p/DAkrkKLPwfw/']"
   ]
  },
  {
   "cell_type": "code",
   "execution_count": 403,
   "metadata": {},
   "outputs": [
    {
     "name": "stdout",
     "output_type": "stream",
     "text": [
      "nickname : 0:00:01.637830\n",
      "contents : 0:00:00.194906\n",
      "feed_datetime : 0:00:00.046894\n",
      "[]\n",
      "image_urls : 0:00:02.459723\n",
      "_define_view_like_type : 0:00:01.076191\n",
      "view_like_type  : view_like\n",
      "view_like_type : 0:00:00.237200\n",
      "nickname : 0:00:00.064918\n",
      "contents : 0:00:00.044748\n",
      "feed_datetime : 0:00:00.045778\n",
      "['https://scontent.cdninstagram.com/v/t51.29350-15/284812101_174288135035185_7028778028035580514_n.webp?stp=dst-jpg_e35&efg=eyJ2ZW5jb2RlX3RhZyI6ImltYWdlX3VybGdlbi44MDB4NTU0LnNkci5mMjkzNTAuZGVmYXVsdF9pbWFnZSJ9&_nc_ht=scontent.cdninstagram.com&_nc_cat=101&_nc_ohc=I7iB9Uj60woQ7kNvgFnzzFZ&_nc_gid=3adbde534aef45e6b8fc5cb7bd4f5d5a&edm=APs17CUBAAAA&ccb=7-5&ig_cache_key=Mjg1MDA1NDQ2NDk3MTY5OTQzOQ%3D%3D.3-ccb7-5&oh=00_AYDc5R0phtlVi9alWz_9Unb4VW0KY-n_nuudxeutcwbRIg&oe=671FC04B&_nc_sid=10d13b']\n",
      "image_urls : 0:00:01.060567\n",
      "_define_view_like_type : 0:00:00.018330\n",
      "view_like_type  : like\n",
      "view_like_type : 0:00:00.038502\n",
      "nickname : 0:00:00.164702\n",
      "contents : 0:00:00.047451\n",
      "feed_datetime : 0:00:00.022833\n",
      "['https://scontent.cdninstagram.com/v/t51.29350-15/461806836_881610007249669_7717341138702332661_n.heic?stp=dst-jpg_e35&efg=eyJ2ZW5jb2RlX3RhZyI6ImltYWdlX3VybGdlbi4xNDQweDE0NDAuc2RyLmYyOTM1MC5kZWZhdWx0X2ltYWdlIn0&_nc_ht=scontent.cdninstagram.com&_nc_cat=101&_nc_ohc=2w_6ClVIypUQ7kNvgGFDWdl&_nc_gid=0aba802d82464b7ea0b84e9bdecb9b8d&edm=APs17CUBAAAA&ccb=7-5&ig_cache_key=MzQ2OTA4OTIxMzgwOTM2MjkyOA%3D%3D.3-ccb7-5&oh=00_AYCt1sbx6IuSv9MuIyagfHqEzr2zyMv2Tpg6pwrbkD2JHQ&oe=671FAC91&_nc_sid=10d13b']\n",
      "image_urls : 0:00:01.158290\n",
      "_define_view_like_type : 0:00:02.067978\n",
      "view_like_type  : like\n",
      "view_like_type : 0:00:01.045478\n",
      "nickname : 0:00:00.967140\n",
      "contents : 0:00:00.127418\n",
      "feed_datetime : 0:00:00.034709\n",
      "['https://scontent.cdninstagram.com/v/t51.29350-15/457275632_1845542055972761_3326804479487784808_n.heic?stp=dst-jpg_e35&efg=eyJ2ZW5jb2RlX3RhZyI6ImltYWdlX3VybGdlbi4xNDQweDE0NDAuc2RyLmYyOTM1MC5kZWZhdWx0X2ltYWdlIn0&_nc_ht=scontent.cdninstagram.com&_nc_cat=105&_nc_ohc=jowRFjoYoeIQ7kNvgEKbIoM&_nc_gid=82a4cefdfee6450f9855a326462d4b94&edm=APs17CUBAAAA&ccb=7-5&ig_cache_key=MzQ0NDk2NDgxNzAzODQ1NTgzMw%3D%3D.3-ccb7-5&oh=00_AYCPpvZ5EtQOYFi9L7j5qs7C0bDKdTX84p-sa_38jh-Gmw&oe=671FABBC&_nc_sid=10d13b']\n",
      "image_urls : 0:00:01.102215\n",
      "_define_view_like_type : 0:00:02.089617\n",
      "view_like_type  : like\n",
      "view_like_type : 0:00:01.115046\n",
      "nickname : 0:00:00.064727\n",
      "contents : 0:00:00.084869\n",
      "feed_datetime : 0:00:00.037267\n",
      "['https://scontent.cdninstagram.com/v/t51.29350-15/457501908_1097312975391479_2271917180492346740_n.heic?stp=dst-jpg_e35&efg=eyJ2ZW5jb2RlX3RhZyI6ImltYWdlX3VybGdlbi4xMDgweDEwODAuc2RyLmYyOTM1MC5kZWZhdWx0X2ltYWdlIn0&_nc_ht=scontent.cdninstagram.com&_nc_cat=111&_nc_ohc=tj1OyrZ7AiMQ7kNvgGhLhgW&_nc_gid=071b88a78b5443cb998f40c87e742636&edm=APs17CUBAAAA&ccb=7-5&ig_cache_key=MzQ0NDQ1MDQyOTk5MjUyNzYyNg%3D%3D.3-ccb7-5&oh=00_AYBOvIx0Hxtw6lrcfbhv-FWAEaMbuW0xHW-mdR2GhCTUCw&oe=671FCE9A&_nc_sid=10d13b']\n",
      "image_urls : 0:00:01.130675\n",
      "_define_view_like_type : 0:00:02.133995\n",
      "view_like_type  : like\n",
      "view_like_type : 0:00:01.068693\n",
      "nickname : 0:00:00.058379\n",
      "contents : 0:00:00.527196\n",
      "feed_datetime : 0:00:00.366725\n",
      "['https://scontent.cdninstagram.com/v/t51.29350-15/457031643_534662102336690_7906844305540521733_n.jpg?stp=dst-jpg_e35&efg=eyJ2ZW5jb2RlX3RhZyI6ImltYWdlX3VybGdlbi4xMDgweDEwODAuc2RyLmYyOTM1MC5kZWZhdWx0X2ltYWdlIn0&_nc_ht=scontent.cdninstagram.com&_nc_cat=102&_nc_ohc=J9YmLCSq56UQ7kNvgEA4hyZ&_nc_gid=fb7e6e7d01da4eaf8fb5130b055f0040&edm=APs17CUBAAAA&ccb=7-5&ig_cache_key=MzQ0NDQzNDg4MzczMTY5NTIzMw%3D%3D.3-ccb7-5&oh=00_AYBMdgWztm2r1R8RQ14saF0S-FMroOOnn3wVf89fAeRleA&oe=671FAC2F&_nc_sid=10d13b', 'https://scontent.cdninstagram.com/v/t51.29350-15/457254595_1962755120910042_6479886758222159249_n.jpg?stp=dst-jpg_e35&efg=eyJ2ZW5jb2RlX3RhZyI6ImltYWdlX3VybGdlbi4xMDgweDEwODAuc2RyLmYyOTM1MC5kZWZhdWx0X2ltYWdlIn0&_nc_ht=scontent.cdninstagram.com&_nc_cat=106&_nc_ohc=mnAL55ezktcQ7kNvgFsJPXl&_nc_gid=fb7e6e7d01da4eaf8fb5130b055f0040&edm=APs17CUBAAAA&ccb=7-5&ig_cache_key=MzQ0NDQzNDg4Mzc0MDA5NjY3NQ%3D%3D.3-ccb7-5&oh=00_AYB5PEaqHBmWgZgUlc1x4gCN4vql0mrfjubY-ePNew3bcQ&oe=671FC10B&_nc_sid=10d13b']\n",
      "['https://scontent.cdninstagram.com/v/t51.29350-15/457031643_534662102336690_7906844305540521733_n.jpg?stp=dst-jpg_e35&efg=eyJ2ZW5jb2RlX3RhZyI6ImltYWdlX3VybGdlbi4xMDgweDEwODAuc2RyLmYyOTM1MC5kZWZhdWx0X2ltYWdlIn0&_nc_ht=scontent.cdninstagram.com&_nc_cat=102&_nc_ohc=J9YmLCSq56UQ7kNvgEA4hyZ&_nc_gid=fb7e6e7d01da4eaf8fb5130b055f0040&edm=APs17CUBAAAA&ccb=7-5&ig_cache_key=MzQ0NDQzNDg4MzczMTY5NTIzMw%3D%3D.3-ccb7-5&oh=00_AYBMdgWztm2r1R8RQ14saF0S-FMroOOnn3wVf89fAeRleA&oe=671FAC2F&_nc_sid=10d13b', 'https://scontent.cdninstagram.com/v/t51.29350-15/457254595_1962755120910042_6479886758222159249_n.jpg?stp=dst-jpg_e35&efg=eyJ2ZW5jb2RlX3RhZyI6ImltYWdlX3VybGdlbi4xMDgweDEwODAuc2RyLmYyOTM1MC5kZWZhdWx0X2ltYWdlIn0&_nc_ht=scontent.cdninstagram.com&_nc_cat=106&_nc_ohc=mnAL55ezktcQ7kNvgFsJPXl&_nc_gid=fb7e6e7d01da4eaf8fb5130b055f0040&edm=APs17CUBAAAA&ccb=7-5&ig_cache_key=MzQ0NDQzNDg4Mzc0MDA5NjY3NQ%3D%3D.3-ccb7-5&oh=00_AYB5PEaqHBmWgZgUlc1x4gCN4vql0mrfjubY-ePNew3bcQ&oe=671FC10B&_nc_sid=10d13b']\n",
      "['https://scontent.cdninstagram.com/v/t51.29350-15/457031643_534662102336690_7906844305540521733_n.jpg?stp=dst-jpg_e35&efg=eyJ2ZW5jb2RlX3RhZyI6ImltYWdlX3VybGdlbi4xMDgweDEwODAuc2RyLmYyOTM1MC5kZWZhdWx0X2ltYWdlIn0&_nc_ht=scontent.cdninstagram.com&_nc_cat=102&_nc_ohc=J9YmLCSq56UQ7kNvgEA4hyZ&_nc_gid=fb7e6e7d01da4eaf8fb5130b055f0040&edm=APs17CUBAAAA&ccb=7-5&ig_cache_key=MzQ0NDQzNDg4MzczMTY5NTIzMw%3D%3D.3-ccb7-5&oh=00_AYBMdgWztm2r1R8RQ14saF0S-FMroOOnn3wVf89fAeRleA&oe=671FAC2F&_nc_sid=10d13b', 'https://scontent.cdninstagram.com/v/t51.29350-15/457254595_1962755120910042_6479886758222159249_n.jpg?stp=dst-jpg_e35&efg=eyJ2ZW5jb2RlX3RhZyI6ImltYWdlX3VybGdlbi4xMDgweDEwODAuc2RyLmYyOTM1MC5kZWZhdWx0X2ltYWdlIn0&_nc_ht=scontent.cdninstagram.com&_nc_cat=106&_nc_ohc=mnAL55ezktcQ7kNvgFsJPXl&_nc_gid=fb7e6e7d01da4eaf8fb5130b055f0040&edm=APs17CUBAAAA&ccb=7-5&ig_cache_key=MzQ0NDQzNDg4Mzc0MDA5NjY3NQ%3D%3D.3-ccb7-5&oh=00_AYB5PEaqHBmWgZgUlc1x4gCN4vql0mrfjubY-ePNew3bcQ&oe=671FC10B&_nc_sid=10d13b']\n",
      "image_urls : 0:00:01.783068\n",
      "_define_view_like_type : 0:00:00.035108\n",
      "view_like_type  : like\n",
      "view_like_type : 0:00:00.052882\n",
      "nickname : 0:00:01.794725\n",
      "contents : 0:00:00.100089\n",
      "feed_datetime : 0:00:00.076405\n",
      "['https://scontent.cdninstagram.com/v/t51.29350-15/460084788_511204341514610_1107348721474473101_n.webp?stp=dst-jpg_e35&efg=eyJ2ZW5jb2RlX3RhZyI6ImltYWdlX3VybGdlbi4xNDQweDE0NDAuc2RyLmYyOTM1MC5kZWZhdWx0X2ltYWdlIn0&_nc_ht=scontent.cdninstagram.com&_nc_cat=102&_nc_ohc=TpCryJuQucwQ7kNvgHQtPkQ&_nc_gid=22f1d45a6d3c41f1a4eb6d92f2fbc62e&edm=APs17CUBAAAA&ccb=7-5&ig_cache_key=MzQ1NzM3MzUwODEyMzEwMjQ0Mg%3D%3D.3-ccb7-5&oh=00_AYBupVB0gaWAv8UT27zn1a7LMxO6n_ncchREJzHQmCx0gg&oe=671FCD38&_nc_sid=10d13b', 'https://scontent.cdninstagram.com/v/t51.29350-15/459876239_490653363870154_1541948182274683017_n.webp?stp=dst-jpg_e35&efg=eyJ2ZW5jb2RlX3RhZyI6ImltYWdlX3VybGdlbi4xNDQweDE0NDAuc2RyLmYyOTM1MC5kZWZhdWx0X2ltYWdlIn0&_nc_ht=scontent.cdninstagram.com&_nc_cat=110&_nc_ohc=KQE5F9nxRecQ7kNvgFmoNMT&_nc_gid=22f1d45a6d3c41f1a4eb6d92f2fbc62e&edm=APs17CUBAAAA&ccb=7-5&ig_cache_key=MzQ1NzM3MzUwODEyMzA2MTkzNA%3D%3D.3-ccb7-5&oh=00_AYB4nFDYcQlLP2wa5Pa9J-QLn0xjF7tuauWr9k-L89RZsw&oe=671FA3FB&_nc_sid=10d13b']\n",
      "['https://scontent.cdninstagram.com/v/t51.29350-15/460084788_511204341514610_1107348721474473101_n.webp?stp=dst-jpg_e35&efg=eyJ2ZW5jb2RlX3RhZyI6ImltYWdlX3VybGdlbi4xNDQweDE0NDAuc2RyLmYyOTM1MC5kZWZhdWx0X2ltYWdlIn0&_nc_ht=scontent.cdninstagram.com&_nc_cat=102&_nc_ohc=TpCryJuQucwQ7kNvgHQtPkQ&_nc_gid=22f1d45a6d3c41f1a4eb6d92f2fbc62e&edm=APs17CUBAAAA&ccb=7-5&ig_cache_key=MzQ1NzM3MzUwODEyMzEwMjQ0Mg%3D%3D.3-ccb7-5&oh=00_AYBupVB0gaWAv8UT27zn1a7LMxO6n_ncchREJzHQmCx0gg&oe=671FCD38&_nc_sid=10d13b', 'https://scontent.cdninstagram.com/v/t51.29350-15/459876239_490653363870154_1541948182274683017_n.webp?stp=dst-jpg_e35&efg=eyJ2ZW5jb2RlX3RhZyI6ImltYWdlX3VybGdlbi4xNDQweDE0NDAuc2RyLmYyOTM1MC5kZWZhdWx0X2ltYWdlIn0&_nc_ht=scontent.cdninstagram.com&_nc_cat=110&_nc_ohc=KQE5F9nxRecQ7kNvgFmoNMT&_nc_gid=22f1d45a6d3c41f1a4eb6d92f2fbc62e&edm=APs17CUBAAAA&ccb=7-5&ig_cache_key=MzQ1NzM3MzUwODEyMzA2MTkzNA%3D%3D.3-ccb7-5&oh=00_AYB4nFDYcQlLP2wa5Pa9J-QLn0xjF7tuauWr9k-L89RZsw&oe=671FA3FB&_nc_sid=10d13b']\n",
      "['https://scontent.cdninstagram.com/v/t51.29350-15/460084788_511204341514610_1107348721474473101_n.webp?stp=dst-jpg_e35&efg=eyJ2ZW5jb2RlX3RhZyI6ImltYWdlX3VybGdlbi4xNDQweDE0NDAuc2RyLmYyOTM1MC5kZWZhdWx0X2ltYWdlIn0&_nc_ht=scontent.cdninstagram.com&_nc_cat=102&_nc_ohc=TpCryJuQucwQ7kNvgHQtPkQ&_nc_gid=22f1d45a6d3c41f1a4eb6d92f2fbc62e&edm=APs17CUBAAAA&ccb=7-5&ig_cache_key=MzQ1NzM3MzUwODEyMzEwMjQ0Mg%3D%3D.3-ccb7-5&oh=00_AYBupVB0gaWAv8UT27zn1a7LMxO6n_ncchREJzHQmCx0gg&oe=671FCD38&_nc_sid=10d13b', 'https://scontent.cdninstagram.com/v/t51.29350-15/459876239_490653363870154_1541948182274683017_n.webp?stp=dst-jpg_e35&efg=eyJ2ZW5jb2RlX3RhZyI6ImltYWdlX3VybGdlbi4xNDQweDE0NDAuc2RyLmYyOTM1MC5kZWZhdWx0X2ltYWdlIn0&_nc_ht=scontent.cdninstagram.com&_nc_cat=110&_nc_ohc=KQE5F9nxRecQ7kNvgFmoNMT&_nc_gid=22f1d45a6d3c41f1a4eb6d92f2fbc62e&edm=APs17CUBAAAA&ccb=7-5&ig_cache_key=MzQ1NzM3MzUwODEyMzA2MTkzNA%3D%3D.3-ccb7-5&oh=00_AYB4nFDYcQlLP2wa5Pa9J-QLn0xjF7tuauWr9k-L89RZsw&oe=671FA3FB&_nc_sid=10d13b', 'https://scontent.cdninstagram.com/v/t51.29350-15/459923362_837908698427586_3468938563198266497_n.webp?stp=dst-jpg_e35&efg=eyJ2ZW5jb2RlX3RhZyI6ImltYWdlX3VybGdlbi4xNDQweDE0NDAuc2RyLmYyOTM1MC5kZWZhdWx0X2ltYWdlIn0&_nc_ht=scontent.cdninstagram.com&_nc_cat=106&_nc_ohc=bj6bKADZcO4Q7kNvgHg2JzH&_nc_gid=22f1d45a6d3c41f1a4eb6d92f2fbc62e&edm=APs17CUBAAAA&ccb=7-5&ig_cache_key=MzQ1NzM3MzUwODExNDczNjAwMQ%3D%3D.3-ccb7-5&oh=00_AYDbPNszCz873ahEEDTlqFX_XuJOAmzJkzCjCK543nm-sA&oe=671FD40F&_nc_sid=10d13b']\n",
      "['https://scontent.cdninstagram.com/v/t51.29350-15/460084788_511204341514610_1107348721474473101_n.webp?stp=dst-jpg_e35&efg=eyJ2ZW5jb2RlX3RhZyI6ImltYWdlX3VybGdlbi4xNDQweDE0NDAuc2RyLmYyOTM1MC5kZWZhdWx0X2ltYWdlIn0&_nc_ht=scontent.cdninstagram.com&_nc_cat=102&_nc_ohc=TpCryJuQucwQ7kNvgHQtPkQ&_nc_gid=22f1d45a6d3c41f1a4eb6d92f2fbc62e&edm=APs17CUBAAAA&ccb=7-5&ig_cache_key=MzQ1NzM3MzUwODEyMzEwMjQ0Mg%3D%3D.3-ccb7-5&oh=00_AYBupVB0gaWAv8UT27zn1a7LMxO6n_ncchREJzHQmCx0gg&oe=671FCD38&_nc_sid=10d13b', 'https://scontent.cdninstagram.com/v/t51.29350-15/459876239_490653363870154_1541948182274683017_n.webp?stp=dst-jpg_e35&efg=eyJ2ZW5jb2RlX3RhZyI6ImltYWdlX3VybGdlbi4xNDQweDE0NDAuc2RyLmYyOTM1MC5kZWZhdWx0X2ltYWdlIn0&_nc_ht=scontent.cdninstagram.com&_nc_cat=110&_nc_ohc=KQE5F9nxRecQ7kNvgFmoNMT&_nc_gid=22f1d45a6d3c41f1a4eb6d92f2fbc62e&edm=APs17CUBAAAA&ccb=7-5&ig_cache_key=MzQ1NzM3MzUwODEyMzA2MTkzNA%3D%3D.3-ccb7-5&oh=00_AYB4nFDYcQlLP2wa5Pa9J-QLn0xjF7tuauWr9k-L89RZsw&oe=671FA3FB&_nc_sid=10d13b', 'https://scontent.cdninstagram.com/v/t51.29350-15/459923362_837908698427586_3468938563198266497_n.webp?stp=dst-jpg_e35&efg=eyJ2ZW5jb2RlX3RhZyI6ImltYWdlX3VybGdlbi4xNDQweDE0NDAuc2RyLmYyOTM1MC5kZWZhdWx0X2ltYWdlIn0&_nc_ht=scontent.cdninstagram.com&_nc_cat=106&_nc_ohc=bj6bKADZcO4Q7kNvgHg2JzH&_nc_gid=22f1d45a6d3c41f1a4eb6d92f2fbc62e&edm=APs17CUBAAAA&ccb=7-5&ig_cache_key=MzQ1NzM3MzUwODExNDczNjAwMQ%3D%3D.3-ccb7-5&oh=00_AYDbPNszCz873ahEEDTlqFX_XuJOAmzJkzCjCK543nm-sA&oe=671FD40F&_nc_sid=10d13b', 'https://scontent.cdninstagram.com/v/t51.29350-15/460119657_1182516143033232_5298671032123390634_n.webp?stp=dst-jpg_e35&efg=eyJ2ZW5jb2RlX3RhZyI6ImltYWdlX3VybGdlbi4xNDQweDE0NDAuc2RyLmYyOTM1MC5kZWZhdWx0X2ltYWdlIn0&_nc_ht=scontent.cdninstagram.com&_nc_cat=100&_nc_ohc=YLeNsqofK5sQ7kNvgEUFjNh&_nc_gid=22f1d45a6d3c41f1a4eb6d92f2fbc62e&edm=APs17CUBAAAA&ccb=7-5&ig_cache_key=MzQ1NzM3MzUwODQ4Mzc1MzE3OA%3D%3D.3-ccb7-5&oh=00_AYCJ2dCf8Dl0CT8oK1mjRWf5Cu81KijIen0RYgr1TnNfJA&oe=671FA431&_nc_sid=10d13b']\n",
      "['https://scontent.cdninstagram.com/v/t51.29350-15/459876239_490653363870154_1541948182274683017_n.webp?stp=dst-jpg_e35&efg=eyJ2ZW5jb2RlX3RhZyI6ImltYWdlX3VybGdlbi4xNDQweDE0NDAuc2RyLmYyOTM1MC5kZWZhdWx0X2ltYWdlIn0&_nc_ht=scontent.cdninstagram.com&_nc_cat=110&_nc_ohc=KQE5F9nxRecQ7kNvgFmoNMT&_nc_gid=22f1d45a6d3c41f1a4eb6d92f2fbc62e&edm=APs17CUBAAAA&ccb=7-5&ig_cache_key=MzQ1NzM3MzUwODEyMzA2MTkzNA%3D%3D.3-ccb7-5&oh=00_AYB4nFDYcQlLP2wa5Pa9J-QLn0xjF7tuauWr9k-L89RZsw&oe=671FA3FB&_nc_sid=10d13b', 'https://scontent.cdninstagram.com/v/t51.29350-15/459923362_837908698427586_3468938563198266497_n.webp?stp=dst-jpg_e35&efg=eyJ2ZW5jb2RlX3RhZyI6ImltYWdlX3VybGdlbi4xNDQweDE0NDAuc2RyLmYyOTM1MC5kZWZhdWx0X2ltYWdlIn0&_nc_ht=scontent.cdninstagram.com&_nc_cat=106&_nc_ohc=bj6bKADZcO4Q7kNvgHg2JzH&_nc_gid=22f1d45a6d3c41f1a4eb6d92f2fbc62e&edm=APs17CUBAAAA&ccb=7-5&ig_cache_key=MzQ1NzM3MzUwODExNDczNjAwMQ%3D%3D.3-ccb7-5&oh=00_AYDbPNszCz873ahEEDTlqFX_XuJOAmzJkzCjCK543nm-sA&oe=671FD40F&_nc_sid=10d13b', 'https://scontent.cdninstagram.com/v/t51.29350-15/460119657_1182516143033232_5298671032123390634_n.webp?stp=dst-jpg_e35&efg=eyJ2ZW5jb2RlX3RhZyI6ImltYWdlX3VybGdlbi4xNDQweDE0NDAuc2RyLmYyOTM1MC5kZWZhdWx0X2ltYWdlIn0&_nc_ht=scontent.cdninstagram.com&_nc_cat=100&_nc_ohc=YLeNsqofK5sQ7kNvgEUFjNh&_nc_gid=22f1d45a6d3c41f1a4eb6d92f2fbc62e&edm=APs17CUBAAAA&ccb=7-5&ig_cache_key=MzQ1NzM3MzUwODQ4Mzc1MzE3OA%3D%3D.3-ccb7-5&oh=00_AYCJ2dCf8Dl0CT8oK1mjRWf5Cu81KijIen0RYgr1TnNfJA&oe=671FA431&_nc_sid=10d13b', 'https://scontent.cdninstagram.com/v/t51.29350-15/459970408_1162906338109929_6644581101125027880_n.webp?stp=dst-jpg_e35&efg=eyJ2ZW5jb2RlX3RhZyI6ImltYWdlX3VybGdlbi4xNDQweDE0NDAuc2RyLmYyOTM1MC5kZWZhdWx0X2ltYWdlIn0&_nc_ht=scontent.cdninstagram.com&_nc_cat=109&_nc_ohc=w2ZyK-bPF20Q7kNvgGkm_2k&_nc_gid=22f1d45a6d3c41f1a4eb6d92f2fbc62e&edm=APs17CUBAAAA&ccb=7-5&ig_cache_key=MzQ1NzM3MzUwODExNDcyODcxNA%3D%3D.3-ccb7-5&oh=00_AYBBK7fHZFDXoyMPjFjEvPAqtf3tLE7VsEJ8exIV8qFVsw&oe=671FAD0D&_nc_sid=10d13b']\n",
      "['https://scontent.cdninstagram.com/v/t51.29350-15/459923362_837908698427586_3468938563198266497_n.webp?stp=dst-jpg_e35&efg=eyJ2ZW5jb2RlX3RhZyI6ImltYWdlX3VybGdlbi4xNDQweDE0NDAuc2RyLmYyOTM1MC5kZWZhdWx0X2ltYWdlIn0&_nc_ht=scontent.cdninstagram.com&_nc_cat=106&_nc_ohc=bj6bKADZcO4Q7kNvgHg2JzH&_nc_gid=22f1d45a6d3c41f1a4eb6d92f2fbc62e&edm=APs17CUBAAAA&ccb=7-5&ig_cache_key=MzQ1NzM3MzUwODExNDczNjAwMQ%3D%3D.3-ccb7-5&oh=00_AYDbPNszCz873ahEEDTlqFX_XuJOAmzJkzCjCK543nm-sA&oe=671FD40F&_nc_sid=10d13b', 'https://scontent.cdninstagram.com/v/t51.29350-15/460119657_1182516143033232_5298671032123390634_n.webp?stp=dst-jpg_e35&efg=eyJ2ZW5jb2RlX3RhZyI6ImltYWdlX3VybGdlbi4xNDQweDE0NDAuc2RyLmYyOTM1MC5kZWZhdWx0X2ltYWdlIn0&_nc_ht=scontent.cdninstagram.com&_nc_cat=100&_nc_ohc=YLeNsqofK5sQ7kNvgEUFjNh&_nc_gid=22f1d45a6d3c41f1a4eb6d92f2fbc62e&edm=APs17CUBAAAA&ccb=7-5&ig_cache_key=MzQ1NzM3MzUwODQ4Mzc1MzE3OA%3D%3D.3-ccb7-5&oh=00_AYCJ2dCf8Dl0CT8oK1mjRWf5Cu81KijIen0RYgr1TnNfJA&oe=671FA431&_nc_sid=10d13b', 'https://scontent.cdninstagram.com/v/t51.29350-15/459970408_1162906338109929_6644581101125027880_n.webp?stp=dst-jpg_e35&efg=eyJ2ZW5jb2RlX3RhZyI6ImltYWdlX3VybGdlbi4xNDQweDE0NDAuc2RyLmYyOTM1MC5kZWZhdWx0X2ltYWdlIn0&_nc_ht=scontent.cdninstagram.com&_nc_cat=109&_nc_ohc=w2ZyK-bPF20Q7kNvgGkm_2k&_nc_gid=22f1d45a6d3c41f1a4eb6d92f2fbc62e&edm=APs17CUBAAAA&ccb=7-5&ig_cache_key=MzQ1NzM3MzUwODExNDcyODcxNA%3D%3D.3-ccb7-5&oh=00_AYBBK7fHZFDXoyMPjFjEvPAqtf3tLE7VsEJ8exIV8qFVsw&oe=671FAD0D&_nc_sid=10d13b']\n",
      "image_urls : 0:00:04.241701\n",
      "_define_view_like_type : 0:00:00.020881\n",
      "view_like_type  : like\n",
      "view_like_type : 0:00:00.049263\n",
      "nickname : 0:00:01.419379\n",
      "contents : 0:00:00.279804\n",
      "feed_datetime : 0:00:00.040400\n",
      "['https://scontent.cdninstagram.com/v/t51.29350-15/459408515_459681027086128_6877385562649870350_n.webp?stp=dst-jpg_e35&efg=eyJ2ZW5jb2RlX3RhZyI6ImltYWdlX3VybGdlbi4xMDgweDEwODAuc2RyLmYyOTM1MC5kZWZhdWx0X2ltYWdlIn0&_nc_ht=scontent.cdninstagram.com&_nc_cat=104&_nc_ohc=DyMQp8LLXO0Q7kNvgE5R0yg&_nc_gid=518ee5fa33804baea181ccc9e065cc39&edm=APs17CUBAAAA&ccb=7-5&ig_cache_key=MzQ1NzU1MjYxOTYwMjg3MTgyOQ%3D%3D.3-ccb7-5&oh=00_AYBl2u2IaGKYvppHOySR3lTuyzQNRgyi45Vhf1ePt8IT0A&oe=671FA696&_nc_sid=10d13b']\n",
      "image_urls : 0:00:01.160084\n",
      "_define_view_like_type : 0:00:02.335686\n",
      "view_like_type  : like\n",
      "view_like_type : 0:00:01.101625\n",
      "nickname : 0:00:01.397771\n",
      "contents : 0:00:00.637799\n",
      "feed_datetime : 0:00:00.087288\n",
      "['https://scontent.cdninstagram.com/v/t51.29350-15/459338069_518172557494645_1757149885500901419_n.webp?stp=dst-jpg_e35&efg=eyJ2ZW5jb2RlX3RhZyI6ImltYWdlX3VybGdlbi4xMDgweDEwODAuc2RyLmYyOTM1MC5kZWZhdWx0X2ltYWdlIn0&_nc_ht=scontent.cdninstagram.com&_nc_cat=101&_nc_ohc=tVlxQq92Mr8Q7kNvgGqNb9n&_nc_gid=feedf7b108ae4201aa27aaed84604ea3&edm=APs17CUBAAAA&ccb=7-5&ig_cache_key=MzQ1Njc4MDQ0NzkxNzU5Nzg4Nw%3D%3D.3-ccb7-5&oh=00_AYC-Pnt1VrcRGgQepeHVdJ2vwzGFPl3XW9s9VaXqNkjxKg&oe=671FBFB6&_nc_sid=10d13b', 'https://scontent.cdninstagram.com/v/t51.29350-15/459643544_1046897536510351_251656479987955501_n.webp?stp=dst-jpg_e35&efg=eyJ2ZW5jb2RlX3RhZyI6ImltYWdlX3VybGdlbi4xMDgweDEwODAuc2RyLmYyOTM1MC5kZWZhdWx0X2ltYWdlIn0&_nc_ht=scontent.cdninstagram.com&_nc_cat=107&_nc_ohc=DYCKUTJCt24Q7kNvgEFLHim&_nc_gid=feedf7b108ae4201aa27aaed84604ea3&edm=APs17CUBAAAA&ccb=7-5&ig_cache_key=MzQ1Njc4MDQ0NzgzMzgzODYzNw%3D%3D.3-ccb7-5&oh=00_AYDoIUZNS8_4CZoIt6wIkodbxLfPxLrUEXGwbS0_qOlmEw&oe=671FC5E2&_nc_sid=10d13b']\n",
      "['https://scontent.cdninstagram.com/v/t51.29350-15/459338069_518172557494645_1757149885500901419_n.webp?stp=dst-jpg_e35&efg=eyJ2ZW5jb2RlX3RhZyI6ImltYWdlX3VybGdlbi4xMDgweDEwODAuc2RyLmYyOTM1MC5kZWZhdWx0X2ltYWdlIn0&_nc_ht=scontent.cdninstagram.com&_nc_cat=101&_nc_ohc=tVlxQq92Mr8Q7kNvgGqNb9n&_nc_gid=feedf7b108ae4201aa27aaed84604ea3&edm=APs17CUBAAAA&ccb=7-5&ig_cache_key=MzQ1Njc4MDQ0NzkxNzU5Nzg4Nw%3D%3D.3-ccb7-5&oh=00_AYC-Pnt1VrcRGgQepeHVdJ2vwzGFPl3XW9s9VaXqNkjxKg&oe=671FBFB6&_nc_sid=10d13b', 'https://scontent.cdninstagram.com/v/t51.29350-15/459643544_1046897536510351_251656479987955501_n.webp?stp=dst-jpg_e35&efg=eyJ2ZW5jb2RlX3RhZyI6ImltYWdlX3VybGdlbi4xMDgweDEwODAuc2RyLmYyOTM1MC5kZWZhdWx0X2ltYWdlIn0&_nc_ht=scontent.cdninstagram.com&_nc_cat=107&_nc_ohc=DYCKUTJCt24Q7kNvgEFLHim&_nc_gid=feedf7b108ae4201aa27aaed84604ea3&edm=APs17CUBAAAA&ccb=7-5&ig_cache_key=MzQ1Njc4MDQ0NzgzMzgzODYzNw%3D%3D.3-ccb7-5&oh=00_AYDoIUZNS8_4CZoIt6wIkodbxLfPxLrUEXGwbS0_qOlmEw&oe=671FC5E2&_nc_sid=10d13b']\n",
      "['https://scontent.cdninstagram.com/v/t51.29350-15/459338069_518172557494645_1757149885500901419_n.webp?stp=dst-jpg_e35&efg=eyJ2ZW5jb2RlX3RhZyI6ImltYWdlX3VybGdlbi4xMDgweDEwODAuc2RyLmYyOTM1MC5kZWZhdWx0X2ltYWdlIn0&_nc_ht=scontent.cdninstagram.com&_nc_cat=101&_nc_ohc=tVlxQq92Mr8Q7kNvgGqNb9n&_nc_gid=feedf7b108ae4201aa27aaed84604ea3&edm=APs17CUBAAAA&ccb=7-5&ig_cache_key=MzQ1Njc4MDQ0NzkxNzU5Nzg4Nw%3D%3D.3-ccb7-5&oh=00_AYC-Pnt1VrcRGgQepeHVdJ2vwzGFPl3XW9s9VaXqNkjxKg&oe=671FBFB6&_nc_sid=10d13b', 'https://scontent.cdninstagram.com/v/t51.29350-15/459643544_1046897536510351_251656479987955501_n.webp?stp=dst-jpg_e35&efg=eyJ2ZW5jb2RlX3RhZyI6ImltYWdlX3VybGdlbi4xMDgweDEwODAuc2RyLmYyOTM1MC5kZWZhdWx0X2ltYWdlIn0&_nc_ht=scontent.cdninstagram.com&_nc_cat=107&_nc_ohc=DYCKUTJCt24Q7kNvgEFLHim&_nc_gid=feedf7b108ae4201aa27aaed84604ea3&edm=APs17CUBAAAA&ccb=7-5&ig_cache_key=MzQ1Njc4MDQ0NzgzMzgzODYzNw%3D%3D.3-ccb7-5&oh=00_AYDoIUZNS8_4CZoIt6wIkodbxLfPxLrUEXGwbS0_qOlmEw&oe=671FC5E2&_nc_sid=10d13b', 'https://scontent.cdninstagram.com/v/t51.29350-15/459488228_1608014979826430_1726903963727772758_n.webp?stp=dst-jpg_e35&efg=eyJ2ZW5jb2RlX3RhZyI6ImltYWdlX3VybGdlbi4xMDgweDEwODAuc2RyLmYyOTM1MC5kZWZhdWx0X2ltYWdlIn0&_nc_ht=scontent.cdninstagram.com&_nc_cat=102&_nc_ohc=6eg5B8wGosoQ7kNvgH9_arP&_nc_gid=feedf7b108ae4201aa27aaed84604ea3&edm=APs17CUBAAAA&ccb=7-5&ig_cache_key=MzQ1Njc4MDQ0ODA2ODY2MzYzNw%3D%3D.3-ccb7-5&oh=00_AYBbw9rqNVk3N698tnPtDx0TjmUuLzp-NvAXwfSQ_IQ1Zg&oe=671FB2A3&_nc_sid=10d13b']\n",
      "['https://scontent.cdninstagram.com/v/t51.29350-15/459338069_518172557494645_1757149885500901419_n.webp?stp=dst-jpg_e35&efg=eyJ2ZW5jb2RlX3RhZyI6ImltYWdlX3VybGdlbi4xMDgweDEwODAuc2RyLmYyOTM1MC5kZWZhdWx0X2ltYWdlIn0&_nc_ht=scontent.cdninstagram.com&_nc_cat=101&_nc_ohc=tVlxQq92Mr8Q7kNvgGqNb9n&_nc_gid=feedf7b108ae4201aa27aaed84604ea3&edm=APs17CUBAAAA&ccb=7-5&ig_cache_key=MzQ1Njc4MDQ0NzkxNzU5Nzg4Nw%3D%3D.3-ccb7-5&oh=00_AYC-Pnt1VrcRGgQepeHVdJ2vwzGFPl3XW9s9VaXqNkjxKg&oe=671FBFB6&_nc_sid=10d13b', 'https://scontent.cdninstagram.com/v/t51.29350-15/459643544_1046897536510351_251656479987955501_n.webp?stp=dst-jpg_e35&efg=eyJ2ZW5jb2RlX3RhZyI6ImltYWdlX3VybGdlbi4xMDgweDEwODAuc2RyLmYyOTM1MC5kZWZhdWx0X2ltYWdlIn0&_nc_ht=scontent.cdninstagram.com&_nc_cat=107&_nc_ohc=DYCKUTJCt24Q7kNvgEFLHim&_nc_gid=feedf7b108ae4201aa27aaed84604ea3&edm=APs17CUBAAAA&ccb=7-5&ig_cache_key=MzQ1Njc4MDQ0NzgzMzgzODYzNw%3D%3D.3-ccb7-5&oh=00_AYDoIUZNS8_4CZoIt6wIkodbxLfPxLrUEXGwbS0_qOlmEw&oe=671FC5E2&_nc_sid=10d13b', 'https://scontent.cdninstagram.com/v/t51.29350-15/459488228_1608014979826430_1726903963727772758_n.webp?stp=dst-jpg_e35&efg=eyJ2ZW5jb2RlX3RhZyI6ImltYWdlX3VybGdlbi4xMDgweDEwODAuc2RyLmYyOTM1MC5kZWZhdWx0X2ltYWdlIn0&_nc_ht=scontent.cdninstagram.com&_nc_cat=102&_nc_ohc=6eg5B8wGosoQ7kNvgH9_arP&_nc_gid=feedf7b108ae4201aa27aaed84604ea3&edm=APs17CUBAAAA&ccb=7-5&ig_cache_key=MzQ1Njc4MDQ0ODA2ODY2MzYzNw%3D%3D.3-ccb7-5&oh=00_AYBbw9rqNVk3N698tnPtDx0TjmUuLzp-NvAXwfSQ_IQ1Zg&oe=671FB2A3&_nc_sid=10d13b', 'https://scontent.cdninstagram.com/v/t51.29350-15/459097501_1677114819502765_1688919163947246780_n.webp?stp=dst-jpg_e35&efg=eyJ2ZW5jb2RlX3RhZyI6ImltYWdlX3VybGdlbi4xMDgweDEwODAuc2RyLmYyOTM1MC5kZWZhdWx0X2ltYWdlIn0&_nc_ht=scontent.cdninstagram.com&_nc_cat=101&_nc_ohc=LKddq2w5MUgQ7kNvgHf6Dg2&_nc_gid=feedf7b108ae4201aa27aaed84604ea3&edm=APs17CUBAAAA&ccb=7-5&ig_cache_key=MzQ1Njc4MDQ0Nzc1ODMwNTEyNg%3D%3D.3-ccb7-5&oh=00_AYAZabJY9WtB74njalELO0vOulr3YR9EML1pt0gQHO0unA&oe=671FA359&_nc_sid=10d13b']\n",
      "['https://scontent.cdninstagram.com/v/t51.29350-15/459338069_518172557494645_1757149885500901419_n.webp?stp=dst-jpg_e35&efg=eyJ2ZW5jb2RlX3RhZyI6ImltYWdlX3VybGdlbi4xMDgweDEwODAuc2RyLmYyOTM1MC5kZWZhdWx0X2ltYWdlIn0&_nc_ht=scontent.cdninstagram.com&_nc_cat=101&_nc_ohc=tVlxQq92Mr8Q7kNvgGqNb9n&_nc_gid=feedf7b108ae4201aa27aaed84604ea3&edm=APs17CUBAAAA&ccb=7-5&ig_cache_key=MzQ1Njc4MDQ0NzkxNzU5Nzg4Nw%3D%3D.3-ccb7-5&oh=00_AYC-Pnt1VrcRGgQepeHVdJ2vwzGFPl3XW9s9VaXqNkjxKg&oe=671FBFB6&_nc_sid=10d13b', 'https://scontent.cdninstagram.com/v/t51.29350-15/459643544_1046897536510351_251656479987955501_n.webp?stp=dst-jpg_e35&efg=eyJ2ZW5jb2RlX3RhZyI6ImltYWdlX3VybGdlbi4xMDgweDEwODAuc2RyLmYyOTM1MC5kZWZhdWx0X2ltYWdlIn0&_nc_ht=scontent.cdninstagram.com&_nc_cat=107&_nc_ohc=DYCKUTJCt24Q7kNvgEFLHim&_nc_gid=feedf7b108ae4201aa27aaed84604ea3&edm=APs17CUBAAAA&ccb=7-5&ig_cache_key=MzQ1Njc4MDQ0NzgzMzgzODYzNw%3D%3D.3-ccb7-5&oh=00_AYDoIUZNS8_4CZoIt6wIkodbxLfPxLrUEXGwbS0_qOlmEw&oe=671FC5E2&_nc_sid=10d13b', 'https://scontent.cdninstagram.com/v/t51.29350-15/459488228_1608014979826430_1726903963727772758_n.webp?stp=dst-jpg_e35&efg=eyJ2ZW5jb2RlX3RhZyI6ImltYWdlX3VybGdlbi4xMDgweDEwODAuc2RyLmYyOTM1MC5kZWZhdWx0X2ltYWdlIn0&_nc_ht=scontent.cdninstagram.com&_nc_cat=102&_nc_ohc=6eg5B8wGosoQ7kNvgH9_arP&_nc_gid=feedf7b108ae4201aa27aaed84604ea3&edm=APs17CUBAAAA&ccb=7-5&ig_cache_key=MzQ1Njc4MDQ0ODA2ODY2MzYzNw%3D%3D.3-ccb7-5&oh=00_AYBbw9rqNVk3N698tnPtDx0TjmUuLzp-NvAXwfSQ_IQ1Zg&oe=671FB2A3&_nc_sid=10d13b', 'https://scontent.cdninstagram.com/v/t51.29350-15/459097501_1677114819502765_1688919163947246780_n.webp?stp=dst-jpg_e35&efg=eyJ2ZW5jb2RlX3RhZyI6ImltYWdlX3VybGdlbi4xMDgweDEwODAuc2RyLmYyOTM1MC5kZWZhdWx0X2ltYWdlIn0&_nc_ht=scontent.cdninstagram.com&_nc_cat=101&_nc_ohc=LKddq2w5MUgQ7kNvgHf6Dg2&_nc_gid=feedf7b108ae4201aa27aaed84604ea3&edm=APs17CUBAAAA&ccb=7-5&ig_cache_key=MzQ1Njc4MDQ0Nzc1ODMwNTEyNg%3D%3D.3-ccb7-5&oh=00_AYAZabJY9WtB74njalELO0vOulr3YR9EML1pt0gQHO0unA&oe=671FA359&_nc_sid=10d13b', 'https://scontent.cdninstagram.com/v/t51.29350-15/458629938_531957499517713_8712083166376021856_n.webp?stp=dst-jpg_e35&efg=eyJ2ZW5jb2RlX3RhZyI6ImltYWdlX3VybGdlbi4xMDgweDEwODAuc2RyLmYyOTM1MC5kZWZhdWx0X2ltYWdlIn0&_nc_ht=scontent.cdninstagram.com&_nc_cat=101&_nc_ohc=qS6ozy-c0ssQ7kNvgFrNrpN&_nc_gid=feedf7b108ae4201aa27aaed84604ea3&edm=APs17CUBAAAA&ccb=7-5&ig_cache_key=MzQ1Njc4MDQ0Nzk0Mjg5NzUyMg%3D%3D.3-ccb7-5&oh=00_AYDiH23Wes2SJjyhUSpt59u7e6M8770S07tnN0hCBgsNBg&oe=671FCC72&_nc_sid=10d13b']\n",
      "['https://scontent.cdninstagram.com/v/t51.29350-15/459488228_1608014979826430_1726903963727772758_n.webp?stp=dst-jpg_e35&efg=eyJ2ZW5jb2RlX3RhZyI6ImltYWdlX3VybGdlbi4xMDgweDEwODAuc2RyLmYyOTM1MC5kZWZhdWx0X2ltYWdlIn0&_nc_ht=scontent.cdninstagram.com&_nc_cat=102&_nc_ohc=6eg5B8wGosoQ7kNvgH9_arP&_nc_gid=feedf7b108ae4201aa27aaed84604ea3&edm=APs17CUBAAAA&ccb=7-5&ig_cache_key=MzQ1Njc4MDQ0ODA2ODY2MzYzNw%3D%3D.3-ccb7-5&oh=00_AYBbw9rqNVk3N698tnPtDx0TjmUuLzp-NvAXwfSQ_IQ1Zg&oe=671FB2A3&_nc_sid=10d13b', 'https://scontent.cdninstagram.com/v/t51.29350-15/459097501_1677114819502765_1688919163947246780_n.webp?stp=dst-jpg_e35&efg=eyJ2ZW5jb2RlX3RhZyI6ImltYWdlX3VybGdlbi4xMDgweDEwODAuc2RyLmYyOTM1MC5kZWZhdWx0X2ltYWdlIn0&_nc_ht=scontent.cdninstagram.com&_nc_cat=101&_nc_ohc=LKddq2w5MUgQ7kNvgHf6Dg2&_nc_gid=feedf7b108ae4201aa27aaed84604ea3&edm=APs17CUBAAAA&ccb=7-5&ig_cache_key=MzQ1Njc4MDQ0Nzc1ODMwNTEyNg%3D%3D.3-ccb7-5&oh=00_AYAZabJY9WtB74njalELO0vOulr3YR9EML1pt0gQHO0unA&oe=671FA359&_nc_sid=10d13b', 'https://scontent.cdninstagram.com/v/t51.29350-15/458629938_531957499517713_8712083166376021856_n.webp?stp=dst-jpg_e35&efg=eyJ2ZW5jb2RlX3RhZyI6ImltYWdlX3VybGdlbi4xMDgweDEwODAuc2RyLmYyOTM1MC5kZWZhdWx0X2ltYWdlIn0&_nc_ht=scontent.cdninstagram.com&_nc_cat=101&_nc_ohc=qS6ozy-c0ssQ7kNvgFrNrpN&_nc_gid=feedf7b108ae4201aa27aaed84604ea3&edm=APs17CUBAAAA&ccb=7-5&ig_cache_key=MzQ1Njc4MDQ0Nzk0Mjg5NzUyMg%3D%3D.3-ccb7-5&oh=00_AYDiH23Wes2SJjyhUSpt59u7e6M8770S07tnN0hCBgsNBg&oe=671FCC72&_nc_sid=10d13b']\n",
      "image_urls : 0:00:03.505623\n",
      "_define_view_like_type : 0:00:02.087562\n",
      "view_like_type  : like\n",
      "view_like_type : 0:00:01.034848\n",
      "nickname : 0:00:01.690764\n",
      "contents : 0:00:00.609282\n",
      "feed_datetime : 0:00:00.090900\n",
      "['https://scontent.cdninstagram.com/v/t51.29350-15/459776450_1446788882652714_2886075564209336305_n.webp?stp=dst-jpg_e35&efg=eyJ2ZW5jb2RlX3RhZyI6ImltYWdlX3VybGdlbi4xMDgweDEwODAuc2RyLmYyOTM1MC5kZWZhdWx0X2ltYWdlIn0&_nc_ht=scontent.cdninstagram.com&_nc_cat=106&_nc_ohc=qO2b8mr3-WMQ7kNvgHeACGU&_nc_gid=6314842a5ff1438d911d5ded13b752ba&edm=APs17CUBAAAA&ccb=7-5&ig_cache_key=MzQ1NzMzNDY4MTY2MDc0OTIwMw%3D%3D.3-ccb7-5&oh=00_AYAYI9ik72mc_FmY_kR4Vjp_V00Y9itlYSQ0dREXFCyKmg&oe=671FD01B&_nc_sid=10d13b', 'https://scontent.cdninstagram.com/v/t51.29350-15/459948305_1281083026194326_1475603431384883487_n.webp?stp=dst-jpg_e35&efg=eyJ2ZW5jb2RlX3RhZyI6ImltYWdlX3VybGdlbi4xMDgweDEwODAuc2RyLmYyOTM1MC5kZWZhdWx0X2ltYWdlIn0&_nc_ht=scontent.cdninstagram.com&_nc_cat=102&_nc_ohc=vRnsfGiWSo0Q7kNvgHwG9wI&_nc_gid=6314842a5ff1438d911d5ded13b752ba&edm=APs17CUBAAAA&ccb=7-5&ig_cache_key=MzQ1NzMzNDY4MTY2OTIwNTYzOA%3D%3D.3-ccb7-5&oh=00_AYDG4FnSoj_ivGS3QIimZ-Fq79ukpkAwKcDLhZlAoTbnVg&oe=671FA5D9&_nc_sid=10d13b']\n",
      "['https://scontent.cdninstagram.com/v/t51.29350-15/459776450_1446788882652714_2886075564209336305_n.webp?stp=dst-jpg_e35&efg=eyJ2ZW5jb2RlX3RhZyI6ImltYWdlX3VybGdlbi4xMDgweDEwODAuc2RyLmYyOTM1MC5kZWZhdWx0X2ltYWdlIn0&_nc_ht=scontent.cdninstagram.com&_nc_cat=106&_nc_ohc=qO2b8mr3-WMQ7kNvgHeACGU&_nc_gid=6314842a5ff1438d911d5ded13b752ba&edm=APs17CUBAAAA&ccb=7-5&ig_cache_key=MzQ1NzMzNDY4MTY2MDc0OTIwMw%3D%3D.3-ccb7-5&oh=00_AYAYI9ik72mc_FmY_kR4Vjp_V00Y9itlYSQ0dREXFCyKmg&oe=671FD01B&_nc_sid=10d13b', 'https://scontent.cdninstagram.com/v/t51.29350-15/459948305_1281083026194326_1475603431384883487_n.webp?stp=dst-jpg_e35&efg=eyJ2ZW5jb2RlX3RhZyI6ImltYWdlX3VybGdlbi4xMDgweDEwODAuc2RyLmYyOTM1MC5kZWZhdWx0X2ltYWdlIn0&_nc_ht=scontent.cdninstagram.com&_nc_cat=102&_nc_ohc=vRnsfGiWSo0Q7kNvgHwG9wI&_nc_gid=6314842a5ff1438d911d5ded13b752ba&edm=APs17CUBAAAA&ccb=7-5&ig_cache_key=MzQ1NzMzNDY4MTY2OTIwNTYzOA%3D%3D.3-ccb7-5&oh=00_AYDG4FnSoj_ivGS3QIimZ-Fq79ukpkAwKcDLhZlAoTbnVg&oe=671FA5D9&_nc_sid=10d13b']\n",
      "['https://scontent.cdninstagram.com/v/t51.29350-15/459776450_1446788882652714_2886075564209336305_n.webp?stp=dst-jpg_e35&efg=eyJ2ZW5jb2RlX3RhZyI6ImltYWdlX3VybGdlbi4xMDgweDEwODAuc2RyLmYyOTM1MC5kZWZhdWx0X2ltYWdlIn0&_nc_ht=scontent.cdninstagram.com&_nc_cat=106&_nc_ohc=qO2b8mr3-WMQ7kNvgHeACGU&_nc_gid=6314842a5ff1438d911d5ded13b752ba&edm=APs17CUBAAAA&ccb=7-5&ig_cache_key=MzQ1NzMzNDY4MTY2MDc0OTIwMw%3D%3D.3-ccb7-5&oh=00_AYAYI9ik72mc_FmY_kR4Vjp_V00Y9itlYSQ0dREXFCyKmg&oe=671FD01B&_nc_sid=10d13b', 'https://scontent.cdninstagram.com/v/t51.29350-15/459948305_1281083026194326_1475603431384883487_n.webp?stp=dst-jpg_e35&efg=eyJ2ZW5jb2RlX3RhZyI6ImltYWdlX3VybGdlbi4xMDgweDEwODAuc2RyLmYyOTM1MC5kZWZhdWx0X2ltYWdlIn0&_nc_ht=scontent.cdninstagram.com&_nc_cat=102&_nc_ohc=vRnsfGiWSo0Q7kNvgHwG9wI&_nc_gid=6314842a5ff1438d911d5ded13b752ba&edm=APs17CUBAAAA&ccb=7-5&ig_cache_key=MzQ1NzMzNDY4MTY2OTIwNTYzOA%3D%3D.3-ccb7-5&oh=00_AYDG4FnSoj_ivGS3QIimZ-Fq79ukpkAwKcDLhZlAoTbnVg&oe=671FA5D9&_nc_sid=10d13b', 'https://scontent.cdninstagram.com/v/t51.29350-15/459883028_437500262641574_7623466184961540655_n.webp?stp=dst-jpg_e35&efg=eyJ2ZW5jb2RlX3RhZyI6ImltYWdlX3VybGdlbi4xMDgweDEwODAuc2RyLmYyOTM1MC5kZWZhdWx0X2ltYWdlIn0&_nc_ht=scontent.cdninstagram.com&_nc_cat=102&_nc_ohc=sn0Xyfa4O68Q7kNvgHX4CYc&_nc_gid=6314842a5ff1438d911d5ded13b752ba&edm=APs17CUBAAAA&ccb=7-5&ig_cache_key=MzQ1NzMzNDY4MTUxODE1OTc4OA%3D%3D.3-ccb7-5&oh=00_AYDJJl2nfpLJkDgYqvlksBCEVcO9PwD_LW2ay_YqTH5TYA&oe=671FA543&_nc_sid=10d13b']\n",
      "['https://scontent.cdninstagram.com/v/t51.29350-15/459776450_1446788882652714_2886075564209336305_n.webp?stp=dst-jpg_e35&efg=eyJ2ZW5jb2RlX3RhZyI6ImltYWdlX3VybGdlbi4xMDgweDEwODAuc2RyLmYyOTM1MC5kZWZhdWx0X2ltYWdlIn0&_nc_ht=scontent.cdninstagram.com&_nc_cat=106&_nc_ohc=qO2b8mr3-WMQ7kNvgHeACGU&_nc_gid=6314842a5ff1438d911d5ded13b752ba&edm=APs17CUBAAAA&ccb=7-5&ig_cache_key=MzQ1NzMzNDY4MTY2MDc0OTIwMw%3D%3D.3-ccb7-5&oh=00_AYAYI9ik72mc_FmY_kR4Vjp_V00Y9itlYSQ0dREXFCyKmg&oe=671FD01B&_nc_sid=10d13b', 'https://scontent.cdninstagram.com/v/t51.29350-15/459948305_1281083026194326_1475603431384883487_n.webp?stp=dst-jpg_e35&efg=eyJ2ZW5jb2RlX3RhZyI6ImltYWdlX3VybGdlbi4xMDgweDEwODAuc2RyLmYyOTM1MC5kZWZhdWx0X2ltYWdlIn0&_nc_ht=scontent.cdninstagram.com&_nc_cat=102&_nc_ohc=vRnsfGiWSo0Q7kNvgHwG9wI&_nc_gid=6314842a5ff1438d911d5ded13b752ba&edm=APs17CUBAAAA&ccb=7-5&ig_cache_key=MzQ1NzMzNDY4MTY2OTIwNTYzOA%3D%3D.3-ccb7-5&oh=00_AYDG4FnSoj_ivGS3QIimZ-Fq79ukpkAwKcDLhZlAoTbnVg&oe=671FA5D9&_nc_sid=10d13b', 'https://scontent.cdninstagram.com/v/t51.29350-15/459883028_437500262641574_7623466184961540655_n.webp?stp=dst-jpg_e35&efg=eyJ2ZW5jb2RlX3RhZyI6ImltYWdlX3VybGdlbi4xMDgweDEwODAuc2RyLmYyOTM1MC5kZWZhdWx0X2ltYWdlIn0&_nc_ht=scontent.cdninstagram.com&_nc_cat=102&_nc_ohc=sn0Xyfa4O68Q7kNvgHX4CYc&_nc_gid=6314842a5ff1438d911d5ded13b752ba&edm=APs17CUBAAAA&ccb=7-5&ig_cache_key=MzQ1NzMzNDY4MTUxODE1OTc4OA%3D%3D.3-ccb7-5&oh=00_AYDJJl2nfpLJkDgYqvlksBCEVcO9PwD_LW2ay_YqTH5TYA&oe=671FA543&_nc_sid=10d13b', 'https://scontent.cdninstagram.com/v/t51.29350-15/460000072_848656270751510_956266727125891550_n.webp?stp=dst-jpg_e35&efg=eyJ2ZW5jb2RlX3RhZyI6ImltYWdlX3VybGdlbi4xMDgweDEwODAuc2RyLmYyOTM1MC5kZWZhdWx0X2ltYWdlIn0&_nc_ht=scontent.cdninstagram.com&_nc_cat=102&_nc_ohc=eaMYk-4klG4Q7kNvgE1YnZ7&_nc_gid=6314842a5ff1438d911d5ded13b752ba&edm=APs17CUBAAAA&ccb=7-5&ig_cache_key=MzQ1NzMzNDY4MTUzNDk3MzM5MA%3D%3D.3-ccb7-5&oh=00_AYA8eFTDu0p4xNloLSJsvBwNgkLDrJvEuYK1Mf42-sQvQQ&oe=671FAD5A&_nc_sid=10d13b']\n",
      "['https://scontent.cdninstagram.com/v/t51.29350-15/459948305_1281083026194326_1475603431384883487_n.webp?stp=dst-jpg_e35&efg=eyJ2ZW5jb2RlX3RhZyI6ImltYWdlX3VybGdlbi4xMDgweDEwODAuc2RyLmYyOTM1MC5kZWZhdWx0X2ltYWdlIn0&_nc_ht=scontent.cdninstagram.com&_nc_cat=102&_nc_ohc=vRnsfGiWSo0Q7kNvgHwG9wI&_nc_gid=6314842a5ff1438d911d5ded13b752ba&edm=APs17CUBAAAA&ccb=7-5&ig_cache_key=MzQ1NzMzNDY4MTY2OTIwNTYzOA%3D%3D.3-ccb7-5&oh=00_AYDG4FnSoj_ivGS3QIimZ-Fq79ukpkAwKcDLhZlAoTbnVg&oe=671FA5D9&_nc_sid=10d13b', 'https://scontent.cdninstagram.com/v/t51.29350-15/459883028_437500262641574_7623466184961540655_n.webp?stp=dst-jpg_e35&efg=eyJ2ZW5jb2RlX3RhZyI6ImltYWdlX3VybGdlbi4xMDgweDEwODAuc2RyLmYyOTM1MC5kZWZhdWx0X2ltYWdlIn0&_nc_ht=scontent.cdninstagram.com&_nc_cat=102&_nc_ohc=sn0Xyfa4O68Q7kNvgHX4CYc&_nc_gid=6314842a5ff1438d911d5ded13b752ba&edm=APs17CUBAAAA&ccb=7-5&ig_cache_key=MzQ1NzMzNDY4MTUxODE1OTc4OA%3D%3D.3-ccb7-5&oh=00_AYDJJl2nfpLJkDgYqvlksBCEVcO9PwD_LW2ay_YqTH5TYA&oe=671FA543&_nc_sid=10d13b', 'https://scontent.cdninstagram.com/v/t51.29350-15/460000072_848656270751510_956266727125891550_n.webp?stp=dst-jpg_e35&efg=eyJ2ZW5jb2RlX3RhZyI6ImltYWdlX3VybGdlbi4xMDgweDEwODAuc2RyLmYyOTM1MC5kZWZhdWx0X2ltYWdlIn0&_nc_ht=scontent.cdninstagram.com&_nc_cat=102&_nc_ohc=eaMYk-4klG4Q7kNvgE1YnZ7&_nc_gid=6314842a5ff1438d911d5ded13b752ba&edm=APs17CUBAAAA&ccb=7-5&ig_cache_key=MzQ1NzMzNDY4MTUzNDk3MzM5MA%3D%3D.3-ccb7-5&oh=00_AYA8eFTDu0p4xNloLSJsvBwNgkLDrJvEuYK1Mf42-sQvQQ&oe=671FAD5A&_nc_sid=10d13b', 'https://scontent.cdninstagram.com/v/t51.29350-15/459965768_1187330052552389_7782635166983468443_n.webp?stp=dst-jpg_e35&efg=eyJ2ZW5jb2RlX3RhZyI6ImltYWdlX3VybGdlbi4xMDgweDEwODAuc2RyLmYyOTM1MC5kZWZhdWx0X2ltYWdlIn0&_nc_ht=scontent.cdninstagram.com&_nc_cat=105&_nc_ohc=sZ2pGYxotoUQ7kNvgF4conC&_nc_gid=6314842a5ff1438d911d5ded13b752ba&edm=APs17CUBAAAA&ccb=7-5&ig_cache_key=MzQ1NzMzNDY4MTUyNjQzMzUwNA%3D%3D.3-ccb7-5&oh=00_AYCSfsO6KVnwyhLrt8MR28lnHNNHbuCQ5g_UAW_cbhzCAg&oe=671FA37E&_nc_sid=10d13b']\n",
      "['https://scontent.cdninstagram.com/v/t51.29350-15/459883028_437500262641574_7623466184961540655_n.webp?stp=dst-jpg_e35&efg=eyJ2ZW5jb2RlX3RhZyI6ImltYWdlX3VybGdlbi4xMDgweDEwODAuc2RyLmYyOTM1MC5kZWZhdWx0X2ltYWdlIn0&_nc_ht=scontent.cdninstagram.com&_nc_cat=102&_nc_ohc=sn0Xyfa4O68Q7kNvgHX4CYc&_nc_gid=6314842a5ff1438d911d5ded13b752ba&edm=APs17CUBAAAA&ccb=7-5&ig_cache_key=MzQ1NzMzNDY4MTUxODE1OTc4OA%3D%3D.3-ccb7-5&oh=00_AYDJJl2nfpLJkDgYqvlksBCEVcO9PwD_LW2ay_YqTH5TYA&oe=671FA543&_nc_sid=10d13b', 'https://scontent.cdninstagram.com/v/t51.29350-15/460000072_848656270751510_956266727125891550_n.webp?stp=dst-jpg_e35&efg=eyJ2ZW5jb2RlX3RhZyI6ImltYWdlX3VybGdlbi4xMDgweDEwODAuc2RyLmYyOTM1MC5kZWZhdWx0X2ltYWdlIn0&_nc_ht=scontent.cdninstagram.com&_nc_cat=102&_nc_ohc=eaMYk-4klG4Q7kNvgE1YnZ7&_nc_gid=6314842a5ff1438d911d5ded13b752ba&edm=APs17CUBAAAA&ccb=7-5&ig_cache_key=MzQ1NzMzNDY4MTUzNDk3MzM5MA%3D%3D.3-ccb7-5&oh=00_AYA8eFTDu0p4xNloLSJsvBwNgkLDrJvEuYK1Mf42-sQvQQ&oe=671FAD5A&_nc_sid=10d13b', 'https://scontent.cdninstagram.com/v/t51.29350-15/459965768_1187330052552389_7782635166983468443_n.webp?stp=dst-jpg_e35&efg=eyJ2ZW5jb2RlX3RhZyI6ImltYWdlX3VybGdlbi4xMDgweDEwODAuc2RyLmYyOTM1MC5kZWZhdWx0X2ltYWdlIn0&_nc_ht=scontent.cdninstagram.com&_nc_cat=105&_nc_ohc=sZ2pGYxotoUQ7kNvgF4conC&_nc_gid=6314842a5ff1438d911d5ded13b752ba&edm=APs17CUBAAAA&ccb=7-5&ig_cache_key=MzQ1NzMzNDY4MTUyNjQzMzUwNA%3D%3D.3-ccb7-5&oh=00_AYCSfsO6KVnwyhLrt8MR28lnHNNHbuCQ5g_UAW_cbhzCAg&oe=671FA37E&_nc_sid=10d13b']\n",
      "image_urls : 0:00:03.849693\n",
      "_define_view_like_type : 0:00:00.074573\n",
      "view_like_type  : like\n",
      "view_like_type : 0:00:00.061342\n",
      "nickname : 0:00:01.689920\n",
      "contents : 0:00:00.811433\n",
      "feed_datetime : 0:00:00.208401\n",
      "['https://scontent.cdninstagram.com/v/t51.29350-15/459358771_551744624199575_7895425032996447721_n.heic?stp=dst-jpg_e35&efg=eyJ2ZW5jb2RlX3RhZyI6ImltYWdlX3VybGdlbi4xMDgweDEwODAuc2RyLmYyOTM1MC5kZWZhdWx0X2ltYWdlIn0&_nc_ht=scontent.cdninstagram.com&_nc_cat=111&_nc_ohc=TmMTQqDFC0UQ7kNvgF1TL5n&_nc_gid=b31b1d225ad94b699b122f6fed563f30&edm=APs17CUBAAAA&ccb=7-5&ig_cache_key=MzQ1NDg0NTUyMTczMzY4NTk3NQ%3D%3D.3-ccb7-5&oh=00_AYBGc_V7G6fOdFyA_ZC5Vvmlm0JpR5HrMTe1JG6E9TaWFA&oe=671FBCA9&_nc_sid=10d13b', 'https://scontent.cdninstagram.com/v/t51.29350-15/459036564_497910103198759_8220540295852582107_n.heic?stp=dst-jpg_e35&efg=eyJ2ZW5jb2RlX3RhZyI6ImltYWdlX3VybGdlbi4xMDgweDEwODAuc2RyLmYyOTM1MC5kZWZhdWx0X2ltYWdlIn0&_nc_ht=scontent.cdninstagram.com&_nc_cat=107&_nc_ohc=YeosfjqYZ_QQ7kNvgEbnF7e&_nc_gid=b31b1d225ad94b699b122f6fed563f30&edm=APs17CUBAAAA&ccb=7-5&ig_cache_key=MzQ1NDg0NTUyMTczMzY3MDk5Nw%3D%3D.3-ccb7-5&oh=00_AYBAEwCGy-F-KyncL4FQvRiVsuqA3X46YPAjGUHDL6PQ4w&oe=671FBBF4&_nc_sid=10d13b']\n",
      "['https://scontent.cdninstagram.com/v/t51.29350-15/459358771_551744624199575_7895425032996447721_n.heic?stp=dst-jpg_e35&efg=eyJ2ZW5jb2RlX3RhZyI6ImltYWdlX3VybGdlbi4xMDgweDEwODAuc2RyLmYyOTM1MC5kZWZhdWx0X2ltYWdlIn0&_nc_ht=scontent.cdninstagram.com&_nc_cat=111&_nc_ohc=TmMTQqDFC0UQ7kNvgF1TL5n&_nc_gid=b31b1d225ad94b699b122f6fed563f30&edm=APs17CUBAAAA&ccb=7-5&ig_cache_key=MzQ1NDg0NTUyMTczMzY4NTk3NQ%3D%3D.3-ccb7-5&oh=00_AYBGc_V7G6fOdFyA_ZC5Vvmlm0JpR5HrMTe1JG6E9TaWFA&oe=671FBCA9&_nc_sid=10d13b', 'https://scontent.cdninstagram.com/v/t51.29350-15/459036564_497910103198759_8220540295852582107_n.heic?stp=dst-jpg_e35&efg=eyJ2ZW5jb2RlX3RhZyI6ImltYWdlX3VybGdlbi4xMDgweDEwODAuc2RyLmYyOTM1MC5kZWZhdWx0X2ltYWdlIn0&_nc_ht=scontent.cdninstagram.com&_nc_cat=107&_nc_ohc=YeosfjqYZ_QQ7kNvgEbnF7e&_nc_gid=b31b1d225ad94b699b122f6fed563f30&edm=APs17CUBAAAA&ccb=7-5&ig_cache_key=MzQ1NDg0NTUyMTczMzY3MDk5Nw%3D%3D.3-ccb7-5&oh=00_AYBAEwCGy-F-KyncL4FQvRiVsuqA3X46YPAjGUHDL6PQ4w&oe=671FBBF4&_nc_sid=10d13b']\n",
      "['https://scontent.cdninstagram.com/v/t51.29350-15/459358771_551744624199575_7895425032996447721_n.heic?stp=dst-jpg_e35&efg=eyJ2ZW5jb2RlX3RhZyI6ImltYWdlX3VybGdlbi4xMDgweDEwODAuc2RyLmYyOTM1MC5kZWZhdWx0X2ltYWdlIn0&_nc_ht=scontent.cdninstagram.com&_nc_cat=111&_nc_ohc=TmMTQqDFC0UQ7kNvgF1TL5n&_nc_gid=b31b1d225ad94b699b122f6fed563f30&edm=APs17CUBAAAA&ccb=7-5&ig_cache_key=MzQ1NDg0NTUyMTczMzY4NTk3NQ%3D%3D.3-ccb7-5&oh=00_AYBGc_V7G6fOdFyA_ZC5Vvmlm0JpR5HrMTe1JG6E9TaWFA&oe=671FBCA9&_nc_sid=10d13b', 'https://scontent.cdninstagram.com/v/t51.29350-15/459036564_497910103198759_8220540295852582107_n.heic?stp=dst-jpg_e35&efg=eyJ2ZW5jb2RlX3RhZyI6ImltYWdlX3VybGdlbi4xMDgweDEwODAuc2RyLmYyOTM1MC5kZWZhdWx0X2ltYWdlIn0&_nc_ht=scontent.cdninstagram.com&_nc_cat=107&_nc_ohc=YeosfjqYZ_QQ7kNvgEbnF7e&_nc_gid=b31b1d225ad94b699b122f6fed563f30&edm=APs17CUBAAAA&ccb=7-5&ig_cache_key=MzQ1NDg0NTUyMTczMzY3MDk5Nw%3D%3D.3-ccb7-5&oh=00_AYBAEwCGy-F-KyncL4FQvRiVsuqA3X46YPAjGUHDL6PQ4w&oe=671FBBF4&_nc_sid=10d13b', 'https://scontent.cdninstagram.com/v/t51.29350-15/459097759_1490642268484559_7348744512899444913_n.heic?stp=dst-jpg_e35&efg=eyJ2ZW5jb2RlX3RhZyI6ImltYWdlX3VybGdlbi4xMDgweDEwODAuc2RyLmYyOTM1MC5kZWZhdWx0X2ltYWdlIn0&_nc_ht=scontent.cdninstagram.com&_nc_cat=111&_nc_ohc=qCtajtwm-CEQ7kNvgEpt3oO&_nc_gid=b31b1d225ad94b699b122f6fed563f30&edm=APs17CUBAAAA&ccb=7-5&ig_cache_key=MzQ1NDg0NTUyMjAzNTc1MTU4MA%3D%3D.3-ccb7-5&oh=00_AYAIJWqw0KFreoYohDhYXXysN4Sr0m0PbnKDqNrnqdfn0Q&oe=671FD509&_nc_sid=10d13b']\n",
      "['https://scontent.cdninstagram.com/v/t51.29350-15/459358771_551744624199575_7895425032996447721_n.heic?stp=dst-jpg_e35&efg=eyJ2ZW5jb2RlX3RhZyI6ImltYWdlX3VybGdlbi4xMDgweDEwODAuc2RyLmYyOTM1MC5kZWZhdWx0X2ltYWdlIn0&_nc_ht=scontent.cdninstagram.com&_nc_cat=111&_nc_ohc=TmMTQqDFC0UQ7kNvgF1TL5n&_nc_gid=b31b1d225ad94b699b122f6fed563f30&edm=APs17CUBAAAA&ccb=7-5&ig_cache_key=MzQ1NDg0NTUyMTczMzY4NTk3NQ%3D%3D.3-ccb7-5&oh=00_AYBGc_V7G6fOdFyA_ZC5Vvmlm0JpR5HrMTe1JG6E9TaWFA&oe=671FBCA9&_nc_sid=10d13b', 'https://scontent.cdninstagram.com/v/t51.29350-15/459036564_497910103198759_8220540295852582107_n.heic?stp=dst-jpg_e35&efg=eyJ2ZW5jb2RlX3RhZyI6ImltYWdlX3VybGdlbi4xMDgweDEwODAuc2RyLmYyOTM1MC5kZWZhdWx0X2ltYWdlIn0&_nc_ht=scontent.cdninstagram.com&_nc_cat=107&_nc_ohc=YeosfjqYZ_QQ7kNvgEbnF7e&_nc_gid=b31b1d225ad94b699b122f6fed563f30&edm=APs17CUBAAAA&ccb=7-5&ig_cache_key=MzQ1NDg0NTUyMTczMzY3MDk5Nw%3D%3D.3-ccb7-5&oh=00_AYBAEwCGy-F-KyncL4FQvRiVsuqA3X46YPAjGUHDL6PQ4w&oe=671FBBF4&_nc_sid=10d13b', 'https://scontent.cdninstagram.com/v/t51.29350-15/459097759_1490642268484559_7348744512899444913_n.heic?stp=dst-jpg_e35&efg=eyJ2ZW5jb2RlX3RhZyI6ImltYWdlX3VybGdlbi4xMDgweDEwODAuc2RyLmYyOTM1MC5kZWZhdWx0X2ltYWdlIn0&_nc_ht=scontent.cdninstagram.com&_nc_cat=111&_nc_ohc=qCtajtwm-CEQ7kNvgEpt3oO&_nc_gid=b31b1d225ad94b699b122f6fed563f30&edm=APs17CUBAAAA&ccb=7-5&ig_cache_key=MzQ1NDg0NTUyMjAzNTc1MTU4MA%3D%3D.3-ccb7-5&oh=00_AYAIJWqw0KFreoYohDhYXXysN4Sr0m0PbnKDqNrnqdfn0Q&oe=671FD509&_nc_sid=10d13b', 'https://scontent.cdninstagram.com/v/t51.29350-15/459225821_495874739865377_3516768249950368189_n.heic?stp=dst-jpg_e35&efg=eyJ2ZW5jb2RlX3RhZyI6ImltYWdlX3VybGdlbi4xMDgweDEwODAuc2RyLmYyOTM1MC5kZWZhdWx0X2ltYWdlIn0&_nc_ht=scontent.cdninstagram.com&_nc_cat=105&_nc_ohc=oPN9ggDCXGIQ7kNvgGxaN5B&_nc_gid=b31b1d225ad94b699b122f6fed563f30&edm=APs17CUBAAAA&ccb=7-5&ig_cache_key=MzQ1NDg0NTUyMTg1MTExMDg4OA%3D%3D.3-ccb7-5&oh=00_AYBl5uUWZpuXcjOxRBWOtvqZ3WA12QMvdgjpCTbGoddg3Q&oe=671FC678&_nc_sid=10d13b']\n",
      "['https://scontent.cdninstagram.com/v/t51.29350-15/459358771_551744624199575_7895425032996447721_n.heic?stp=dst-jpg_e35&efg=eyJ2ZW5jb2RlX3RhZyI6ImltYWdlX3VybGdlbi4xMDgweDEwODAuc2RyLmYyOTM1MC5kZWZhdWx0X2ltYWdlIn0&_nc_ht=scontent.cdninstagram.com&_nc_cat=111&_nc_ohc=TmMTQqDFC0UQ7kNvgF1TL5n&_nc_gid=b31b1d225ad94b699b122f6fed563f30&edm=APs17CUBAAAA&ccb=7-5&ig_cache_key=MzQ1NDg0NTUyMTczMzY4NTk3NQ%3D%3D.3-ccb7-5&oh=00_AYBGc_V7G6fOdFyA_ZC5Vvmlm0JpR5HrMTe1JG6E9TaWFA&oe=671FBCA9&_nc_sid=10d13b', 'https://scontent.cdninstagram.com/v/t51.29350-15/459036564_497910103198759_8220540295852582107_n.heic?stp=dst-jpg_e35&efg=eyJ2ZW5jb2RlX3RhZyI6ImltYWdlX3VybGdlbi4xMDgweDEwODAuc2RyLmYyOTM1MC5kZWZhdWx0X2ltYWdlIn0&_nc_ht=scontent.cdninstagram.com&_nc_cat=107&_nc_ohc=YeosfjqYZ_QQ7kNvgEbnF7e&_nc_gid=b31b1d225ad94b699b122f6fed563f30&edm=APs17CUBAAAA&ccb=7-5&ig_cache_key=MzQ1NDg0NTUyMTczMzY3MDk5Nw%3D%3D.3-ccb7-5&oh=00_AYBAEwCGy-F-KyncL4FQvRiVsuqA3X46YPAjGUHDL6PQ4w&oe=671FBBF4&_nc_sid=10d13b', 'https://scontent.cdninstagram.com/v/t51.29350-15/459097759_1490642268484559_7348744512899444913_n.heic?stp=dst-jpg_e35&efg=eyJ2ZW5jb2RlX3RhZyI6ImltYWdlX3VybGdlbi4xMDgweDEwODAuc2RyLmYyOTM1MC5kZWZhdWx0X2ltYWdlIn0&_nc_ht=scontent.cdninstagram.com&_nc_cat=111&_nc_ohc=qCtajtwm-CEQ7kNvgEpt3oO&_nc_gid=b31b1d225ad94b699b122f6fed563f30&edm=APs17CUBAAAA&ccb=7-5&ig_cache_key=MzQ1NDg0NTUyMjAzNTc1MTU4MA%3D%3D.3-ccb7-5&oh=00_AYAIJWqw0KFreoYohDhYXXysN4Sr0m0PbnKDqNrnqdfn0Q&oe=671FD509&_nc_sid=10d13b', 'https://scontent.cdninstagram.com/v/t51.29350-15/459225821_495874739865377_3516768249950368189_n.heic?stp=dst-jpg_e35&efg=eyJ2ZW5jb2RlX3RhZyI6ImltYWdlX3VybGdlbi4xMDgweDEwODAuc2RyLmYyOTM1MC5kZWZhdWx0X2ltYWdlIn0&_nc_ht=scontent.cdninstagram.com&_nc_cat=105&_nc_ohc=oPN9ggDCXGIQ7kNvgGxaN5B&_nc_gid=b31b1d225ad94b699b122f6fed563f30&edm=APs17CUBAAAA&ccb=7-5&ig_cache_key=MzQ1NDg0NTUyMTg1MTExMDg4OA%3D%3D.3-ccb7-5&oh=00_AYBl5uUWZpuXcjOxRBWOtvqZ3WA12QMvdgjpCTbGoddg3Q&oe=671FC678&_nc_sid=10d13b', 'https://scontent.cdninstagram.com/v/t51.29350-15/459067109_478567478497911_1527283769791810428_n.heic?stp=dst-jpg_e35&efg=eyJ2ZW5jb2RlX3RhZyI6ImltYWdlX3VybGdlbi4xMDgweDEwODAuc2RyLmYyOTM1MC5kZWZhdWx0X2ltYWdlIn0&_nc_ht=scontent.cdninstagram.com&_nc_cat=103&_nc_ohc=NsRFIL1YUs8Q7kNvgETquVy&_nc_gid=b31b1d225ad94b699b122f6fed563f30&edm=APs17CUBAAAA&ccb=7-5&ig_cache_key=MzQ1NDg0NTUyMTcyNTM3Nzg3OA%3D%3D.3-ccb7-5&oh=00_AYAhOAis6pWt0COgFFO6OIFFumgMosVsgKgfcZTaYL8poA&oe=671FCA2D&_nc_sid=10d13b']\n",
      "['https://scontent.cdninstagram.com/v/t51.29350-15/459358771_551744624199575_7895425032996447721_n.heic?stp=dst-jpg_e35&efg=eyJ2ZW5jb2RlX3RhZyI6ImltYWdlX3VybGdlbi4xMDgweDEwODAuc2RyLmYyOTM1MC5kZWZhdWx0X2ltYWdlIn0&_nc_ht=scontent.cdninstagram.com&_nc_cat=111&_nc_ohc=TmMTQqDFC0UQ7kNvgF1TL5n&_nc_gid=b31b1d225ad94b699b122f6fed563f30&edm=APs17CUBAAAA&ccb=7-5&ig_cache_key=MzQ1NDg0NTUyMTczMzY4NTk3NQ%3D%3D.3-ccb7-5&oh=00_AYBGc_V7G6fOdFyA_ZC5Vvmlm0JpR5HrMTe1JG6E9TaWFA&oe=671FBCA9&_nc_sid=10d13b', 'https://scontent.cdninstagram.com/v/t51.29350-15/459036564_497910103198759_8220540295852582107_n.heic?stp=dst-jpg_e35&efg=eyJ2ZW5jb2RlX3RhZyI6ImltYWdlX3VybGdlbi4xMDgweDEwODAuc2RyLmYyOTM1MC5kZWZhdWx0X2ltYWdlIn0&_nc_ht=scontent.cdninstagram.com&_nc_cat=107&_nc_ohc=YeosfjqYZ_QQ7kNvgEbnF7e&_nc_gid=b31b1d225ad94b699b122f6fed563f30&edm=APs17CUBAAAA&ccb=7-5&ig_cache_key=MzQ1NDg0NTUyMTczMzY3MDk5Nw%3D%3D.3-ccb7-5&oh=00_AYBAEwCGy-F-KyncL4FQvRiVsuqA3X46YPAjGUHDL6PQ4w&oe=671FBBF4&_nc_sid=10d13b', 'https://scontent.cdninstagram.com/v/t51.29350-15/459097759_1490642268484559_7348744512899444913_n.heic?stp=dst-jpg_e35&efg=eyJ2ZW5jb2RlX3RhZyI6ImltYWdlX3VybGdlbi4xMDgweDEwODAuc2RyLmYyOTM1MC5kZWZhdWx0X2ltYWdlIn0&_nc_ht=scontent.cdninstagram.com&_nc_cat=111&_nc_ohc=qCtajtwm-CEQ7kNvgEpt3oO&_nc_gid=b31b1d225ad94b699b122f6fed563f30&edm=APs17CUBAAAA&ccb=7-5&ig_cache_key=MzQ1NDg0NTUyMjAzNTc1MTU4MA%3D%3D.3-ccb7-5&oh=00_AYAIJWqw0KFreoYohDhYXXysN4Sr0m0PbnKDqNrnqdfn0Q&oe=671FD509&_nc_sid=10d13b', 'https://scontent.cdninstagram.com/v/t51.29350-15/459225821_495874739865377_3516768249950368189_n.heic?stp=dst-jpg_e35&efg=eyJ2ZW5jb2RlX3RhZyI6ImltYWdlX3VybGdlbi4xMDgweDEwODAuc2RyLmYyOTM1MC5kZWZhdWx0X2ltYWdlIn0&_nc_ht=scontent.cdninstagram.com&_nc_cat=105&_nc_ohc=oPN9ggDCXGIQ7kNvgGxaN5B&_nc_gid=b31b1d225ad94b699b122f6fed563f30&edm=APs17CUBAAAA&ccb=7-5&ig_cache_key=MzQ1NDg0NTUyMTg1MTExMDg4OA%3D%3D.3-ccb7-5&oh=00_AYBl5uUWZpuXcjOxRBWOtvqZ3WA12QMvdgjpCTbGoddg3Q&oe=671FC678&_nc_sid=10d13b', 'https://scontent.cdninstagram.com/v/t51.29350-15/459067109_478567478497911_1527283769791810428_n.heic?stp=dst-jpg_e35&efg=eyJ2ZW5jb2RlX3RhZyI6ImltYWdlX3VybGdlbi4xMDgweDEwODAuc2RyLmYyOTM1MC5kZWZhdWx0X2ltYWdlIn0&_nc_ht=scontent.cdninstagram.com&_nc_cat=103&_nc_ohc=NsRFIL1YUs8Q7kNvgETquVy&_nc_gid=b31b1d225ad94b699b122f6fed563f30&edm=APs17CUBAAAA&ccb=7-5&ig_cache_key=MzQ1NDg0NTUyMTcyNTM3Nzg3OA%3D%3D.3-ccb7-5&oh=00_AYAhOAis6pWt0COgFFO6OIFFumgMosVsgKgfcZTaYL8poA&oe=671FCA2D&_nc_sid=10d13b']\n",
      "image_urls : 0:00:03.334373\n",
      "_define_view_like_type : 0:00:00.039519\n",
      "view_like_type  : like\n",
      "view_like_type : 0:00:00.060577\n",
      "nickname : 0:00:01.465784\n",
      "contents : 0:00:00.547365\n",
      "feed_datetime : 0:00:00.439144\n",
      "['https://scontent.cdninstagram.com/v/t51.29350-15/455715715_767411875382275_4455701080366773523_n.heic?stp=dst-jpg_e35&efg=eyJ2ZW5jb2RlX3RhZyI6ImltYWdlX3VybGdlbi4xNDQweDE0NDAuc2RyLmYyOTM1MC5kZWZhdWx0X2ltYWdlIn0&_nc_ht=scontent.cdninstagram.com&_nc_cat=107&_nc_ohc=wbG3zV95UrsQ7kNvgGTvhcx&_nc_gid=94978ee3c8924901a074a84a5b37e220&edm=APs17CUBAAAA&ccb=7-5&ig_cache_key=MzQzNDk1MzQ5OTI4Mzk3NTkxMg%3D%3D.3-ccb7-5&oh=00_AYApp3BtY9n2Pg-EP7Cx8flVl_7L018vJQUH7xGEj6nUHw&oe=671FD2B0&_nc_sid=10d13b', 'https://scontent.cdninstagram.com/v/t51.29350-15/455026766_971331108014249_247663470131076078_n.heic?stp=dst-jpg_e35&efg=eyJ2ZW5jb2RlX3RhZyI6ImltYWdlX3VybGdlbi4xNDQweDE0NDAuc2RyLmYyOTM1MC5kZWZhdWx0X2ltYWdlIn0&_nc_ht=scontent.cdninstagram.com&_nc_cat=105&_nc_ohc=6oiIJNzslTMQ7kNvgE3V8xY&_nc_gid=94978ee3c8924901a074a84a5b37e220&edm=APs17CUBAAAA&ccb=7-5&ig_cache_key=MzQzNDk1MzQ5OTE3NDg4MTkxNw%3D%3D.3-ccb7-5&oh=00_AYCcY-0DlbB76QZbIu8uiGZtMMSfAZVXSDosQ99q9I-8qA&oe=671FA3D6&_nc_sid=10d13b']\n",
      "['https://scontent.cdninstagram.com/v/t51.29350-15/455715715_767411875382275_4455701080366773523_n.heic?stp=dst-jpg_e35&efg=eyJ2ZW5jb2RlX3RhZyI6ImltYWdlX3VybGdlbi4xNDQweDE0NDAuc2RyLmYyOTM1MC5kZWZhdWx0X2ltYWdlIn0&_nc_ht=scontent.cdninstagram.com&_nc_cat=107&_nc_ohc=wbG3zV95UrsQ7kNvgGTvhcx&_nc_gid=94978ee3c8924901a074a84a5b37e220&edm=APs17CUBAAAA&ccb=7-5&ig_cache_key=MzQzNDk1MzQ5OTI4Mzk3NTkxMg%3D%3D.3-ccb7-5&oh=00_AYApp3BtY9n2Pg-EP7Cx8flVl_7L018vJQUH7xGEj6nUHw&oe=671FD2B0&_nc_sid=10d13b', 'https://scontent.cdninstagram.com/v/t51.29350-15/455026766_971331108014249_247663470131076078_n.heic?stp=dst-jpg_e35&efg=eyJ2ZW5jb2RlX3RhZyI6ImltYWdlX3VybGdlbi4xNDQweDE0NDAuc2RyLmYyOTM1MC5kZWZhdWx0X2ltYWdlIn0&_nc_ht=scontent.cdninstagram.com&_nc_cat=105&_nc_ohc=6oiIJNzslTMQ7kNvgE3V8xY&_nc_gid=94978ee3c8924901a074a84a5b37e220&edm=APs17CUBAAAA&ccb=7-5&ig_cache_key=MzQzNDk1MzQ5OTE3NDg4MTkxNw%3D%3D.3-ccb7-5&oh=00_AYCcY-0DlbB76QZbIu8uiGZtMMSfAZVXSDosQ99q9I-8qA&oe=671FA3D6&_nc_sid=10d13b']\n",
      "['https://scontent.cdninstagram.com/v/t51.29350-15/455715715_767411875382275_4455701080366773523_n.heic?stp=dst-jpg_e35&efg=eyJ2ZW5jb2RlX3RhZyI6ImltYWdlX3VybGdlbi4xNDQweDE0NDAuc2RyLmYyOTM1MC5kZWZhdWx0X2ltYWdlIn0&_nc_ht=scontent.cdninstagram.com&_nc_cat=107&_nc_ohc=wbG3zV95UrsQ7kNvgGTvhcx&_nc_gid=94978ee3c8924901a074a84a5b37e220&edm=APs17CUBAAAA&ccb=7-5&ig_cache_key=MzQzNDk1MzQ5OTI4Mzk3NTkxMg%3D%3D.3-ccb7-5&oh=00_AYApp3BtY9n2Pg-EP7Cx8flVl_7L018vJQUH7xGEj6nUHw&oe=671FD2B0&_nc_sid=10d13b', 'https://scontent.cdninstagram.com/v/t51.29350-15/455026766_971331108014249_247663470131076078_n.heic?stp=dst-jpg_e35&efg=eyJ2ZW5jb2RlX3RhZyI6ImltYWdlX3VybGdlbi4xNDQweDE0NDAuc2RyLmYyOTM1MC5kZWZhdWx0X2ltYWdlIn0&_nc_ht=scontent.cdninstagram.com&_nc_cat=105&_nc_ohc=6oiIJNzslTMQ7kNvgE3V8xY&_nc_gid=94978ee3c8924901a074a84a5b37e220&edm=APs17CUBAAAA&ccb=7-5&ig_cache_key=MzQzNDk1MzQ5OTE3NDg4MTkxNw%3D%3D.3-ccb7-5&oh=00_AYCcY-0DlbB76QZbIu8uiGZtMMSfAZVXSDosQ99q9I-8qA&oe=671FA3D6&_nc_sid=10d13b', 'https://scontent.cdninstagram.com/v/t51.29350-15/455711090_513835051298737_6749979331719806354_n.heic?stp=dst-jpg_e35&efg=eyJ2ZW5jb2RlX3RhZyI6ImltYWdlX3VybGdlbi4xNDQweDE0NDAuc2RyLmYyOTM1MC5kZWZhdWx0X2ltYWdlIn0&_nc_ht=scontent.cdninstagram.com&_nc_cat=101&_nc_ohc=dDd91cCO97kQ7kNvgG4MFgm&_nc_gid=94978ee3c8924901a074a84a5b37e220&edm=APs17CUBAAAA&ccb=7-5&ig_cache_key=MzQzNDk1MzQ5OTI5MjMyNDM4MA%3D%3D.3-ccb7-5&oh=00_AYAf2jlCIfBObZyKQu8A_uD5JRSMiMUW9FXLUYi0QFgsNw&oe=671FC1EF&_nc_sid=10d13b']\n"
     ]
    },
    {
     "ename": "StaleElementReferenceException",
     "evalue": "Message: stale element reference: stale element not found in the current frame\n  (Session info: chrome=129.0.6668.101); For documentation on this error, please visit: https://www.selenium.dev/documentation/webdriver/troubleshooting/errors#stale-element-reference-exception\nStacktrace:\n\tGetHandleVerifier [0x00007FF6068EB095+29557]\n\t(No symbol) [0x00007FF60685FA50]\n\t(No symbol) [0x00007FF60671B56A]\n\t(No symbol) [0x00007FF60672213E]\n\t(No symbol) [0x00007FF6067247F4]\n\t(No symbol) [0x00007FF6067B97F0]\n\t(No symbol) [0x00007FF60679718A]\n\t(No symbol) [0x00007FF6067B851C]\n\t(No symbol) [0x00007FF606796F33]\n\t(No symbol) [0x00007FF60676116F]\n\t(No symbol) [0x00007FF6067622D1]\n\tGetHandleVerifier [0x00007FF606C1C96D+3378253]\n\tGetHandleVerifier [0x00007FF606C68497+3688311]\n\tGetHandleVerifier [0x00007FF606C5D1CB+3642539]\n\tGetHandleVerifier [0x00007FF6069AA6B6+813462]\n\t(No symbol) [0x00007FF60686AB5F]\n\t(No symbol) [0x00007FF606866B74]\n\t(No symbol) [0x00007FF606866D10]\n\t(No symbol) [0x00007FF606855C1F]\n\tBaseThreadInitThunk [0x00007FFEEEE97374+20]\n\tRtlUserThreadStart [0x00007FFEF001CC91+33]\n",
     "output_type": "error",
     "traceback": [
      "\u001b[1;31m---------------------------------------------------------------------------\u001b[0m",
      "\u001b[1;31mStaleElementReferenceException\u001b[0m            Traceback (most recent call last)",
      "Cell \u001b[1;32mIn[403], line 3\u001b[0m\n\u001b[0;32m      1\u001b[0m feed_infos \u001b[38;5;241m=\u001b[39m []\n\u001b[0;32m      2\u001b[0m \u001b[38;5;28;01mfor\u001b[39;00m feed_url \u001b[38;5;129;01min\u001b[39;00m feed_urls:\n\u001b[1;32m----> 3\u001b[0m     feed_info \u001b[38;5;241m=\u001b[39m \u001b[43mitfc\u001b[49m\u001b[38;5;241;43m.\u001b[39;49m\u001b[43mget_feed_info\u001b[49m\u001b[43m(\u001b[49m\u001b[43mfeed_url\u001b[49m\u001b[43m \u001b[49m\u001b[38;5;241;43m=\u001b[39;49m\u001b[43m \u001b[49m\u001b[43mfeed_url\u001b[49m\u001b[43m)\u001b[49m\n\u001b[0;32m      4\u001b[0m     feed_infos\u001b[38;5;241m.\u001b[39mappend(feed_info)\n",
      "File \u001b[1;32mc:\\Users\\Seho Park\\Documents\\Crawl\\insta_crawl.py:621\u001b[0m, in \u001b[0;36mget_feed_info\u001b[1;34m(self, feed_url)\u001b[0m\n\u001b[0;32m    618\u001b[0m feed_datetime \u001b[38;5;241m=\u001b[39m \u001b[38;5;28mself\u001b[39m\u001b[38;5;241m.\u001b[39m_get_feed_datetime()\n\u001b[0;32m    619\u001b[0m \u001b[38;5;28mprint\u001b[39m(\u001b[38;5;124mf\u001b[39m\u001b[38;5;124m\"\u001b[39m\u001b[38;5;124mfeed_datetime : \u001b[39m\u001b[38;5;132;01m{\u001b[39;00mdatetime\u001b[38;5;241m.\u001b[39mnow()\u001b[38;5;250m \u001b[39m\u001b[38;5;241m-\u001b[39m\u001b[38;5;250m \u001b[39mstart\u001b[38;5;132;01m}\u001b[39;00m\u001b[38;5;124m\"\u001b[39m)\n\u001b[1;32m--> 621\u001b[0m start \u001b[38;5;241m=\u001b[39m datetime\u001b[38;5;241m.\u001b[39mnow()\n\u001b[0;32m    622\u001b[0m image_urls \u001b[38;5;241m=\u001b[39m \u001b[38;5;28mself\u001b[39m\u001b[38;5;241m.\u001b[39m_get_image_urls()\n\u001b[0;32m    623\u001b[0m \u001b[38;5;28mprint\u001b[39m(\u001b[38;5;124mf\u001b[39m\u001b[38;5;124m\"\u001b[39m\u001b[38;5;124mimage_urls : \u001b[39m\u001b[38;5;132;01m{\u001b[39;00mdatetime\u001b[38;5;241m.\u001b[39mnow()\u001b[38;5;250m \u001b[39m\u001b[38;5;241m-\u001b[39m\u001b[38;5;250m \u001b[39mstart\u001b[38;5;132;01m}\u001b[39;00m\u001b[38;5;124m\"\u001b[39m)\n",
      "File \u001b[1;32mc:\\Users\\Seho Park\\Documents\\Crawl\\insta_crawl.py:583\u001b[0m, in \u001b[0;36mInsta_Tag_Feed_Crawler._get_image_urls\u001b[1;34m(self)\u001b[0m\n\u001b[0;32m    576\u001b[0m \u001b[38;5;28;01mwhile\u001b[39;00m \u001b[38;5;28;01mTrue\u001b[39;00m:\n\u001b[0;32m    578\u001b[0m     image_elems \u001b[38;5;241m=\u001b[39m \u001b[38;5;28mself\u001b[39m\u001b[38;5;241m.\u001b[39mdriver\u001b[38;5;241m.\u001b[39mfind_elements(\n\u001b[0;32m    579\u001b[0m         By\u001b[38;5;241m.\u001b[39mXPATH, \n\u001b[0;32m    580\u001b[0m         \u001b[38;5;124mf\u001b[39m\u001b[38;5;124m\"\u001b[39m\u001b[38;5;124m//\u001b[39m\u001b[38;5;132;01m{\u001b[39;00mparent_tag_name\u001b[38;5;132;01m}\u001b[39;00m\u001b[38;5;124m[@class=\u001b[39m\u001b[38;5;124m'\u001b[39m\u001b[38;5;132;01m{\u001b[39;00mparent_classname\u001b[38;5;132;01m}\u001b[39;00m\u001b[38;5;124m'\u001b[39m\u001b[38;5;124m]//\u001b[39m\u001b[38;5;132;01m{\u001b[39;00mtag_name\u001b[38;5;132;01m}\u001b[39;00m\u001b[38;5;124m[@class=\u001b[39m\u001b[38;5;124m'\u001b[39m\u001b[38;5;132;01m{\u001b[39;00mclassname\u001b[38;5;132;01m}\u001b[39;00m\u001b[38;5;124m'\u001b[39m\u001b[38;5;124m]\u001b[39m\u001b[38;5;124m\"\u001b[39m\n\u001b[0;32m    581\u001b[0m     )\n\u001b[1;32m--> 583\u001b[0m     temp_image_urls \u001b[38;5;241m=\u001b[39m [\u001b[43melem\u001b[49m\u001b[38;5;241;43m.\u001b[39;49m\u001b[43mget_attribute\u001b[49m\u001b[43m(\u001b[49m\u001b[38;5;124;43m\"\u001b[39;49m\u001b[38;5;124;43msrc\u001b[39;49m\u001b[38;5;124;43m\"\u001b[39;49m\u001b[43m)\u001b[49m \u001b[38;5;28;01mfor\u001b[39;00m elem \u001b[38;5;129;01min\u001b[39;00m image_elems]\n\u001b[0;32m    585\u001b[0m     \u001b[38;5;28;01mfor\u001b[39;00m x \u001b[38;5;129;01min\u001b[39;00m  temp_image_urls:\n\u001b[0;32m    586\u001b[0m         \u001b[38;5;28;01mif\u001b[39;00m x \u001b[38;5;129;01min\u001b[39;00m image_urls:\n",
      "File \u001b[1;32mc:\\Users\\Seho Park\\AppData\\Local\\Programs\\Python\\Python312\\Lib\\site-packages\\selenium\\webdriver\\remote\\webelement.py:178\u001b[0m, in \u001b[0;36mWebElement.get_attribute\u001b[1;34m(self, name)\u001b[0m\n\u001b[0;32m    176\u001b[0m \u001b[38;5;28;01mif\u001b[39;00m getAttribute_js \u001b[38;5;129;01mis\u001b[39;00m \u001b[38;5;28;01mNone\u001b[39;00m:\n\u001b[0;32m    177\u001b[0m     _load_js()\n\u001b[1;32m--> 178\u001b[0m attribute_value \u001b[38;5;241m=\u001b[39m \u001b[38;5;28;43mself\u001b[39;49m\u001b[38;5;241;43m.\u001b[39;49m\u001b[43mparent\u001b[49m\u001b[38;5;241;43m.\u001b[39;49m\u001b[43mexecute_script\u001b[49m\u001b[43m(\u001b[49m\n\u001b[0;32m    179\u001b[0m \u001b[43m    \u001b[49m\u001b[38;5;124;43mf\u001b[39;49m\u001b[38;5;124;43m\"\u001b[39;49m\u001b[38;5;124;43m/* getAttribute */return (\u001b[39;49m\u001b[38;5;132;43;01m{\u001b[39;49;00m\u001b[43mgetAttribute_js\u001b[49m\u001b[38;5;132;43;01m}\u001b[39;49;00m\u001b[38;5;124;43m).apply(null, arguments);\u001b[39;49m\u001b[38;5;124;43m\"\u001b[39;49m\u001b[43m,\u001b[49m\u001b[43m \u001b[49m\u001b[38;5;28;43mself\u001b[39;49m\u001b[43m,\u001b[49m\u001b[43m \u001b[49m\u001b[43mname\u001b[49m\n\u001b[0;32m    180\u001b[0m \u001b[43m\u001b[49m\u001b[43m)\u001b[49m\n\u001b[0;32m    181\u001b[0m \u001b[38;5;28;01mreturn\u001b[39;00m attribute_value\n",
      "File \u001b[1;32mc:\\Users\\Seho Park\\AppData\\Local\\Programs\\Python\\Python312\\Lib\\site-packages\\selenium\\webdriver\\remote\\webdriver.py:414\u001b[0m, in \u001b[0;36mWebDriver.execute_script\u001b[1;34m(self, script, *args)\u001b[0m\n\u001b[0;32m    411\u001b[0m converted_args \u001b[38;5;241m=\u001b[39m \u001b[38;5;28mlist\u001b[39m(args)\n\u001b[0;32m    412\u001b[0m command \u001b[38;5;241m=\u001b[39m Command\u001b[38;5;241m.\u001b[39mW3C_EXECUTE_SCRIPT\n\u001b[1;32m--> 414\u001b[0m \u001b[38;5;28;01mreturn\u001b[39;00m \u001b[38;5;28;43mself\u001b[39;49m\u001b[38;5;241;43m.\u001b[39;49m\u001b[43mexecute\u001b[49m\u001b[43m(\u001b[49m\u001b[43mcommand\u001b[49m\u001b[43m,\u001b[49m\u001b[43m \u001b[49m\u001b[43m{\u001b[49m\u001b[38;5;124;43m\"\u001b[39;49m\u001b[38;5;124;43mscript\u001b[39;49m\u001b[38;5;124;43m\"\u001b[39;49m\u001b[43m:\u001b[49m\u001b[43m \u001b[49m\u001b[43mscript\u001b[49m\u001b[43m,\u001b[49m\u001b[43m \u001b[49m\u001b[38;5;124;43m\"\u001b[39;49m\u001b[38;5;124;43margs\u001b[39;49m\u001b[38;5;124;43m\"\u001b[39;49m\u001b[43m:\u001b[49m\u001b[43m \u001b[49m\u001b[43mconverted_args\u001b[49m\u001b[43m}\u001b[49m\u001b[43m)\u001b[49m[\u001b[38;5;124m\"\u001b[39m\u001b[38;5;124mvalue\u001b[39m\u001b[38;5;124m\"\u001b[39m]\n",
      "File \u001b[1;32mc:\\Users\\Seho Park\\AppData\\Local\\Programs\\Python\\Python312\\Lib\\site-packages\\selenium\\webdriver\\remote\\webdriver.py:354\u001b[0m, in \u001b[0;36mWebDriver.execute\u001b[1;34m(self, driver_command, params)\u001b[0m\n\u001b[0;32m    352\u001b[0m response \u001b[38;5;241m=\u001b[39m \u001b[38;5;28mself\u001b[39m\u001b[38;5;241m.\u001b[39mcommand_executor\u001b[38;5;241m.\u001b[39mexecute(driver_command, params)\n\u001b[0;32m    353\u001b[0m \u001b[38;5;28;01mif\u001b[39;00m response:\n\u001b[1;32m--> 354\u001b[0m     \u001b[38;5;28;43mself\u001b[39;49m\u001b[38;5;241;43m.\u001b[39;49m\u001b[43merror_handler\u001b[49m\u001b[38;5;241;43m.\u001b[39;49m\u001b[43mcheck_response\u001b[49m\u001b[43m(\u001b[49m\u001b[43mresponse\u001b[49m\u001b[43m)\u001b[49m\n\u001b[0;32m    355\u001b[0m     response[\u001b[38;5;124m\"\u001b[39m\u001b[38;5;124mvalue\u001b[39m\u001b[38;5;124m\"\u001b[39m] \u001b[38;5;241m=\u001b[39m \u001b[38;5;28mself\u001b[39m\u001b[38;5;241m.\u001b[39m_unwrap_value(response\u001b[38;5;241m.\u001b[39mget(\u001b[38;5;124m\"\u001b[39m\u001b[38;5;124mvalue\u001b[39m\u001b[38;5;124m\"\u001b[39m, \u001b[38;5;28;01mNone\u001b[39;00m))\n\u001b[0;32m    356\u001b[0m     \u001b[38;5;28;01mreturn\u001b[39;00m response\n",
      "File \u001b[1;32mc:\\Users\\Seho Park\\AppData\\Local\\Programs\\Python\\Python312\\Lib\\site-packages\\selenium\\webdriver\\remote\\errorhandler.py:229\u001b[0m, in \u001b[0;36mErrorHandler.check_response\u001b[1;34m(self, response)\u001b[0m\n\u001b[0;32m    227\u001b[0m         alert_text \u001b[38;5;241m=\u001b[39m value[\u001b[38;5;124m\"\u001b[39m\u001b[38;5;124malert\u001b[39m\u001b[38;5;124m\"\u001b[39m]\u001b[38;5;241m.\u001b[39mget(\u001b[38;5;124m\"\u001b[39m\u001b[38;5;124mtext\u001b[39m\u001b[38;5;124m\"\u001b[39m)\n\u001b[0;32m    228\u001b[0m     \u001b[38;5;28;01mraise\u001b[39;00m exception_class(message, screen, stacktrace, alert_text)  \u001b[38;5;66;03m# type: ignore[call-arg]  # mypy is not smart enough here\u001b[39;00m\n\u001b[1;32m--> 229\u001b[0m \u001b[38;5;28;01mraise\u001b[39;00m exception_class(message, screen, stacktrace)\n",
      "\u001b[1;31mStaleElementReferenceException\u001b[0m: Message: stale element reference: stale element not found in the current frame\n  (Session info: chrome=129.0.6668.101); For documentation on this error, please visit: https://www.selenium.dev/documentation/webdriver/troubleshooting/errors#stale-element-reference-exception\nStacktrace:\n\tGetHandleVerifier [0x00007FF6068EB095+29557]\n\t(No symbol) [0x00007FF60685FA50]\n\t(No symbol) [0x00007FF60671B56A]\n\t(No symbol) [0x00007FF60672213E]\n\t(No symbol) [0x00007FF6067247F4]\n\t(No symbol) [0x00007FF6067B97F0]\n\t(No symbol) [0x00007FF60679718A]\n\t(No symbol) [0x00007FF6067B851C]\n\t(No symbol) [0x00007FF606796F33]\n\t(No symbol) [0x00007FF60676116F]\n\t(No symbol) [0x00007FF6067622D1]\n\tGetHandleVerifier [0x00007FF606C1C96D+3378253]\n\tGetHandleVerifier [0x00007FF606C68497+3688311]\n\tGetHandleVerifier [0x00007FF606C5D1CB+3642539]\n\tGetHandleVerifier [0x00007FF6069AA6B6+813462]\n\t(No symbol) [0x00007FF60686AB5F]\n\t(No symbol) [0x00007FF606866B74]\n\t(No symbol) [0x00007FF606866D10]\n\t(No symbol) [0x00007FF606855C1F]\n\tBaseThreadInitThunk [0x00007FFEEEE97374+20]\n\tRtlUserThreadStart [0x00007FFEF001CC91+33]\n"
     ]
    }
   ],
   "source": [
    "feed_infos = []\n",
    "for feed_url in feed_urls:\n",
    "    feed_info = itfc.get_feed_info(feed_url = feed_url)\n",
    "    feed_infos.append(feed_info)"
   ]
  },
  {
   "cell_type": "code",
   "execution_count": 425,
   "metadata": {},
   "outputs": [
    {
     "data": {
      "text/plain": [
       "\"//div[@class='x1i10hfl']//img[@class='x5yr21d xu96u03 x10l6tqk x13vifvy x87ps6o xh8yej3']\""
      ]
     },
     "execution_count": 425,
     "metadata": {},
     "output_type": "execute_result"
    }
   ],
   "source": [
    "f\"//{parent_tag_name}[@class='{parent_classname}']//{tag_name}[@class='{classname}']\""
   ]
  },
  {
   "cell_type": "code",
   "execution_count": 439,
   "metadata": {},
   "outputs": [
    {
     "name": "stdout",
     "output_type": "stream",
     "text": [
      "로딩되지 않음, 살짝 위로 스크롤 후 다시 아래로.\n",
      "로딩되지 않음, 살짝 위로 스크롤 후 다시 아래로.\n",
      "로딩되지 않음, 살짝 위로 스크롤 후 다시 아래로.\n",
      "로딩되지 않음, 살짝 위로 스크롤 후 다시 아래로.\n",
      "로딩되지 않음, 살짝 위로 스크롤 후 다시 아래로.\n",
      "로딩되지 않음, 살짝 위로 스크롤 후 다시 아래로.\n",
      "최대 시도 횟수 도달, 페이지를 새로고침합니다.\n"
     ]
    }
   ],
   "source": [
    "feed_urls = itfc.get_feed_urls_from_search_result(tag = \"up가전\")"
   ]
  },
  {
   "cell_type": "code",
   "execution_count": 443,
   "metadata": {},
   "outputs": [],
   "source": [
    "import pickle"
   ]
  },
  {
   "cell_type": "code",
   "execution_count": 444,
   "metadata": {},
   "outputs": [],
   "source": [
    "with open(\"up가전_feed_urls_241024.pkl\", \"wb\") as f:\n",
    "    pickle.dump(feed_urls, f)"
   ]
  },
  {
   "cell_type": "code",
   "execution_count": 447,
   "metadata": {},
   "outputs": [],
   "source": [
    "itfc._get_like_count()"
   ]
  },
  {
   "cell_type": "code",
   "execution_count": 452,
   "metadata": {},
   "outputs": [
    {
     "data": {
      "text/plain": [
       "307"
      ]
     },
     "execution_count": 452,
     "metadata": {},
     "output_type": "execute_result"
    }
   ],
   "source": [
    "feed_urls.index(itfc.feed_url)"
   ]
  },
  {
   "cell_type": "code",
   "execution_count": 453,
   "metadata": {},
   "outputs": [
    {
     "data": {
      "text/plain": [
       "'https://www.instagram.com/p/CfdZ-GPJ4Y5/'"
      ]
     },
     "execution_count": 453,
     "metadata": {},
     "output_type": "execute_result"
    }
   ],
   "source": [
    "feed_urls[308]"
   ]
  },
  {
   "cell_type": "code",
   "execution_count": 451,
   "metadata": {},
   "outputs": [
    {
     "data": {
      "text/plain": [
       "'https://www.instagram.com/p/ChXVkKoJI0K/'"
      ]
     },
     "execution_count": 451,
     "metadata": {},
     "output_type": "execute_result"
    }
   ],
   "source": [
    "itfc.feed_url"
   ]
  },
  {
   "cell_type": "code",
   "execution_count": 450,
   "metadata": {},
   "outputs": [
    {
     "name": "stdout",
     "output_type": "stream",
     "text": [
      "view_like_type  : view_like\n",
      "view_like_type  : like\n",
      "view_like_type  : like\n",
      "view_like_type  : like\n",
      "view_like_type  : like\n",
      "view_like_type  : like\n",
      "view_like_type  : like\n",
      "view_like_type  : like\n",
      "view_like_type  : like\n",
      "view_like_type  : like\n",
      "view_like_type  : like\n",
      "view_like_type  : like\n",
      "view_like_type  : like\n",
      "view_like_type  : like\n",
      "view_like_type  : like\n",
      "view_like_type  : like\n",
      "view_like_type  : like\n",
      "view_like_type  : like\n",
      "view_like_type  : like\n",
      "view_like_type  : like\n",
      "view_like_type  : like\n",
      "view_like_type  : like\n",
      "view_like_type  : like\n",
      "view_like_type  : like\n",
      "view_like_type  : like\n",
      "view_like_type  : like\n",
      "view_like_type  : like\n",
      "view_like_type  : like\n",
      "view_like_type  : like\n",
      "view_like_type  : like\n",
      "view_like_type  : like\n",
      "view_like_type  : like\n",
      "view_like_type  : like\n",
      "view_like_type  : like\n",
      "view_like_type  : like\n",
      "view_like_type  : like\n",
      "view_like_type  : like\n",
      "view_like_type  : like\n",
      "view_like_type  : like\n",
      "view_like_type  : like\n",
      "view_like_type  : like\n",
      "view_like_type  : like\n",
      "view_like_type  : like\n",
      "view_like_type  : like\n",
      "view_like_type  : like\n",
      "view_like_type  : like\n",
      "view_like_type  : like\n",
      "view_like_type  : like\n",
      "view_like_type  : like\n",
      "view_like_type  : like\n",
      "view_like_type  : like\n",
      "view_like_type  : like\n",
      "view_like_type  : like\n",
      "view_like_type  : like\n",
      "view_like_type  : like\n",
      "view_like_type  : like\n",
      "view_like_type  : like\n",
      "view_like_type  : like\n",
      "view_like_type  : like\n",
      "view_like_type  : like\n",
      "view_like_type  : like\n",
      "view_like_type  : like\n",
      "view_like_type  : like\n",
      "view_like_type  : like\n",
      "view_like_type  : like\n",
      "view_like_type  : like\n",
      "view_like_type  : like\n",
      "view_like_type  : like\n",
      "view_like_type  : like\n",
      "view_like_type  : like\n",
      "view_like_type  : like\n",
      "view_like_type  : like\n",
      "view_like_type  : like\n",
      "view_like_type  : like\n",
      "view_like_type  : like\n",
      "view_like_type  : like\n",
      "view_like_type  : like\n",
      "view_like_type  : like\n",
      "view_like_type  : like\n",
      "view_like_type  : like\n",
      "view_like_type  : like\n",
      "view_like_type  : like\n",
      "view_like_type  : like\n",
      "view_like_type  : like\n",
      "view_like_type  : like\n",
      "view_like_type  : like\n",
      "view_like_type  : like\n",
      "view_like_type  : like\n",
      "view_like_type  : like\n",
      "view_like_type  : like\n",
      "view_like_type  : like\n",
      "view_like_type  : like\n",
      "view_like_type  : like\n",
      "view_like_type  : like\n",
      "view_like_type  : like\n",
      "view_like_type  : like\n",
      "view_like_type  : like\n",
      "view_like_type  : like\n",
      "view_like_type  : like\n",
      "view_like_type  : like\n",
      "view_like_type  : like\n",
      "view_like_type  : like\n",
      "view_like_type  : like\n",
      "view_like_type  : like\n",
      "view_like_type  : like\n",
      "view_like_type  : like\n",
      "view_like_type  : like\n",
      "view_like_type  : like\n",
      "view_like_type  : like\n",
      "view_like_type  : like\n",
      "view_like_type  : like\n",
      "view_like_type  : like\n",
      "view_like_type  : like\n",
      "view_like_type  : like\n",
      "view_like_type  : like\n",
      "view_like_type  : like\n",
      "view_like_type  : like\n",
      "view_like_type  : like\n",
      "view_like_type  : like\n",
      "view_like_type  : like\n",
      "view_like_type  : like\n",
      "view_like_type  : like\n",
      "view_like_type  : like\n",
      "view_like_type  : like\n",
      "view_like_type  : like\n",
      "view_like_type  : like\n",
      "view_like_type  : like\n",
      "view_like_type  : like\n",
      "view_like_type  : like\n",
      "view_like_type  : like\n",
      "view_like_type  : like\n",
      "view_like_type  : like\n",
      "view_like_type  : like\n",
      "view_like_type  : like\n",
      "view_like_type  : like\n",
      "view_like_type  : like\n",
      "view_like_type  : like\n",
      "view_like_type  : like\n",
      "view_like_type  : like\n",
      "view_like_type  : like\n",
      "view_like_type  : like\n",
      "view_like_type  : like\n",
      "view_like_type  : like\n",
      "view_like_type  : like\n",
      "view_like_type  : like\n",
      "view_like_type  : like\n",
      "view_like_type  : like\n",
      "view_like_type  : like\n",
      "view_like_type  : like\n",
      "view_like_type  : like\n",
      "view_like_type  : like\n",
      "view_like_type  : like\n",
      "view_like_type  : like\n",
      "view_like_type  : like\n",
      "view_like_type  : like\n",
      "view_like_type  : like\n",
      "view_like_type  : like\n",
      "view_like_type  : like\n",
      "view_like_type  : like\n",
      "view_like_type  : like\n",
      "view_like_type  : like\n",
      "view_like_type  : like\n",
      "view_like_type  : like\n",
      "view_like_type  : like\n",
      "view_like_type  : like\n",
      "view_like_type  : like\n",
      "view_like_type  : like\n",
      "view_like_type  : like\n",
      "view_like_type  : like\n",
      "view_like_type  : like\n",
      "view_like_type  : like\n",
      "view_like_type  : like\n",
      "view_like_type  : like\n",
      "view_like_type  : like\n",
      "view_like_type  : like\n",
      "view_like_type  : like\n",
      "view_like_type  : like\n",
      "view_like_type  : like\n",
      "view_like_type  : like\n",
      "view_like_type  : like\n",
      "view_like_type  : like\n",
      "view_like_type  : like\n",
      "view_like_type  : like\n",
      "view_like_type  : like\n",
      "view_like_type  : like\n",
      "view_like_type  : like\n",
      "view_like_type  : like\n",
      "view_like_type  : like\n",
      "view_like_type  : like\n",
      "view_like_type  : like\n",
      "view_like_type  : like\n",
      "view_like_type  : like\n",
      "view_like_type  : like\n",
      "view_like_type  : like\n",
      "view_like_type  : like\n",
      "view_like_type  : like\n",
      "view_like_type  : like\n",
      "view_like_type  : like\n",
      "view_like_type  : like\n",
      "view_like_type  : like\n",
      "view_like_type  : like\n",
      "view_like_type  : like\n",
      "view_like_type  : like\n",
      "view_like_type  : like\n",
      "view_like_type  : like\n",
      "view_like_type  : like\n",
      "view_like_type  : like\n",
      "view_like_type  : like\n",
      "view_like_type  : like\n",
      "view_like_type  : like\n",
      "view_like_type  : like\n",
      "view_like_type  : like\n",
      "view_like_type  : like\n",
      "view_like_type  : like\n",
      "view_like_type  : like\n",
      "view_like_type  : like\n",
      "view_like_type  : like\n",
      "view_like_type  : like\n",
      "view_like_type  : like\n",
      "view_like_type  : like\n",
      "view_like_type  : like\n",
      "view_like_type  : like\n",
      "view_like_type  : like\n",
      "view_like_type  : like\n",
      "view_like_type  : like\n",
      "view_like_type  : like\n",
      "view_like_type  : like\n",
      "view_like_type  : like\n",
      "view_like_type  : like\n",
      "view_like_type  : like\n",
      "view_like_type  : like\n",
      "view_like_type  : like\n",
      "view_like_type  : like\n",
      "view_like_type  : like\n",
      "view_like_type  : like\n",
      "view_like_type  : like\n",
      "view_like_type  : like\n",
      "view_like_type  : like\n",
      "view_like_type  : like\n",
      "view_like_type  : like\n",
      "view_like_type  : like\n",
      "view_like_type  : like\n",
      "view_like_type  : like\n",
      "view_like_type  : like\n",
      "view_like_type  : like\n",
      "view_like_type  : like\n",
      "view_like_type  : like\n",
      "view_like_type  : like\n",
      "view_like_type  : like\n",
      "view_like_type  : like\n",
      "view_like_type  : like\n",
      "view_like_type  : like\n",
      "view_like_type  : like\n",
      "view_like_type  : like\n",
      "view_like_type  : like\n",
      "view_like_type  : like\n",
      "view_like_type  : like\n",
      "view_like_type  : like\n",
      "view_like_type  : like\n",
      "view_like_type  : like\n",
      "view_like_type  : like\n",
      "view_like_type  : like\n",
      "view_like_type  : like\n",
      "view_like_type  : like\n",
      "view_like_type  : like\n",
      "view_like_type  : like\n",
      "view_like_type  : like\n",
      "view_like_type  : like\n",
      "view_like_type  : like\n",
      "view_like_type  : like\n",
      "view_like_type  : like\n",
      "view_like_type  : like\n",
      "view_like_type  : like\n",
      "view_like_type  : like\n",
      "view_like_type  : like\n",
      "view_like_type  : like\n",
      "view_like_type  : view_like\n",
      "view_like_type  : like\n",
      "view_like_type  : like\n",
      "view_like_type  : like\n",
      "view_like_type  : like\n",
      "view_like_type  : like\n",
      "view_like_type  : like\n",
      "view_like_type  : like\n",
      "view_like_type  : like\n",
      "view_like_type  : like\n",
      "view_like_type  : like\n",
      "view_like_type  : like\n",
      "view_like_type  : like\n",
      "view_like_type  : like\n",
      "view_like_type  : like\n",
      "view_like_type  : like\n",
      "view_like_type  : like\n",
      "view_like_type  : like\n",
      "view_like_type  : like\n",
      "view_like_type  : like\n",
      "view_like_type  : like\n",
      "view_like_type  : like\n",
      "view_like_type  : like\n",
      "view_like_type  : like\n",
      "view_like_type  : like\n",
      "view_like_type  : like\n",
      "view_like_type  : like\n",
      "view_like_type  : like\n",
      "view_like_type  : like\n",
      "view_like_type  : like\n",
      "view_like_type  : like\n"
     ]
    },
    {
     "ename": "NoSuchElementException",
     "evalue": "Message: no such element: Unable to locate element: {\"method\":\"xpath\",\"selector\":\"//span[@class='_ap3a _aaco _aacw _aacx _aad7 _aade']\"}\n  (Session info: chrome=129.0.6668.101); For documentation on this error, please visit: https://www.selenium.dev/documentation/webdriver/troubleshooting/errors#no-such-element-exception\nStacktrace:\n\tGetHandleVerifier [0x00007FF6068EB095+29557]\n\t(No symbol) [0x00007FF60685FA50]\n\t(No symbol) [0x00007FF60671B56A]\n\t(No symbol) [0x00007FF60676F695]\n\t(No symbol) [0x00007FF60676F8EC]\n\t(No symbol) [0x00007FF6067BB777]\n\t(No symbol) [0x00007FF6067971CF]\n\t(No symbol) [0x00007FF6067B851C]\n\t(No symbol) [0x00007FF606796F33]\n\t(No symbol) [0x00007FF60676116F]\n\t(No symbol) [0x00007FF6067622D1]\n\tGetHandleVerifier [0x00007FF606C1C96D+3378253]\n\tGetHandleVerifier [0x00007FF606C68497+3688311]\n\tGetHandleVerifier [0x00007FF606C5D1CB+3642539]\n\tGetHandleVerifier [0x00007FF6069AA6B6+813462]\n\t(No symbol) [0x00007FF60686AB5F]\n\t(No symbol) [0x00007FF606866B74]\n\t(No symbol) [0x00007FF606866D10]\n\t(No symbol) [0x00007FF606855C1F]\n\tBaseThreadInitThunk [0x00007FFEEEE97374+20]\n\tRtlUserThreadStart [0x00007FFEF001CC91+33]\n",
     "output_type": "error",
     "traceback": [
      "\u001b[1;31m---------------------------------------------------------------------------\u001b[0m",
      "\u001b[1;31mNoSuchElementException\u001b[0m                    Traceback (most recent call last)",
      "Cell \u001b[1;32mIn[450], line 1\u001b[0m\n\u001b[1;32m----> 1\u001b[0m feed_infos \u001b[38;5;241m=\u001b[39m \u001b[43mitfc\u001b[49m\u001b[38;5;241;43m.\u001b[39;49m\u001b[43mget_feed_infos\u001b[49m\u001b[43m(\u001b[49m\u001b[43mfeed_urls\u001b[49m\u001b[43m)\u001b[49m\n",
      "File \u001b[1;32mc:\\Users\\Seho Park\\Documents\\Crawl\\insta_crawl.py:667\u001b[0m, in \u001b[0;36mInsta_Tag_Feed_Crawler.get_feed_infos\u001b[1;34m(self, feed_urls)\u001b[0m\n\u001b[0;32m    665\u001b[0m \u001b[38;5;28;01mfor\u001b[39;00m feed_url \u001b[38;5;129;01min\u001b[39;00m feed_urls:\n\u001b[0;32m    666\u001b[0m     \u001b[38;5;28mself\u001b[39m\u001b[38;5;241m.\u001b[39mfeed_url \u001b[38;5;241m=\u001b[39m feed_url\n\u001b[1;32m--> 667\u001b[0m     feed_info \u001b[38;5;241m=\u001b[39m \u001b[38;5;28;43mself\u001b[39;49m\u001b[38;5;241;43m.\u001b[39;49m\u001b[43mget_feed_info\u001b[49m\u001b[43m(\u001b[49m\u001b[43mfeed_url\u001b[49m\u001b[43m \u001b[49m\u001b[38;5;241;43m=\u001b[39;49m\u001b[43m \u001b[49m\u001b[43mfeed_url\u001b[49m\u001b[43m)\u001b[49m\n\u001b[0;32m    668\u001b[0m     \u001b[38;5;28mself\u001b[39m\u001b[38;5;241m.\u001b[39mfeed_infos\u001b[38;5;241m.\u001b[39mappend(feed_info)\n\u001b[0;32m    670\u001b[0m \u001b[38;5;28;01mreturn\u001b[39;00m feed_infos\n",
      "File \u001b[1;32mc:\\Users\\Seho Park\\Documents\\Crawl\\insta_crawl.py:621\u001b[0m, in \u001b[0;36mInsta_Tag_Feed_Crawler.get_feed_info\u001b[1;34m(self, feed_url)\u001b[0m\n\u001b[0;32m    618\u001b[0m \u001b[38;5;28mself\u001b[39m\u001b[38;5;241m.\u001b[39mdriver\u001b[38;5;241m.\u001b[39mget(feed_url)\n\u001b[0;32m    620\u001b[0m \u001b[38;5;66;03m# start = datetime.now()\u001b[39;00m\n\u001b[1;32m--> 621\u001b[0m nickname \u001b[38;5;241m=\u001b[39m \u001b[38;5;28;43mself\u001b[39;49m\u001b[38;5;241;43m.\u001b[39;49m\u001b[43m_get_feed_nickname\u001b[49m\u001b[43m(\u001b[49m\u001b[43m)\u001b[49m\n\u001b[0;32m    622\u001b[0m \u001b[38;5;66;03m# print(f\"nickname : {datetime.now() - start}\")\u001b[39;00m\n\u001b[0;32m    623\u001b[0m \n\u001b[0;32m    624\u001b[0m \u001b[38;5;66;03m# start = datetime.now()\u001b[39;00m\n\u001b[0;32m    625\u001b[0m contents \u001b[38;5;241m=\u001b[39m \u001b[38;5;28mself\u001b[39m\u001b[38;5;241m.\u001b[39m_get_feed_contents()\n",
      "File \u001b[1;32mc:\\Users\\Seho Park\\Documents\\Crawl\\insta_crawl.py:482\u001b[0m, in \u001b[0;36mInsta_Tag_Feed_Crawler._get_feed_nickname\u001b[1;34m(self)\u001b[0m\n\u001b[0;32m    479\u001b[0m tag_name \u001b[38;5;241m=\u001b[39m \u001b[38;5;28mself\u001b[39m\u001b[38;5;241m.\u001b[39minsta_elements\u001b[38;5;241m.\u001b[39mget(\u001b[38;5;124m\"\u001b[39m\u001b[38;5;124mnickname\u001b[39m\u001b[38;5;124m\"\u001b[39m)\u001b[38;5;241m.\u001b[39mget(\u001b[38;5;124m\"\u001b[39m\u001b[38;5;124mtag_name\u001b[39m\u001b[38;5;124m\"\u001b[39m)\n\u001b[0;32m    480\u001b[0m classname \u001b[38;5;241m=\u001b[39m \u001b[38;5;28mself\u001b[39m\u001b[38;5;241m.\u001b[39minsta_elements\u001b[38;5;241m.\u001b[39mget(\u001b[38;5;124m\"\u001b[39m\u001b[38;5;124mnickname\u001b[39m\u001b[38;5;124m\"\u001b[39m)\u001b[38;5;241m.\u001b[39mget(\u001b[38;5;124m\"\u001b[39m\u001b[38;5;124mclassname\u001b[39m\u001b[38;5;124m\"\u001b[39m)\n\u001b[1;32m--> 482\u001b[0m nickname \u001b[38;5;241m=\u001b[39m \u001b[38;5;28;43mself\u001b[39;49m\u001b[38;5;241;43m.\u001b[39;49m\u001b[43mdriver\u001b[49m\u001b[38;5;241;43m.\u001b[39;49m\u001b[43mfind_element\u001b[49m\u001b[43m(\u001b[49m\n\u001b[0;32m    483\u001b[0m \u001b[43m    \u001b[49m\u001b[43mBy\u001b[49m\u001b[38;5;241;43m.\u001b[39;49m\u001b[43mXPATH\u001b[49m\u001b[43m,\u001b[49m\u001b[43m \u001b[49m\n\u001b[0;32m    484\u001b[0m \u001b[43m    \u001b[49m\u001b[38;5;124;43mf\u001b[39;49m\u001b[38;5;124;43m\"\u001b[39;49m\u001b[38;5;124;43m//\u001b[39;49m\u001b[38;5;132;43;01m{\u001b[39;49;00m\u001b[43mtag_name\u001b[49m\u001b[38;5;132;43;01m}\u001b[39;49;00m\u001b[38;5;124;43m[@class=\u001b[39;49m\u001b[38;5;124;43m'\u001b[39;49m\u001b[38;5;132;43;01m{\u001b[39;49;00m\u001b[43mclassname\u001b[49m\u001b[38;5;132;43;01m}\u001b[39;49;00m\u001b[38;5;124;43m'\u001b[39;49m\u001b[38;5;124;43m]\u001b[39;49m\u001b[38;5;124;43m\"\u001b[39;49m\n\u001b[0;32m    485\u001b[0m \u001b[43m\u001b[49m\u001b[43m)\u001b[49m\u001b[38;5;241m.\u001b[39mtext\n\u001b[0;32m    487\u001b[0m \u001b[38;5;28;01mreturn\u001b[39;00m nickname\n",
      "File \u001b[1;32mc:\\Users\\Seho Park\\AppData\\Local\\Programs\\Python\\Python312\\Lib\\site-packages\\selenium\\webdriver\\remote\\webdriver.py:748\u001b[0m, in \u001b[0;36mWebDriver.find_element\u001b[1;34m(self, by, value)\u001b[0m\n\u001b[0;32m    745\u001b[0m     by \u001b[38;5;241m=\u001b[39m By\u001b[38;5;241m.\u001b[39mCSS_SELECTOR\n\u001b[0;32m    746\u001b[0m     value \u001b[38;5;241m=\u001b[39m \u001b[38;5;124mf\u001b[39m\u001b[38;5;124m'\u001b[39m\u001b[38;5;124m[name=\u001b[39m\u001b[38;5;124m\"\u001b[39m\u001b[38;5;132;01m{\u001b[39;00mvalue\u001b[38;5;132;01m}\u001b[39;00m\u001b[38;5;124m\"\u001b[39m\u001b[38;5;124m]\u001b[39m\u001b[38;5;124m'\u001b[39m\n\u001b[1;32m--> 748\u001b[0m \u001b[38;5;28;01mreturn\u001b[39;00m \u001b[38;5;28;43mself\u001b[39;49m\u001b[38;5;241;43m.\u001b[39;49m\u001b[43mexecute\u001b[49m\u001b[43m(\u001b[49m\u001b[43mCommand\u001b[49m\u001b[38;5;241;43m.\u001b[39;49m\u001b[43mFIND_ELEMENT\u001b[49m\u001b[43m,\u001b[49m\u001b[43m \u001b[49m\u001b[43m{\u001b[49m\u001b[38;5;124;43m\"\u001b[39;49m\u001b[38;5;124;43musing\u001b[39;49m\u001b[38;5;124;43m\"\u001b[39;49m\u001b[43m:\u001b[49m\u001b[43m \u001b[49m\u001b[43mby\u001b[49m\u001b[43m,\u001b[49m\u001b[43m \u001b[49m\u001b[38;5;124;43m\"\u001b[39;49m\u001b[38;5;124;43mvalue\u001b[39;49m\u001b[38;5;124;43m\"\u001b[39;49m\u001b[43m:\u001b[49m\u001b[43m \u001b[49m\u001b[43mvalue\u001b[49m\u001b[43m}\u001b[49m\u001b[43m)\u001b[49m[\u001b[38;5;124m\"\u001b[39m\u001b[38;5;124mvalue\u001b[39m\u001b[38;5;124m\"\u001b[39m]\n",
      "File \u001b[1;32mc:\\Users\\Seho Park\\AppData\\Local\\Programs\\Python\\Python312\\Lib\\site-packages\\selenium\\webdriver\\remote\\webdriver.py:354\u001b[0m, in \u001b[0;36mWebDriver.execute\u001b[1;34m(self, driver_command, params)\u001b[0m\n\u001b[0;32m    352\u001b[0m response \u001b[38;5;241m=\u001b[39m \u001b[38;5;28mself\u001b[39m\u001b[38;5;241m.\u001b[39mcommand_executor\u001b[38;5;241m.\u001b[39mexecute(driver_command, params)\n\u001b[0;32m    353\u001b[0m \u001b[38;5;28;01mif\u001b[39;00m response:\n\u001b[1;32m--> 354\u001b[0m     \u001b[38;5;28;43mself\u001b[39;49m\u001b[38;5;241;43m.\u001b[39;49m\u001b[43merror_handler\u001b[49m\u001b[38;5;241;43m.\u001b[39;49m\u001b[43mcheck_response\u001b[49m\u001b[43m(\u001b[49m\u001b[43mresponse\u001b[49m\u001b[43m)\u001b[49m\n\u001b[0;32m    355\u001b[0m     response[\u001b[38;5;124m\"\u001b[39m\u001b[38;5;124mvalue\u001b[39m\u001b[38;5;124m\"\u001b[39m] \u001b[38;5;241m=\u001b[39m \u001b[38;5;28mself\u001b[39m\u001b[38;5;241m.\u001b[39m_unwrap_value(response\u001b[38;5;241m.\u001b[39mget(\u001b[38;5;124m\"\u001b[39m\u001b[38;5;124mvalue\u001b[39m\u001b[38;5;124m\"\u001b[39m, \u001b[38;5;28;01mNone\u001b[39;00m))\n\u001b[0;32m    356\u001b[0m     \u001b[38;5;28;01mreturn\u001b[39;00m response\n",
      "File \u001b[1;32mc:\\Users\\Seho Park\\AppData\\Local\\Programs\\Python\\Python312\\Lib\\site-packages\\selenium\\webdriver\\remote\\errorhandler.py:229\u001b[0m, in \u001b[0;36mErrorHandler.check_response\u001b[1;34m(self, response)\u001b[0m\n\u001b[0;32m    227\u001b[0m         alert_text \u001b[38;5;241m=\u001b[39m value[\u001b[38;5;124m\"\u001b[39m\u001b[38;5;124malert\u001b[39m\u001b[38;5;124m\"\u001b[39m]\u001b[38;5;241m.\u001b[39mget(\u001b[38;5;124m\"\u001b[39m\u001b[38;5;124mtext\u001b[39m\u001b[38;5;124m\"\u001b[39m)\n\u001b[0;32m    228\u001b[0m     \u001b[38;5;28;01mraise\u001b[39;00m exception_class(message, screen, stacktrace, alert_text)  \u001b[38;5;66;03m# type: ignore[call-arg]  # mypy is not smart enough here\u001b[39;00m\n\u001b[1;32m--> 229\u001b[0m \u001b[38;5;28;01mraise\u001b[39;00m exception_class(message, screen, stacktrace)\n",
      "\u001b[1;31mNoSuchElementException\u001b[0m: Message: no such element: Unable to locate element: {\"method\":\"xpath\",\"selector\":\"//span[@class='_ap3a _aaco _aacw _aacx _aad7 _aade']\"}\n  (Session info: chrome=129.0.6668.101); For documentation on this error, please visit: https://www.selenium.dev/documentation/webdriver/troubleshooting/errors#no-such-element-exception\nStacktrace:\n\tGetHandleVerifier [0x00007FF6068EB095+29557]\n\t(No symbol) [0x00007FF60685FA50]\n\t(No symbol) [0x00007FF60671B56A]\n\t(No symbol) [0x00007FF60676F695]\n\t(No symbol) [0x00007FF60676F8EC]\n\t(No symbol) [0x00007FF6067BB777]\n\t(No symbol) [0x00007FF6067971CF]\n\t(No symbol) [0x00007FF6067B851C]\n\t(No symbol) [0x00007FF606796F33]\n\t(No symbol) [0x00007FF60676116F]\n\t(No symbol) [0x00007FF6067622D1]\n\tGetHandleVerifier [0x00007FF606C1C96D+3378253]\n\tGetHandleVerifier [0x00007FF606C68497+3688311]\n\tGetHandleVerifier [0x00007FF606C5D1CB+3642539]\n\tGetHandleVerifier [0x00007FF6069AA6B6+813462]\n\t(No symbol) [0x00007FF60686AB5F]\n\t(No symbol) [0x00007FF606866B74]\n\t(No symbol) [0x00007FF606866D10]\n\t(No symbol) [0x00007FF606855C1F]\n\tBaseThreadInitThunk [0x00007FFEEEE97374+20]\n\tRtlUserThreadStart [0x00007FFEF001CC91+33]\n"
     ]
    }
   ],
   "source": [
    "feed_infos = itfc.get_feed_infos(feed_urls)"
   ]
  },
  {
   "cell_type": "code",
   "execution_count": 406,
   "metadata": {},
   "outputs": [],
   "source": [
    "tag_name = itfc.insta_elements.get(\"image\").get(\"tag_name\")\n",
    "classname = itfc.insta_elements.get(\"image\").get(\"classname\")\n",
    "parent_tag_name = itfc.insta_elements.get(\"image\").get(\"parent_tag_name\")\n",
    "parent_classname = itfc.insta_elements.get(\"image\").get(\"parent_classname\")\n",
    "\n",
    "\n",
    "image_urls = []\n",
    "    \n",
    "image_elems = itfc.driver.find_elements(\n",
    "    By.XPATH, \n",
    "    f\"//{parent_tag_name}[@class='{parent_classname}']//{tag_name}[@class='{classname}']\"\n",
    ")"
   ]
  },
  {
   "cell_type": "code",
   "execution_count": 408,
   "metadata": {},
   "outputs": [
    {
     "ename": "IndexError",
     "evalue": "list index out of range",
     "output_type": "error",
     "traceback": [
      "\u001b[1;31m---------------------------------------------------------------------------\u001b[0m",
      "\u001b[1;31mIndexError\u001b[0m                                Traceback (most recent call last)",
      "Cell \u001b[1;32mIn[408], line 1\u001b[0m\n\u001b[1;32m----> 1\u001b[0m \u001b[43mimage_elems\u001b[49m\u001b[43m[\u001b[49m\u001b[38;5;241;43m0\u001b[39;49m\u001b[43m]\u001b[49m\u001b[38;5;241m.\u001b[39mget_attribute(\u001b[38;5;124m\"\u001b[39m\u001b[38;5;124msrc\u001b[39m\u001b[38;5;124m\"\u001b[39m)\n",
      "\u001b[1;31mIndexError\u001b[0m: list index out of range"
     ]
    }
   ],
   "source": [
    "image_elems[0].get_attribute(\"src\")"
   ]
  },
  {
   "cell_type": "code",
   "execution_count": 211,
   "metadata": {},
   "outputs": [
    {
     "name": "stdout",
     "output_type": "stream",
     "text": [
      "로딩되지 않음, 살짝 위로 스크롤 후 다시 아래로.\n",
      "로딩되지 않음, 살짝 위로 스크롤 후 다시 아래로.\n",
      "로딩되지 않음, 살짝 위로 스크롤 후 다시 아래로.\n",
      "로딩되지 않음, 살짝 위로 스크롤 후 다시 아래로.\n",
      "로딩되지 않음, 살짝 위로 스크롤 후 다시 아래로.\n",
      "로딩되지 않음, 살짝 위로 스크롤 후 다시 아래로.\n",
      "로딩되지 않음, 살짝 위로 스크롤 후 다시 아래로.\n",
      "로딩되지 않음, 살짝 위로 스크롤 후 다시 아래로.\n",
      "로딩되지 않음, 살짝 위로 스크롤 후 다시 아래로.\n",
      "최대 시도 횟수 도달, 페이지를 새로고침합니다.\n",
      "로딩되지 않음, 살짝 위로 스크롤 후 다시 아래로.\n",
      "로딩되지 않음, 살짝 위로 스크롤 후 다시 아래로.\n",
      "로딩되지 않음, 살짝 위로 스크롤 후 다시 아래로.\n",
      "로딩되지 않음, 살짝 위로 스크롤 후 다시 아래로.\n",
      "로딩되지 않음, 살짝 위로 스크롤 후 다시 아래로.\n",
      "최대 시도 횟수 도달, 페이지를 새로고침합니다.\n",
      "로딩되지 않음, 살짝 위로 스크롤 후 다시 아래로.\n",
      "로딩되지 않음, 살짝 위로 스크롤 후 다시 아래로.\n"
     ]
    },
    {
     "ename": "KeyboardInterrupt",
     "evalue": "",
     "output_type": "error",
     "traceback": [
      "\u001b[1;31m---------------------------------------------------------------------------\u001b[0m",
      "\u001b[1;31mKeyboardInterrupt\u001b[0m                         Traceback (most recent call last)",
      "Cell \u001b[1;32mIn[211], line 1\u001b[0m\n\u001b[1;32m----> 1\u001b[0m \u001b[43mitfc\u001b[49m\u001b[38;5;241;43m.\u001b[39;49m\u001b[43mcrawl\u001b[49m\u001b[43m(\u001b[49m\u001b[43mtags\u001b[49m\u001b[43m \u001b[49m\u001b[38;5;241;43m=\u001b[39;49m\u001b[43m \u001b[49m\u001b[43m[\u001b[49m\u001b[38;5;124;43m\"\u001b[39;49m\u001b[38;5;124;43mup가전\u001b[39;49m\u001b[38;5;124;43m\"\u001b[39;49m\u001b[43m]\u001b[49m\u001b[43m)\u001b[49m\n",
      "File \u001b[1;32mc:\\Users\\Seho Park\\Documents\\Crawl\\insta_crawl.py:565\u001b[0m, in \u001b[0;36mInsta_Tag_Feed_Crawler.crawl\u001b[1;34m(self, tags)\u001b[0m\n\u001b[0;32m    561\u001b[0m     \u001b[38;5;28mself\u001b[39m\u001b[38;5;241m.\u001b[39mtags \u001b[38;5;241m=\u001b[39m tags\n\u001b[0;32m    564\u001b[0m \u001b[38;5;28;01mfor\u001b[39;00m tag \u001b[38;5;129;01min\u001b[39;00m tags:\n\u001b[1;32m--> 565\u001b[0m     feed_urls \u001b[38;5;241m=\u001b[39m \u001b[38;5;28;43mself\u001b[39;49m\u001b[38;5;241;43m.\u001b[39;49m\u001b[43mget_feed_urls_from_search_result\u001b[49m\u001b[43m(\u001b[49m\u001b[43mtag\u001b[49m\u001b[43m \u001b[49m\u001b[38;5;241;43m=\u001b[39;49m\u001b[43m \u001b[49m\u001b[43mtag\u001b[49m\u001b[43m)\u001b[49m\n\u001b[0;32m    567\u001b[0m feed_infos \u001b[38;5;241m=\u001b[39m []\n\u001b[0;32m    568\u001b[0m \u001b[38;5;28;01mfor\u001b[39;00m feed_url \u001b[38;5;129;01min\u001b[39;00m feed_urls:\n",
      "File \u001b[1;32mc:\\Users\\Seho Park\\Documents\\Crawl\\insta_crawl.py:406\u001b[0m, in \u001b[0;36mInsta_Tag_Feed_Crawler.get_feed_urls_from_search_result\u001b[1;34m(self, tag)\u001b[0m\n\u001b[0;32m    403\u001b[0m \u001b[38;5;28mself\u001b[39m\u001b[38;5;241m.\u001b[39mdriver\u001b[38;5;241m.\u001b[39mexecute_script(\u001b[38;5;124m\"\u001b[39m\u001b[38;5;124mwindow.scrollTo(0, document.body.scrollHeight);\u001b[39m\u001b[38;5;124m\"\u001b[39m)\n\u001b[0;32m    405\u001b[0m \u001b[38;5;66;03m# 10초 대기, 페이지 로딩 대기\u001b[39;00m\n\u001b[1;32m--> 406\u001b[0m \u001b[43mtime\u001b[49m\u001b[38;5;241;43m.\u001b[39;49m\u001b[43msleep\u001b[49m\u001b[43m(\u001b[49m\u001b[38;5;241;43m2\u001b[39;49m\u001b[43m)\u001b[49m\n\u001b[0;32m    408\u001b[0m \u001b[38;5;66;03m# 새로운 페이지 높이를 확인하여 스크롤이 끝났는지 체크\u001b[39;00m\n\u001b[0;32m    409\u001b[0m new_height \u001b[38;5;241m=\u001b[39m \u001b[38;5;28mself\u001b[39m\u001b[38;5;241m.\u001b[39mdriver\u001b[38;5;241m.\u001b[39mexecute_script(\u001b[38;5;124m\"\u001b[39m\u001b[38;5;124mreturn document.body.scrollHeight\u001b[39m\u001b[38;5;124m\"\u001b[39m)\n",
      "\u001b[1;31mKeyboardInterrupt\u001b[0m: "
     ]
    }
   ],
   "source": [
    "itfc.crawl(tags = [\"up가전\"])"
   ]
  }
 ],
 "metadata": {
  "kernelspec": {
   "display_name": "Python 3",
   "language": "python",
   "name": "python3"
  },
  "language_info": {
   "codemirror_mode": {
    "name": "ipython",
    "version": 3
   },
   "file_extension": ".py",
   "mimetype": "text/x-python",
   "name": "python",
   "nbconvert_exporter": "python",
   "pygments_lexer": "ipython3",
   "version": "3.12.0"
  }
 },
 "nbformat": 4,
 "nbformat_minor": 2
}
